{
 "cells": [
  {
   "cell_type": "markdown",
   "metadata": {},
   "source": [
    "# EDA"
   ]
  },
  {
   "cell_type": "markdown",
   "metadata": {},
   "source": [
    "- The os module has a perfect method to list files in a directory.\n",
    "- Pandas json normalize could work here but is not necessary to convert the JSON data to a dataframe.\n",
    "- You may need a nested for-loop to access each sale!\n",
    "- We've put a lot of time into creating the structure of this repository, and it's a good example for future projects.  In the file functions_variables.py, there is an example function that you can import and use.  If you have any variables, functions or classes that you want to make, they can be put in the functions_variables.py file and imported into a notebook.  Note that only .py files can be imported into a notebook. If you want to import everything from a .py file, you can use the following:\n",
    "```python\n",
    "from functions_variables import *\n",
    "```\n",
    "If you just import functions_variables, then each object from the file will need to be prepended with \"functions_variables\"\\\n",
    "Using this .py file will keep your notebooks very organized and make it easier to reuse code between notebooks."
   ]
  },
  {
   "cell_type": "code",
   "metadata": {
    "ExecuteTime": {
     "end_time": "2024-12-01T16:35:20.825828Z",
     "start_time": "2024-12-01T16:35:20.823836Z"
    }
   },
   "source": [
    "# (this is not an exhaustive list of libraries)\n",
    "import pandas as pd\n",
    "import numpy as np\n",
    "import os\n",
    "import json\n",
    "from pprint import pprint\n",
    "from functions_variables import threshold_column, ohe_column, json_to_df\n"
   ],
   "outputs": [],
   "execution_count": 16
  },
  {
   "cell_type": "markdown",
   "metadata": {},
   "source": [
    "## Data Importing"
   ]
  },
  {
   "cell_type": "code",
   "metadata": {
    "ExecuteTime": {
     "end_time": "2024-12-01T16:35:20.842103Z",
     "start_time": "2024-12-01T16:35:20.838071Z"
    }
   },
   "source": [
    "# load one file first to see what type of data you're dealing with and what attributes it has\n",
    "tmp_df = pd.read_json('../data/housing/AK_Juneau_0.json')\n",
    "# tmp_df['data']['results']"
   ],
   "outputs": [],
   "execution_count": 17
  },
  {
   "cell_type": "code",
   "metadata": {
    "ExecuteTime": {
     "end_time": "2024-12-01T16:35:20.860653Z",
     "start_time": "2024-12-01T16:35:20.858739Z"
    }
   },
   "source": [
    "# Create empty DataFrame for housing\n",
    "df = pd.DataFrame()\n",
    "# The path to the data files\n",
    "dir_path = '../data/housing/'"
   ],
   "outputs": [],
   "execution_count": 18
  },
  {
   "metadata": {
    "ExecuteTime": {
     "end_time": "2024-12-01T16:35:21.956567Z",
     "start_time": "2024-12-01T16:35:20.872462Z"
    }
   },
   "cell_type": "code",
   "source": [
    "# loop over all files and put them into a dataframe\n",
    "# n = 0\n",
    "for file_name in sorted(os.listdir(dir_path)):\n",
    "    # n += 1\n",
    "    if file_name.endswith('.json'):\n",
    "        # print(f'File: {file_name}')\n",
    "        file_path = os.path.join(dir_path, file_name)\n",
    "        tmp = json_to_df(file_path)\n",
    "        tmp = tmp.dropna(axis=1, how='all')\n",
    "        df = pd.concat([df, tmp], ignore_index=True)\n",
    "    # if n > 1: break\n",
    "# df"
   ],
   "outputs": [],
   "execution_count": 19
  },
  {
   "cell_type": "markdown",
   "metadata": {},
   "source": "## Data Cleaning and Wrangling"
  },
  {
   "cell_type": "markdown",
   "metadata": {},
   "source": [
    "At this point, ensure that you have all sales in a dataframe.\n",
    "- Take a quick look at your data (i.e. `.info()`, `.describe()`) - what do you see?\n",
    "- Is each cell one value, or do some cells have lists?\n",
    "- What are the data types of each column?\n",
    "- Some sales may not actually include the sale price (target).  These rows should be dropped.\n",
    "- There are a lot of NA/None values.  Should these be dropped or replaced with something?\n",
    "    - You can drop rows or use various methods to fills NA's - use your best judgement for each column \n",
    "    - i.e. for some columns (like Garage), NA probably just means no Garage, so 0\n",
    "- Drop columns that aren't needed\n",
    "    - Don't keep the list price because it will be too close to the sale price. Assume we want to predict the price of houses not yet listed"
   ]
  },
  {
   "cell_type": "code",
   "metadata": {
    "ExecuteTime": {
     "end_time": "2024-12-01T16:35:21.974057Z",
     "start_time": "2024-12-01T16:35:21.971878Z"
    }
   },
   "source": "df.shape",
   "outputs": [
    {
     "data": {
      "text/plain": [
       "(8191, 50)"
      ]
     },
     "execution_count": 20,
     "metadata": {},
     "output_type": "execute_result"
    }
   ],
   "execution_count": 20
  },
  {
   "metadata": {
    "ExecuteTime": {
     "end_time": "2024-12-01T16:35:21.990632Z",
     "start_time": "2024-12-01T16:35:21.988927Z"
    }
   },
   "cell_type": "code",
   "source": "# df.info()",
   "outputs": [],
   "execution_count": 21
  },
  {
   "metadata": {
    "ExecuteTime": {
     "end_time": "2024-12-01T16:35:22.007018Z",
     "start_time": "2024-12-01T16:35:22.005086Z"
    }
   },
   "cell_type": "code",
   "source": [
    "columns = df.columns.sort_values().to_list()\n",
    "# columns"
   ],
   "outputs": [],
   "execution_count": 22
  },
  {
   "metadata": {
    "ExecuteTime": {
     "end_time": "2024-12-01T16:35:22.029033Z",
     "start_time": "2024-12-01T16:35:22.022326Z"
    }
   },
   "cell_type": "code",
   "source": [
    "# Rearrange DataFrame columns\n",
    "df = df[columns]"
   ],
   "outputs": [],
   "execution_count": 23
  },
  {
   "metadata": {
    "ExecuteTime": {
     "end_time": "2024-12-01T16:35:22.045033Z",
     "start_time": "2024-12-01T16:35:22.043143Z"
    }
   },
   "cell_type": "code",
   "source": "# load and concatenate data here\n",
   "outputs": [],
   "execution_count": 24
  },
  {
   "metadata": {
    "ExecuteTime": {
     "end_time": "2024-12-01T16:35:22.085389Z",
     "start_time": "2024-12-01T16:35:22.059113Z"
    }
   },
   "cell_type": "code",
   "source": [
    "# drop or replace values as necessary\n",
    "df = df.drop(\n",
    "    columns=[\n",
    "        'branding',\n",
    "        'community.advertisers',\n",
    "        'community.description.name',\n",
    "        # 'description.baths',\n",
    "        # 'description.baths_3qtr',\n",
    "        # 'description.baths_full',\n",
    "        # 'description.baths_half',\n",
    "        # 'description.beds',\n",
    "        # 'description.garage',\n",
    "        # 'description.lot_sqft',\n",
    "        # 'description.sold_date',\n",
    "        # 'description.sold_price',\n",
    "        # 'description.sqft',\n",
    "        # 'description.stories',\n",
    "        'description.sub_type',\n",
    "        'description.type',\n",
    "        # 'description.year_built',\n",
    "        # 'flags.is_foreclosure',\n",
    "        # 'flags.is_new_listing',\n",
    "        # 'flags.is_price_reduced',\n",
    "        'last_update_date',\n",
    "        'lead_attributes.show_contact_an_agent',\n",
    "        # 'list_date',\n",
    "        # 'list_price',\n",
    "        'listing_id',\n",
    "        # 'location.address.city',\n",
    "        # 'location.address.coordinate.lat',\n",
    "        # 'location.address.coordinate.lon',\n",
    "        'location.address.line',\n",
    "        # 'location.address.postal_code',\n",
    "        # 'location.address.state',\n",
    "        # 'location.address.state_code',\n",
    "        # 'location.county.fips_code',\n",
    "        # 'location.county.name',\n",
    "        'location.street_view_url',\n",
    "        # 'matterport',\n",
    "        'other_listings.rdc',\n",
    "        'permalink',\n",
    "        'photos',\n",
    "        # 'price_reduced_amount',\n",
    "        'primary_photo.href',\n",
    "        # 'products.brand_name',\n",
    "        # 'property_id',\n",
    "        'source.agents',\n",
    "        'source.plan_id',\n",
    "        'source.spec_id',\n",
    "        # 'source.type',\n",
    "        # 'status',\n",
    "        # 'tags',\n",
    "        'virtual_tours'\n",
    "    ],\n",
    "    errors='ignore'\n",
    ")"
   ],
   "outputs": [],
   "execution_count": 25
  },
  {
   "metadata": {
    "ExecuteTime": {
     "end_time": "2024-12-01T16:35:22.104705Z",
     "start_time": "2024-12-01T16:35:22.099616Z"
    }
   },
   "cell_type": "code",
   "source": [
    "# Rename columns - to remove name prefixes\n",
    "columns = {col: col.split('.')[-1] for col in df.columns}\n",
    "# columns\n",
    "df.rename(columns=columns, inplace=True)\n",
    "df = df[sorted(df.columns)]\n",
    "# df.head()"
   ],
   "outputs": [],
   "execution_count": 26
  },
  {
   "cell_type": "markdown",
   "metadata": {},
   "source": [
    "### Dealing with Tags"
   ]
  },
  {
   "cell_type": "markdown",
   "metadata": {},
   "source": [
    "Consider the fact that with tags, there are a lot of categorical variables.\n",
    "- How many columns would we have if we OHE tags, city and state?\n",
    "- Perhaps we can get rid of tags that have a low frequency."
   ]
  },
  {
   "cell_type": "code",
   "metadata": {
    "ExecuteTime": {
     "end_time": "2024-12-01T16:41:42.325073Z",
     "start_time": "2024-12-01T16:41:42.293247Z"
    }
   },
   "source": [
    "# OHE categorical variables / tags here\n",
    "# tags will have to be done manually\n",
    "df['tags'] = threshold_column(df['tags'], 'tags', 1000)\n",
    "# df['city'] = threshold_column(df['city'], 'city', 100)\n",
    "# df['state'] = threshold_column(df['state'], 'state', 10)"
   ],
   "outputs": [],
   "execution_count": 44
  },
  {
   "metadata": {
    "ExecuteTime": {
     "end_time": "2024-12-01T16:46:22.479146Z",
     "start_time": "2024-12-01T16:46:22.445956Z"
    }
   },
   "cell_type": "code",
   "source": [
    "# One-Hot Encode the columns, considering low frequency removal for 'tags'\n",
    "\n",
    "# Get dummy variables\n",
    "dummies_tags = ohe_column(df['tags'], 'tags')\n",
    "# dummies_city = ohe_column(df['city'], 'city')\n",
    "# dummies_state = ohe_column(df['state'], 'state')\n",
    "ohe_df = pd.concat([df, dummies_tags], axis=1)\n",
    "# ohe_df = pd.concat([ohe_df, dummies_city], axis=1)\n",
    "# ohe_df = pd.concat([ohe_df, dummies_state], axis=1)\n",
    "ohe_df.drop(['tags'], axis=1, inplace=True)\n",
    "# ohe_df.drop(['city'], axis=1, inplace=True)\n",
    "# ohe_df.drop(['state'], axis=1, inplace=True)\n",
    "ohe_df.shape"
   ],
   "outputs": [
    {
     "data": {
      "text/plain": [
       "(59071, 55)"
      ]
     },
     "execution_count": 51,
     "metadata": {},
     "output_type": "execute_result"
    }
   ],
   "execution_count": 51
  },
  {
   "metadata": {
    "ExecuteTime": {
     "end_time": "2024-12-01T16:46:25.347602Z",
     "start_time": "2024-12-01T16:46:25.338295Z"
    }
   },
   "cell_type": "code",
   "source": "ohe_df.head()",
   "outputs": [
    {
     "data": {
      "text/plain": [
       "   baths  baths_3qtr  baths_full  baths_half  beds    brand_name    city  \\\n",
       "0    2.0         NaN         2.0         NaN   3.0  basic_opt_in  Juneau   \n",
       "1    NaN         NaN         NaN         NaN   NaN           NaN  Juneau   \n",
       "2    NaN         NaN         NaN         NaN   NaN           NaN  Juneau   \n",
       "3    NaN         NaN         NaN         NaN   NaN           NaN  Juneau   \n",
       "4    NaN         NaN         NaN         NaN   NaN           NaN  Juneau   \n",
       "\n",
       "  fips_code  garage is_foreclosure  ... garage_1_or_more garage_2_or_more  \\\n",
       "0       NaN     1.0            NaN  ...            False            False   \n",
       "1       NaN     NaN            NaN  ...            False            False   \n",
       "2       NaN     NaN            NaN  ...            False            False   \n",
       "3       NaN     NaN            NaN  ...            False            False   \n",
       "4       NaN     NaN            NaN  ...            False            False   \n",
       "\n",
       "   hardwood_floors laundry_room  recreation_facilities  shopping  \\\n",
       "0            False        False                  False     False   \n",
       "1            False        False                  False     False   \n",
       "2             True        False                  False     False   \n",
       "3            False        False                   True     False   \n",
       "4            False        False                  False     False   \n",
       "\n",
       "   single_story two_or_more_stories   view washer_dryer  \n",
       "0         False               False  False        False  \n",
       "1         False               False  False        False  \n",
       "2         False               False  False        False  \n",
       "3         False               False  False        False  \n",
       "4         False               False  False        False  \n",
       "\n",
       "[5 rows x 55 columns]"
      ],
      "text/html": [
       "<div>\n",
       "<style scoped>\n",
       "    .dataframe tbody tr th:only-of-type {\n",
       "        vertical-align: middle;\n",
       "    }\n",
       "\n",
       "    .dataframe tbody tr th {\n",
       "        vertical-align: top;\n",
       "    }\n",
       "\n",
       "    .dataframe thead th {\n",
       "        text-align: right;\n",
       "    }\n",
       "</style>\n",
       "<table border=\"1\" class=\"dataframe\">\n",
       "  <thead>\n",
       "    <tr style=\"text-align: right;\">\n",
       "      <th></th>\n",
       "      <th>baths</th>\n",
       "      <th>baths_3qtr</th>\n",
       "      <th>baths_full</th>\n",
       "      <th>baths_half</th>\n",
       "      <th>beds</th>\n",
       "      <th>brand_name</th>\n",
       "      <th>city</th>\n",
       "      <th>fips_code</th>\n",
       "      <th>garage</th>\n",
       "      <th>is_foreclosure</th>\n",
       "      <th>...</th>\n",
       "      <th>garage_1_or_more</th>\n",
       "      <th>garage_2_or_more</th>\n",
       "      <th>hardwood_floors</th>\n",
       "      <th>laundry_room</th>\n",
       "      <th>recreation_facilities</th>\n",
       "      <th>shopping</th>\n",
       "      <th>single_story</th>\n",
       "      <th>two_or_more_stories</th>\n",
       "      <th>view</th>\n",
       "      <th>washer_dryer</th>\n",
       "    </tr>\n",
       "  </thead>\n",
       "  <tbody>\n",
       "    <tr>\n",
       "      <th>0</th>\n",
       "      <td>2.0</td>\n",
       "      <td>NaN</td>\n",
       "      <td>2.0</td>\n",
       "      <td>NaN</td>\n",
       "      <td>3.0</td>\n",
       "      <td>basic_opt_in</td>\n",
       "      <td>Juneau</td>\n",
       "      <td>NaN</td>\n",
       "      <td>1.0</td>\n",
       "      <td>NaN</td>\n",
       "      <td>...</td>\n",
       "      <td>False</td>\n",
       "      <td>False</td>\n",
       "      <td>False</td>\n",
       "      <td>False</td>\n",
       "      <td>False</td>\n",
       "      <td>False</td>\n",
       "      <td>False</td>\n",
       "      <td>False</td>\n",
       "      <td>False</td>\n",
       "      <td>False</td>\n",
       "    </tr>\n",
       "    <tr>\n",
       "      <th>1</th>\n",
       "      <td>NaN</td>\n",
       "      <td>NaN</td>\n",
       "      <td>NaN</td>\n",
       "      <td>NaN</td>\n",
       "      <td>NaN</td>\n",
       "      <td>NaN</td>\n",
       "      <td>Juneau</td>\n",
       "      <td>NaN</td>\n",
       "      <td>NaN</td>\n",
       "      <td>NaN</td>\n",
       "      <td>...</td>\n",
       "      <td>False</td>\n",
       "      <td>False</td>\n",
       "      <td>False</td>\n",
       "      <td>False</td>\n",
       "      <td>False</td>\n",
       "      <td>False</td>\n",
       "      <td>False</td>\n",
       "      <td>False</td>\n",
       "      <td>False</td>\n",
       "      <td>False</td>\n",
       "    </tr>\n",
       "    <tr>\n",
       "      <th>2</th>\n",
       "      <td>NaN</td>\n",
       "      <td>NaN</td>\n",
       "      <td>NaN</td>\n",
       "      <td>NaN</td>\n",
       "      <td>NaN</td>\n",
       "      <td>NaN</td>\n",
       "      <td>Juneau</td>\n",
       "      <td>NaN</td>\n",
       "      <td>NaN</td>\n",
       "      <td>NaN</td>\n",
       "      <td>...</td>\n",
       "      <td>False</td>\n",
       "      <td>False</td>\n",
       "      <td>True</td>\n",
       "      <td>False</td>\n",
       "      <td>False</td>\n",
       "      <td>False</td>\n",
       "      <td>False</td>\n",
       "      <td>False</td>\n",
       "      <td>False</td>\n",
       "      <td>False</td>\n",
       "    </tr>\n",
       "    <tr>\n",
       "      <th>3</th>\n",
       "      <td>NaN</td>\n",
       "      <td>NaN</td>\n",
       "      <td>NaN</td>\n",
       "      <td>NaN</td>\n",
       "      <td>NaN</td>\n",
       "      <td>NaN</td>\n",
       "      <td>Juneau</td>\n",
       "      <td>NaN</td>\n",
       "      <td>NaN</td>\n",
       "      <td>NaN</td>\n",
       "      <td>...</td>\n",
       "      <td>False</td>\n",
       "      <td>False</td>\n",
       "      <td>False</td>\n",
       "      <td>False</td>\n",
       "      <td>True</td>\n",
       "      <td>False</td>\n",
       "      <td>False</td>\n",
       "      <td>False</td>\n",
       "      <td>False</td>\n",
       "      <td>False</td>\n",
       "    </tr>\n",
       "    <tr>\n",
       "      <th>4</th>\n",
       "      <td>NaN</td>\n",
       "      <td>NaN</td>\n",
       "      <td>NaN</td>\n",
       "      <td>NaN</td>\n",
       "      <td>NaN</td>\n",
       "      <td>NaN</td>\n",
       "      <td>Juneau</td>\n",
       "      <td>NaN</td>\n",
       "      <td>NaN</td>\n",
       "      <td>NaN</td>\n",
       "      <td>...</td>\n",
       "      <td>False</td>\n",
       "      <td>False</td>\n",
       "      <td>False</td>\n",
       "      <td>False</td>\n",
       "      <td>False</td>\n",
       "      <td>False</td>\n",
       "      <td>False</td>\n",
       "      <td>False</td>\n",
       "      <td>False</td>\n",
       "      <td>False</td>\n",
       "    </tr>\n",
       "  </tbody>\n",
       "</table>\n",
       "<p>5 rows × 55 columns</p>\n",
       "</div>"
      ]
     },
     "execution_count": 52,
     "metadata": {},
     "output_type": "execute_result"
    }
   ],
   "execution_count": 52
  },
  {
   "cell_type": "markdown",
   "metadata": {},
   "source": [
    "### Dealing with Cities"
   ]
  },
  {
   "cell_type": "markdown",
   "metadata": {},
   "source": [
    "- Sales will vary drastically between cities and states.  Is there a way to keep information about which city it is without OHE?\n",
    "- Could we label encode or ordinal encode?  Yes, but this may have undesirable effects, giving nominal data ordinal values.\n",
    "- What we can do is use our training data to encode the mean sale price by city as a feature (a.k.a. Target Encoding)\n",
    "    - We can do this as long as we ONLY use the training data - we're using the available data to give us a 'starting guess' of the price for each city, without needing to encode city explicitly\n",
    "- If you replace cities or states with numerical values (like the mean price), make sure that the data is split so that we don't leak data into the training selection. This is a great time to train test split. Compute on the training data, and join these values to the test data\n",
    "- Note that you *may* have cities in the test set that are not in the training set. You don't want these to be NA, so maybe you can fill them with the overall mean"
   ]
  },
  {
   "cell_type": "code",
   "metadata": {
    "ExecuteTime": {
     "end_time": "2024-12-01T16:35:22.411557Z",
     "start_time": "2024-12-01T16:35:22.409882Z"
    }
   },
   "source": [
    "# perform train test split here\n",
    "# do something with state and city"
   ],
   "outputs": [],
   "execution_count": 29
  },
  {
   "cell_type": "markdown",
   "metadata": {},
   "source": [
    "## Extra Data - STRETCH\n",
    "\n",
    "> This doesn't need to be part of your Minimum Viable Product (MVP). We recommend you write a functional, basic pipeline first, then circle back and join new data if you have time\n",
    "\n",
    "> If you do this, try to write your downstream steps in a way it will still work on a dataframe with different features!\n",
    "\n",
    "- You're not limited to just using the data provided to you. Think/ do some research about other features that might be useful to predict housing prices. \n",
    "- Can you import and join this data? Make sure you do any necessary preprocessing and make sure it is joined correctly.\n",
    "- Example suggestion: could mortgage interest rates in the year of the listing affect the price? "
   ]
  },
  {
   "cell_type": "code",
   "metadata": {
    "ExecuteTime": {
     "end_time": "2024-12-01T16:35:22.430650Z",
     "start_time": "2024-12-01T16:35:22.429159Z"
    }
   },
   "source": [
    "# import, join and preprocess new data here"
   ],
   "outputs": [],
   "execution_count": 30
  },
  {
   "cell_type": "markdown",
   "metadata": {},
   "source": [
    "## EDA/ Visualization\n",
    "\n",
    "Remember all of the EDA that you've been learning about?  Now is a perfect time for it!\n",
    "- Look at distributions of numerical variables to see the shape of the data and detect outliers.    \n",
    "    - Consider transforming very skewed variables\n",
    "- Scatterplots of a numerical variable and the target go a long way to show correlations.\n",
    "- A heatmap will help detect highly correlated features, and we don't want these.\n",
    "    - You may have too many features to do this, in which case you can simply compute the most correlated feature-pairs and list them\n",
    "- Is there any overlap in any of the features? (redundant information, like number of this or that room...)"
   ]
  },
  {
   "cell_type": "code",
   "metadata": {
    "ExecuteTime": {
     "end_time": "2024-12-01T16:35:22.448208Z",
     "start_time": "2024-12-01T16:35:22.446494Z"
    }
   },
   "source": [
    "# perform EDA here"
   ],
   "outputs": [],
   "execution_count": 31
  },
  {
   "cell_type": "markdown",
   "metadata": {},
   "source": [
    "## Scaling and Finishing Up"
   ]
  },
  {
   "cell_type": "markdown",
   "metadata": {},
   "source": [
    "Now is a great time to scale the data and save it once it's preprocessed.\n",
    "- You can save it in your data folder, but you may want to make a new `processed/` subfolder to keep it organized"
   ]
  },
  {
   "cell_type": "code",
   "metadata": {
    "ExecuteTime": {
     "end_time": "2024-12-01T16:35:22.464761Z",
     "start_time": "2024-12-01T16:35:22.463484Z"
    }
   },
   "source": [],
   "outputs": [],
   "execution_count": null
  }
 ],
 "metadata": {
  "kernelspec": {
   "display_name": "Python 3",
   "language": "python",
   "name": "python3"
  },
  "language_info": {
   "codemirror_mode": {
    "name": "ipython",
    "version": 3
   },
   "file_extension": ".py",
   "mimetype": "text/x-python",
   "name": "python",
   "nbconvert_exporter": "python",
   "pygments_lexer": "ipython3",
   "version": "3.9.0"
  }
 },
 "nbformat": 4,
 "nbformat_minor": 2
}
