{
 "cells": [
  {
   "cell_type": "markdown",
   "metadata": {},
   "source": [
    "# EDA"
   ]
  },
  {
   "cell_type": "markdown",
   "metadata": {},
   "source": [
    "- The os module has a perfect method to list files in a directory.\n",
    "- Pandas json normalize could work here but is not necessary to convert the JSON data to a dataframe.\n",
    "- You may need a nested for-loop to access each sale!\n",
    "- We've put a lot of time into creating the structure of this repository, and it's a good example for future projects.  In the file functions_variables.py, there is an example function that you can import and use.  If you have any variables, functions or classes that you want to make, they can be put in the functions_variables.py file and imported into a notebook.  Note that only .py files can be imported into a notebook. If you want to import everything from a .py file, you can use the following:\n",
    "```python\n",
    "from functions_variables import *\n",
    "```\n",
    "If you just import functions_variables, then each object from the file will need to be prepended with \"functions_variables\"\\\n",
    "Using this .py file will keep your notebooks very organized and make it easier to reuse code between notebooks."
   ]
  },
  {
   "metadata": {
    "ExecuteTime": {
     "end_time": "2024-12-03T16:57:16.679576Z",
     "start_time": "2024-12-03T16:57:16.461275Z"
    }
   },
   "cell_type": "code",
   "source": [
    "# (this is not an exhaustive list of libraries)\n",
    "import pandas as pd\n",
    "import numpy as np\n",
    "import os\n",
    "import json\n",
    "from pprint import pprint\n",
    "from functions_variables import threshold_column, ohe_column, json_to_df, encode_tags\n"
   ],
   "outputs": [],
   "execution_count": 1
  },
  {
   "metadata": {},
   "cell_type": "markdown",
   "source": "## Data Importing"
  },
  {
   "metadata": {
    "ExecuteTime": {
     "end_time": "2024-12-03T16:57:16.687569Z",
     "start_time": "2024-12-03T16:57:16.683356Z"
    }
   },
   "cell_type": "code",
   "source": [
    "# load one file first to see what type of data you're dealing with and what attributes it has\n",
    "tmp_df = pd.read_json('../data/housing/AK_Juneau_0.json')\n",
    "# tmp_df['data']['results']"
   ],
   "outputs": [],
   "execution_count": 2
  },
  {
   "metadata": {
    "ExecuteTime": {
     "end_time": "2024-12-03T16:57:16.753988Z",
     "start_time": "2024-12-03T16:57:16.751970Z"
    }
   },
   "cell_type": "code",
   "source": [
    "# Create empty DataFrame for housing\n",
    "df = pd.DataFrame()\n",
    "# The path to the data files\n",
    "dir_path = '../data/housing/'"
   ],
   "outputs": [],
   "execution_count": 3
  },
  {
   "metadata": {
    "ExecuteTime": {
     "end_time": "2024-12-03T16:57:17.760550Z",
     "start_time": "2024-12-03T16:57:16.761412Z"
    }
   },
   "cell_type": "code",
   "source": [
    "# loop over all files and put them into a dataframe\n",
    "# n = 0\n",
    "for file_name in sorted(os.listdir(dir_path)):\n",
    "    # n += 1\n",
    "    if file_name.endswith('.json'):\n",
    "        # print(f'File: {file_name}')\n",
    "        file_path = os.path.join(dir_path, file_name)\n",
    "        tmp = json_to_df(file_path)\n",
    "        tmp = tmp.dropna(axis=1, how='all')\n",
    "        df = pd.concat([df, tmp], ignore_index=True)\n",
    "    # if n > 1: break\n",
    "# df"
   ],
   "outputs": [],
   "execution_count": 4
  },
  {
   "metadata": {},
   "cell_type": "markdown",
   "source": "## Data Cleaning and Wrangling"
  },
  {
   "metadata": {},
   "cell_type": "markdown",
   "source": [
    "At this point, ensure that you have all sales in a dataframe.\n",
    "- Take a quick look at your data (i.e. `.info()`, `.describe()`) - what do you see?\n",
    "- Is each cell one value, or do some cells have lists?\n",
    "- What are the data types of each column?\n",
    "- Some sales may not actually include the sale price (target).  These rows should be dropped.\n",
    "- There are a lot of NA/None values.  Should these be dropped or replaced with something?\n",
    "    - You can drop rows or use various methods to fills NA's - use your best judgement for each column \n",
    "    - i.e. for some columns (like Garage), NA probably just means no Garage, so 0\n",
    "- Drop columns that aren't needed\n",
    "    - Don't keep the list price because it will be too close to the sale price. Assume we want to predict the price of houses not yet listed"
   ]
  },
  {
   "metadata": {
    "ExecuteTime": {
     "end_time": "2024-12-03T16:57:17.774307Z",
     "start_time": "2024-12-03T16:57:17.770906Z"
    }
   },
   "cell_type": "code",
   "source": "df.shape",
   "outputs": [
    {
     "data": {
      "text/plain": [
       "(8191, 50)"
      ]
     },
     "execution_count": 5,
     "metadata": {},
     "output_type": "execute_result"
    }
   ],
   "execution_count": 5
  },
  {
   "metadata": {
    "ExecuteTime": {
     "end_time": "2024-12-03T16:57:17.786539Z",
     "start_time": "2024-12-03T16:57:17.784919Z"
    }
   },
   "cell_type": "code",
   "source": "# df.info()",
   "outputs": [],
   "execution_count": 6
  },
  {
   "metadata": {
    "ExecuteTime": {
     "end_time": "2024-12-03T16:57:17.798656Z",
     "start_time": "2024-12-03T16:57:17.796905Z"
    }
   },
   "cell_type": "code",
   "source": [
    "columns = df.columns.sort_values().to_list()\n",
    "# columns"
   ],
   "outputs": [],
   "execution_count": 7
  },
  {
   "metadata": {
    "ExecuteTime": {
     "end_time": "2024-12-03T16:57:17.816463Z",
     "start_time": "2024-12-03T16:57:17.809051Z"
    }
   },
   "cell_type": "code",
   "source": [
    "# Rearrange DataFrame columns\n",
    "df = df[columns]"
   ],
   "outputs": [],
   "execution_count": 8
  },
  {
   "metadata": {
    "ExecuteTime": {
     "end_time": "2024-12-03T16:57:17.829320Z",
     "start_time": "2024-12-03T16:57:17.827391Z"
    }
   },
   "cell_type": "code",
   "source": "# load and concatenate data here\n",
   "outputs": [],
   "execution_count": 9
  },
  {
   "metadata": {
    "ExecuteTime": {
     "end_time": "2024-12-03T16:57:17.863811Z",
     "start_time": "2024-12-03T16:57:17.839918Z"
    }
   },
   "cell_type": "code",
   "source": [
    "# drop or replace values as necessary\n",
    "df = df.drop(\n",
    "    columns=[\n",
    "        'branding',\n",
    "        'community_advertisers',\n",
    "        'community_description_name',\n",
    "        # 'description.baths',\n",
    "        'description_baths_3qtr',\n",
    "        'description_baths_full',\n",
    "        'description_baths_half',\n",
    "        # 'description.beds',\n",
    "        # 'description.garage',\n",
    "        # 'description.lot_sqft',\n",
    "        # 'description.sold_date',\n",
    "        # 'description.sold_price',\n",
    "        # 'description.sqft',\n",
    "        # 'description.stories',\n",
    "        'description_sub_type',\n",
    "        'description_type',\n",
    "        # 'description.year_built',\n",
    "        'flags_is_foreclosure',\n",
    "        'flags_is_new_listing',\n",
    "        'flags_is_price_reduced',\n",
    "        'last_update_date',\n",
    "        'lead_attributes_show_contact_an_agent',\n",
    "        #'list_date',\n",
    "        # 'list_price',\n",
    "        'listing_id',\n",
    "        'location_address_city',\n",
    "        'location_address_coordinate_lat',\n",
    "        'location_address_coordinate_lon',\n",
    "        'location_address_line',\n",
    "        'location_address_postal_code',\n",
    "        # 'location.address.state',\n",
    "        'location_address_state_code',\n",
    "        'location_county_fips_code',\n",
    "        'location_county_name',\n",
    "        'location_street_view_url',\n",
    "        'matterport',\n",
    "        'other_listings_rdc',\n",
    "        'permalink',\n",
    "        'photos',\n",
    "        # 'price_reduced_amount',\n",
    "        'primary_photo_href',\n",
    "        'products_brand_name',\n",
    "        # 'property_id',\n",
    "        'source_agents',\n",
    "        'source_plan_id',\n",
    "        'source_spec_id',\n",
    "        'source_type',\n",
    "        'status',\n",
    "        # 'tags',\n",
    "        'virtual_tours'\n",
    "    ],\n",
    "    errors='ignore'\n",
    ")"
   ],
   "outputs": [],
   "execution_count": 10
  },
  {
   "metadata": {
    "ExecuteTime": {
     "end_time": "2024-12-03T16:57:17.880400Z",
     "start_time": "2024-12-03T16:57:17.873586Z"
    }
   },
   "cell_type": "code",
   "source": [
    "#add 0 to all the rows that have description_garage as NaN\n",
    "df['description_garage'] = df['description_garage'].fillna(0)\n",
    "\n",
    "#check and count the different values in the column description_stories\n",
    "df['description_stories'].value_counts()\n",
    "\n",
    "#drop all the rows that have description_stories = 10.0, 8.0, 6.0\n",
    "df = df[~df['description_stories'].isin([10.0, 8.0, 6.0])]\n",
    "\n",
    "#add 0 to all the rows that have description_garage as NaN\n",
    "df['price_reduced_amount'] = df['price_reduced_amount'].fillna(0)\n",
    "\n",
    "\n",
    "#drop all the rows with missing description_sold_price\n",
    "df = df.dropna(subset=['description_sold_price'])"
   ],
   "outputs": [],
   "execution_count": 11
  },
  {
   "metadata": {
    "ExecuteTime": {
     "end_time": "2024-12-03T16:57:17.896217Z",
     "start_time": "2024-12-03T16:57:17.889686Z"
    }
   },
   "cell_type": "code",
   "source": [
    "# Extract the date part using regex\n",
    "df['list_date'] = df['list_date'].str.extract(r'(\\d{4}-\\d{2}-\\d{2})')\n",
    "\n",
    "# Convert to datetime format\n",
    "df['list_date'] = pd.to_datetime(df['list_date'], format='%Y-%m-%d', errors='coerce')"
   ],
   "outputs": [],
   "execution_count": 12
  },
  {
   "metadata": {
    "ExecuteTime": {
     "end_time": "2024-12-03T16:57:17.937038Z",
     "start_time": "2024-12-03T16:57:17.906184Z"
    }
   },
   "cell_type": "code",
   "source": [
    "# Step 1: Ensure 'list_date' values are strings\n",
    "df['list_date'] = df['list_date'].astype(str)\n",
    "\n",
    "# Step 2: Extract only the date (YYYY-MM-DD)\n",
    "df['list_date'] = df['list_date'].str.extract(r'(\\d{4}-\\d{2}-\\d{2})')\n",
    "\n",
    "# Step 3: Convert to datetime format\n",
    "df['list_date'] = pd.to_datetime(df['list_date'], format='%Y-%m-%d', errors='coerce')\n"
   ],
   "outputs": [],
   "execution_count": 13
  },
  {
   "metadata": {
    "ExecuteTime": {
     "end_time": "2024-12-03T16:57:17.953729Z",
     "start_time": "2024-12-03T16:57:17.947103Z"
    }
   },
   "cell_type": "code",
   "source": [
    "df['list_date'] = pd.to_datetime(df['list_date'], errors='coerce')\n",
    "df['description_sold_date'] = pd.to_datetime(df['description_sold_date'], errors='coerce')"
   ],
   "outputs": [],
   "execution_count": 14
  },
  {
   "metadata": {
    "ExecuteTime": {
     "end_time": "2024-12-03T16:57:17.966922Z",
     "start_time": "2024-12-03T16:57:17.963137Z"
    }
   },
   "cell_type": "code",
   "source": [
    "# Calculate the number of days on the market\n",
    "df['days_on_market'] = (df['description_sold_date'] - df['list_date']).dt.days\n",
    "\n",
    "# Preview the result\n",
    "print(df[['list_date', 'description_sold_date', 'days_on_market']].head())"
   ],
   "outputs": [
    {
     "name": "stdout",
     "output_type": "stream",
     "text": [
      "    list_date description_sold_date  days_on_market\n",
      "30 2023-12-19            2024-01-16            28.0\n",
      "31 2023-11-10            2024-01-16            67.0\n",
      "32 2023-12-19            2024-01-16            28.0\n",
      "33 2023-07-05            2024-01-16           195.0\n",
      "34 2023-10-29            2024-01-12            75.0\n"
     ]
    }
   ],
   "execution_count": 15
  },
  {
   "metadata": {
    "ExecuteTime": {
     "end_time": "2024-12-03T16:57:17.982337Z",
     "start_time": "2024-12-03T16:57:17.976823Z"
    }
   },
   "cell_type": "code",
   "source": "df.info()",
   "outputs": [
    {
     "name": "stdout",
     "output_type": "stream",
     "text": [
      "<class 'pandas.core.frame.DataFrame'>\n",
      "Index: 6693 entries, 30 to 8185\n",
      "Data columns (total 16 columns):\n",
      " #   Column                  Non-Null Count  Dtype         \n",
      "---  ------                  --------------  -----         \n",
      " 0   description_baths       6543 non-null   float64       \n",
      " 1   description_beds        6200 non-null   float64       \n",
      " 2   description_garage      6693 non-null   float64       \n",
      " 3   description_lot_sqft    5772 non-null   float64       \n",
      " 4   description_sold_date   6693 non-null   datetime64[ns]\n",
      " 5   description_sold_price  6693 non-null   float64       \n",
      " 6   description_sqft        6038 non-null   float64       \n",
      " 7   description_stories     5076 non-null   float64       \n",
      " 8   description_year_built  6018 non-null   float64       \n",
      " 9   list_date               6406 non-null   datetime64[ns]\n",
      " 10  list_price              6406 non-null   float64       \n",
      " 11  location_address_state  6693 non-null   object        \n",
      " 12  price_reduced_amount    6693 non-null   float64       \n",
      " 13  property_id             6693 non-null   object        \n",
      " 14  tags                    6307 non-null   object        \n",
      " 15  days_on_market          6406 non-null   float64       \n",
      "dtypes: datetime64[ns](2), float64(11), object(3)\n",
      "memory usage: 888.9+ KB\n"
     ]
    }
   ],
   "execution_count": 16
  },
  {
   "metadata": {
    "ExecuteTime": {
     "end_time": "2024-12-03T16:57:17.994473Z",
     "start_time": "2024-12-03T16:57:17.991705Z"
    }
   },
   "cell_type": "code",
   "source": [
    "from functions_variables import year_sold_listed\n",
    "\n",
    "#apply the function to the DataFrame\n",
    "df = year_sold_listed(df)\n"
   ],
   "outputs": [],
   "execution_count": 17
  },
  {
   "metadata": {
    "ExecuteTime": {
     "end_time": "2024-12-03T16:57:18.007008Z",
     "start_time": "2024-12-03T16:57:18.004346Z"
    }
   },
   "cell_type": "code",
   "source": [
    "#drop description_sold_date and list_date\n",
    "df.drop(columns=['description_sold_date', 'list_date'], inplace=True)"
   ],
   "outputs": [],
   "execution_count": 18
  },
  {
   "metadata": {},
   "cell_type": "markdown",
   "source": "### Dealing with Tags"
  },
  {
   "metadata": {},
   "cell_type": "markdown",
   "source": [
    "Consider the fact that with tags, there are a lot of categorical variables.\n",
    "- How many columns would we have if we OHE tags, city and state?\n",
    "- Perhaps we can get rid of tags that have a low frequency."
   ]
  },
  {
   "metadata": {
    "ExecuteTime": {
     "end_time": "2024-12-03T16:57:18.018295Z",
     "start_time": "2024-12-03T16:57:18.016663Z"
    }
   },
   "cell_type": "code",
   "source": [
    "# OHE categorical variables / tags here\n",
    "# tags will have to be done manually\n"
   ],
   "outputs": [],
   "execution_count": 19
  },
  {
   "metadata": {
    "ExecuteTime": {
     "end_time": "2024-12-03T16:57:18.052122Z",
     "start_time": "2024-12-03T16:57:18.027558Z"
    }
   },
   "cell_type": "code",
   "source": [
    "# One-Hot Encode the columns, considering low frequency removal for 'tags'\n",
    "# Encode tags with top n tags\n",
    "ohe_df = encode_tags(df, 10)\n",
    "ohe_df.drop(['tags'], axis=1, inplace=True)\n",
    "# Get dummy variables\n",
    "# dummies_state = ohe_column(df['state'], 'state')\n",
    "# ohe_df = pd.concat([ohe_df, dummies_state], axis=1)\n",
    "# ohe_df.drop(['state'], axis=1, inplace=True)\n",
    "ohe_df.shape"
   ],
   "outputs": [
    {
     "data": {
      "text/plain": [
       "(30016, 25)"
      ]
     },
     "execution_count": 20,
     "metadata": {},
     "output_type": "execute_result"
    }
   ],
   "execution_count": 20
  },
  {
   "metadata": {
    "ExecuteTime": {
     "end_time": "2024-12-03T16:57:18.070658Z",
     "start_time": "2024-12-03T16:57:18.063774Z"
    }
   },
   "cell_type": "code",
   "source": "ohe_df.head()",
   "outputs": [
    {
     "data": {
      "text/plain": [
       "   tag_basement  tag_central_air  tag_community_outdoor_space  tag_dishwasher  \\\n",
       "0         False             True                        False           False   \n",
       "1         False            False                         True           False   \n",
       "2         False            False                        False            True   \n",
       "3         False            False                        False           False   \n",
       "4         False            False                        False           False   \n",
       "\n",
       "   tag_fireplace  tag_forced_air  tag_garage_1_or_more  tag_garage_2_or_more  \\\n",
       "0          False           False                 False                 False   \n",
       "1          False           False                 False                 False   \n",
       "2          False           False                 False                 False   \n",
       "3           True           False                 False                 False   \n",
       "4          False           False                 False                 False   \n",
       "\n",
       "   tag_single_story  tag_two_or_more_stories  ...  description_sqft  \\\n",
       "0             False                    False  ...               NaN   \n",
       "1             False                    False  ...               NaN   \n",
       "2             False                    False  ...               NaN   \n",
       "3             False                    False  ...               NaN   \n",
       "4              True                    False  ...               NaN   \n",
       "\n",
       "   description_stories  description_year_built  list_price  \\\n",
       "0                  NaN                     NaN         NaN   \n",
       "1                  NaN                     NaN         NaN   \n",
       "2                  NaN                     NaN         NaN   \n",
       "3                  NaN                     NaN         NaN   \n",
       "4                  NaN                     NaN         NaN   \n",
       "\n",
       "   location_address_state  price_reduced_amount  property_id  days_on_market  \\\n",
       "0                     NaN                   NaN          NaN             NaN   \n",
       "1                     NaN                   NaN          NaN             NaN   \n",
       "2                     NaN                   NaN          NaN             NaN   \n",
       "3                     NaN                   NaN          NaN             NaN   \n",
       "4                     NaN                   NaN          NaN             NaN   \n",
       "\n",
       "   year_sold year_listed  \n",
       "0        NaN         NaN  \n",
       "1        NaN         NaN  \n",
       "2        NaN         NaN  \n",
       "3        NaN         NaN  \n",
       "4        NaN         NaN  \n",
       "\n",
       "[5 rows x 25 columns]"
      ],
      "text/html": [
       "<div>\n",
       "<style scoped>\n",
       "    .dataframe tbody tr th:only-of-type {\n",
       "        vertical-align: middle;\n",
       "    }\n",
       "\n",
       "    .dataframe tbody tr th {\n",
       "        vertical-align: top;\n",
       "    }\n",
       "\n",
       "    .dataframe thead th {\n",
       "        text-align: right;\n",
       "    }\n",
       "</style>\n",
       "<table border=\"1\" class=\"dataframe\">\n",
       "  <thead>\n",
       "    <tr style=\"text-align: right;\">\n",
       "      <th></th>\n",
       "      <th>tag_basement</th>\n",
       "      <th>tag_central_air</th>\n",
       "      <th>tag_community_outdoor_space</th>\n",
       "      <th>tag_dishwasher</th>\n",
       "      <th>tag_fireplace</th>\n",
       "      <th>tag_forced_air</th>\n",
       "      <th>tag_garage_1_or_more</th>\n",
       "      <th>tag_garage_2_or_more</th>\n",
       "      <th>tag_single_story</th>\n",
       "      <th>tag_two_or_more_stories</th>\n",
       "      <th>...</th>\n",
       "      <th>description_sqft</th>\n",
       "      <th>description_stories</th>\n",
       "      <th>description_year_built</th>\n",
       "      <th>list_price</th>\n",
       "      <th>location_address_state</th>\n",
       "      <th>price_reduced_amount</th>\n",
       "      <th>property_id</th>\n",
       "      <th>days_on_market</th>\n",
       "      <th>year_sold</th>\n",
       "      <th>year_listed</th>\n",
       "    </tr>\n",
       "  </thead>\n",
       "  <tbody>\n",
       "    <tr>\n",
       "      <th>0</th>\n",
       "      <td>False</td>\n",
       "      <td>True</td>\n",
       "      <td>False</td>\n",
       "      <td>False</td>\n",
       "      <td>False</td>\n",
       "      <td>False</td>\n",
       "      <td>False</td>\n",
       "      <td>False</td>\n",
       "      <td>False</td>\n",
       "      <td>False</td>\n",
       "      <td>...</td>\n",
       "      <td>NaN</td>\n",
       "      <td>NaN</td>\n",
       "      <td>NaN</td>\n",
       "      <td>NaN</td>\n",
       "      <td>NaN</td>\n",
       "      <td>NaN</td>\n",
       "      <td>NaN</td>\n",
       "      <td>NaN</td>\n",
       "      <td>NaN</td>\n",
       "      <td>NaN</td>\n",
       "    </tr>\n",
       "    <tr>\n",
       "      <th>1</th>\n",
       "      <td>False</td>\n",
       "      <td>False</td>\n",
       "      <td>True</td>\n",
       "      <td>False</td>\n",
       "      <td>False</td>\n",
       "      <td>False</td>\n",
       "      <td>False</td>\n",
       "      <td>False</td>\n",
       "      <td>False</td>\n",
       "      <td>False</td>\n",
       "      <td>...</td>\n",
       "      <td>NaN</td>\n",
       "      <td>NaN</td>\n",
       "      <td>NaN</td>\n",
       "      <td>NaN</td>\n",
       "      <td>NaN</td>\n",
       "      <td>NaN</td>\n",
       "      <td>NaN</td>\n",
       "      <td>NaN</td>\n",
       "      <td>NaN</td>\n",
       "      <td>NaN</td>\n",
       "    </tr>\n",
       "    <tr>\n",
       "      <th>2</th>\n",
       "      <td>False</td>\n",
       "      <td>False</td>\n",
       "      <td>False</td>\n",
       "      <td>True</td>\n",
       "      <td>False</td>\n",
       "      <td>False</td>\n",
       "      <td>False</td>\n",
       "      <td>False</td>\n",
       "      <td>False</td>\n",
       "      <td>False</td>\n",
       "      <td>...</td>\n",
       "      <td>NaN</td>\n",
       "      <td>NaN</td>\n",
       "      <td>NaN</td>\n",
       "      <td>NaN</td>\n",
       "      <td>NaN</td>\n",
       "      <td>NaN</td>\n",
       "      <td>NaN</td>\n",
       "      <td>NaN</td>\n",
       "      <td>NaN</td>\n",
       "      <td>NaN</td>\n",
       "    </tr>\n",
       "    <tr>\n",
       "      <th>3</th>\n",
       "      <td>False</td>\n",
       "      <td>False</td>\n",
       "      <td>False</td>\n",
       "      <td>False</td>\n",
       "      <td>True</td>\n",
       "      <td>False</td>\n",
       "      <td>False</td>\n",
       "      <td>False</td>\n",
       "      <td>False</td>\n",
       "      <td>False</td>\n",
       "      <td>...</td>\n",
       "      <td>NaN</td>\n",
       "      <td>NaN</td>\n",
       "      <td>NaN</td>\n",
       "      <td>NaN</td>\n",
       "      <td>NaN</td>\n",
       "      <td>NaN</td>\n",
       "      <td>NaN</td>\n",
       "      <td>NaN</td>\n",
       "      <td>NaN</td>\n",
       "      <td>NaN</td>\n",
       "    </tr>\n",
       "    <tr>\n",
       "      <th>4</th>\n",
       "      <td>False</td>\n",
       "      <td>False</td>\n",
       "      <td>False</td>\n",
       "      <td>False</td>\n",
       "      <td>False</td>\n",
       "      <td>False</td>\n",
       "      <td>False</td>\n",
       "      <td>False</td>\n",
       "      <td>True</td>\n",
       "      <td>False</td>\n",
       "      <td>...</td>\n",
       "      <td>NaN</td>\n",
       "      <td>NaN</td>\n",
       "      <td>NaN</td>\n",
       "      <td>NaN</td>\n",
       "      <td>NaN</td>\n",
       "      <td>NaN</td>\n",
       "      <td>NaN</td>\n",
       "      <td>NaN</td>\n",
       "      <td>NaN</td>\n",
       "      <td>NaN</td>\n",
       "    </tr>\n",
       "  </tbody>\n",
       "</table>\n",
       "<p>5 rows × 25 columns</p>\n",
       "</div>"
      ]
     },
     "execution_count": 21,
     "metadata": {},
     "output_type": "execute_result"
    }
   ],
   "execution_count": 21
  },
  {
   "metadata": {
    "ExecuteTime": {
     "end_time": "2024-12-03T16:57:18.088421Z",
     "start_time": "2024-12-03T16:57:18.082072Z"
    }
   },
   "cell_type": "code",
   "source": "ohe_df.head()",
   "outputs": [
    {
     "data": {
      "text/plain": [
       "   tag_basement  tag_central_air  tag_community_outdoor_space  tag_dishwasher  \\\n",
       "0         False             True                        False           False   \n",
       "1         False            False                         True           False   \n",
       "2         False            False                        False            True   \n",
       "3         False            False                        False           False   \n",
       "4         False            False                        False           False   \n",
       "\n",
       "   tag_fireplace  tag_forced_air  tag_garage_1_or_more  tag_garage_2_or_more  \\\n",
       "0          False           False                 False                 False   \n",
       "1          False           False                 False                 False   \n",
       "2          False           False                 False                 False   \n",
       "3           True           False                 False                 False   \n",
       "4          False           False                 False                 False   \n",
       "\n",
       "   tag_single_story  tag_two_or_more_stories  ...  description_sqft  \\\n",
       "0             False                    False  ...               NaN   \n",
       "1             False                    False  ...               NaN   \n",
       "2             False                    False  ...               NaN   \n",
       "3             False                    False  ...               NaN   \n",
       "4              True                    False  ...               NaN   \n",
       "\n",
       "   description_stories  description_year_built  list_price  \\\n",
       "0                  NaN                     NaN         NaN   \n",
       "1                  NaN                     NaN         NaN   \n",
       "2                  NaN                     NaN         NaN   \n",
       "3                  NaN                     NaN         NaN   \n",
       "4                  NaN                     NaN         NaN   \n",
       "\n",
       "   location_address_state  price_reduced_amount  property_id  days_on_market  \\\n",
       "0                     NaN                   NaN          NaN             NaN   \n",
       "1                     NaN                   NaN          NaN             NaN   \n",
       "2                     NaN                   NaN          NaN             NaN   \n",
       "3                     NaN                   NaN          NaN             NaN   \n",
       "4                     NaN                   NaN          NaN             NaN   \n",
       "\n",
       "   year_sold year_listed  \n",
       "0        NaN         NaN  \n",
       "1        NaN         NaN  \n",
       "2        NaN         NaN  \n",
       "3        NaN         NaN  \n",
       "4        NaN         NaN  \n",
       "\n",
       "[5 rows x 25 columns]"
      ],
      "text/html": [
       "<div>\n",
       "<style scoped>\n",
       "    .dataframe tbody tr th:only-of-type {\n",
       "        vertical-align: middle;\n",
       "    }\n",
       "\n",
       "    .dataframe tbody tr th {\n",
       "        vertical-align: top;\n",
       "    }\n",
       "\n",
       "    .dataframe thead th {\n",
       "        text-align: right;\n",
       "    }\n",
       "</style>\n",
       "<table border=\"1\" class=\"dataframe\">\n",
       "  <thead>\n",
       "    <tr style=\"text-align: right;\">\n",
       "      <th></th>\n",
       "      <th>tag_basement</th>\n",
       "      <th>tag_central_air</th>\n",
       "      <th>tag_community_outdoor_space</th>\n",
       "      <th>tag_dishwasher</th>\n",
       "      <th>tag_fireplace</th>\n",
       "      <th>tag_forced_air</th>\n",
       "      <th>tag_garage_1_or_more</th>\n",
       "      <th>tag_garage_2_or_more</th>\n",
       "      <th>tag_single_story</th>\n",
       "      <th>tag_two_or_more_stories</th>\n",
       "      <th>...</th>\n",
       "      <th>description_sqft</th>\n",
       "      <th>description_stories</th>\n",
       "      <th>description_year_built</th>\n",
       "      <th>list_price</th>\n",
       "      <th>location_address_state</th>\n",
       "      <th>price_reduced_amount</th>\n",
       "      <th>property_id</th>\n",
       "      <th>days_on_market</th>\n",
       "      <th>year_sold</th>\n",
       "      <th>year_listed</th>\n",
       "    </tr>\n",
       "  </thead>\n",
       "  <tbody>\n",
       "    <tr>\n",
       "      <th>0</th>\n",
       "      <td>False</td>\n",
       "      <td>True</td>\n",
       "      <td>False</td>\n",
       "      <td>False</td>\n",
       "      <td>False</td>\n",
       "      <td>False</td>\n",
       "      <td>False</td>\n",
       "      <td>False</td>\n",
       "      <td>False</td>\n",
       "      <td>False</td>\n",
       "      <td>...</td>\n",
       "      <td>NaN</td>\n",
       "      <td>NaN</td>\n",
       "      <td>NaN</td>\n",
       "      <td>NaN</td>\n",
       "      <td>NaN</td>\n",
       "      <td>NaN</td>\n",
       "      <td>NaN</td>\n",
       "      <td>NaN</td>\n",
       "      <td>NaN</td>\n",
       "      <td>NaN</td>\n",
       "    </tr>\n",
       "    <tr>\n",
       "      <th>1</th>\n",
       "      <td>False</td>\n",
       "      <td>False</td>\n",
       "      <td>True</td>\n",
       "      <td>False</td>\n",
       "      <td>False</td>\n",
       "      <td>False</td>\n",
       "      <td>False</td>\n",
       "      <td>False</td>\n",
       "      <td>False</td>\n",
       "      <td>False</td>\n",
       "      <td>...</td>\n",
       "      <td>NaN</td>\n",
       "      <td>NaN</td>\n",
       "      <td>NaN</td>\n",
       "      <td>NaN</td>\n",
       "      <td>NaN</td>\n",
       "      <td>NaN</td>\n",
       "      <td>NaN</td>\n",
       "      <td>NaN</td>\n",
       "      <td>NaN</td>\n",
       "      <td>NaN</td>\n",
       "    </tr>\n",
       "    <tr>\n",
       "      <th>2</th>\n",
       "      <td>False</td>\n",
       "      <td>False</td>\n",
       "      <td>False</td>\n",
       "      <td>True</td>\n",
       "      <td>False</td>\n",
       "      <td>False</td>\n",
       "      <td>False</td>\n",
       "      <td>False</td>\n",
       "      <td>False</td>\n",
       "      <td>False</td>\n",
       "      <td>...</td>\n",
       "      <td>NaN</td>\n",
       "      <td>NaN</td>\n",
       "      <td>NaN</td>\n",
       "      <td>NaN</td>\n",
       "      <td>NaN</td>\n",
       "      <td>NaN</td>\n",
       "      <td>NaN</td>\n",
       "      <td>NaN</td>\n",
       "      <td>NaN</td>\n",
       "      <td>NaN</td>\n",
       "    </tr>\n",
       "    <tr>\n",
       "      <th>3</th>\n",
       "      <td>False</td>\n",
       "      <td>False</td>\n",
       "      <td>False</td>\n",
       "      <td>False</td>\n",
       "      <td>True</td>\n",
       "      <td>False</td>\n",
       "      <td>False</td>\n",
       "      <td>False</td>\n",
       "      <td>False</td>\n",
       "      <td>False</td>\n",
       "      <td>...</td>\n",
       "      <td>NaN</td>\n",
       "      <td>NaN</td>\n",
       "      <td>NaN</td>\n",
       "      <td>NaN</td>\n",
       "      <td>NaN</td>\n",
       "      <td>NaN</td>\n",
       "      <td>NaN</td>\n",
       "      <td>NaN</td>\n",
       "      <td>NaN</td>\n",
       "      <td>NaN</td>\n",
       "    </tr>\n",
       "    <tr>\n",
       "      <th>4</th>\n",
       "      <td>False</td>\n",
       "      <td>False</td>\n",
       "      <td>False</td>\n",
       "      <td>False</td>\n",
       "      <td>False</td>\n",
       "      <td>False</td>\n",
       "      <td>False</td>\n",
       "      <td>False</td>\n",
       "      <td>True</td>\n",
       "      <td>False</td>\n",
       "      <td>...</td>\n",
       "      <td>NaN</td>\n",
       "      <td>NaN</td>\n",
       "      <td>NaN</td>\n",
       "      <td>NaN</td>\n",
       "      <td>NaN</td>\n",
       "      <td>NaN</td>\n",
       "      <td>NaN</td>\n",
       "      <td>NaN</td>\n",
       "      <td>NaN</td>\n",
       "      <td>NaN</td>\n",
       "    </tr>\n",
       "  </tbody>\n",
       "</table>\n",
       "<p>5 rows × 25 columns</p>\n",
       "</div>"
      ]
     },
     "execution_count": 22,
     "metadata": {},
     "output_type": "execute_result"
    }
   ],
   "execution_count": 22
  },
  {
   "metadata": {},
   "cell_type": "markdown",
   "source": "### Dealing with Cities"
  },
  {
   "metadata": {},
   "cell_type": "markdown",
   "source": [
    "- Sales will vary drastically between cities and states.  Is there a way to keep information about which city it is without OHE?\n",
    "- Could we label encode or ordinal encode?  Yes, but this may have undesirable effects, giving nominal data ordinal values.\n",
    "- What we can do is use our training data to encode the mean sale price by city as a feature (a.k.a. Target Encoding)\n",
    "    - We can do this as long as we ONLY use the training data - we're using the available data to give us a 'starting guess' of the price for each city, without needing to encode city explicitly\n",
    "- If you replace cities or states with numerical values (like the mean price), make sure that the data is split so that we don't leak data into the training selection. This is a great time to train test split. Compute on the training data, and join these values to the test data\n",
    "- Note that you *may* have cities in the test set that are not in the training set. You don't want these to be NA, so maybe you can fill them with the overall mean"
   ]
  },
  {
   "metadata": {
    "ExecuteTime": {
     "end_time": "2024-12-03T16:57:18.092968Z",
     "start_time": "2024-12-03T16:57:18.091312Z"
    }
   },
   "cell_type": "code",
   "source": [
    "# perform train test split here\n",
    "# do something with state and city"
   ],
   "outputs": [],
   "execution_count": 23
  },
  {
   "metadata": {
    "ExecuteTime": {
     "end_time": "2024-12-03T16:57:18.101540Z",
     "start_time": "2024-12-03T16:57:18.095331Z"
    }
   },
   "cell_type": "code",
   "source": [
    "#set option to display all rows\n",
    "pd.set_option('display.max_rows', None)  # Show all rows\n",
    "df['tags'].explode().value_counts()"
   ],
   "outputs": [
    {
     "data": {
      "text/plain": [
       "tags\n",
       "garage_1_or_more           3772\n",
       "central_air                3414\n",
       "community_outdoor_space    3095\n",
       "dishwasher                 2965\n",
       "basement                   2914\n",
       "fireplace                  2738\n",
       "forced_air                 2711\n",
       "single_story               2653\n",
       "two_or_more_stories        2598\n",
       "garage_2_or_more           2497\n",
       "Name: count, dtype: int64"
      ]
     },
     "execution_count": 24,
     "metadata": {},
     "output_type": "execute_result"
    }
   ],
   "execution_count": 24
  },
  {
   "metadata": {},
   "cell_type": "markdown",
   "source": [
    "## Extra Data - STRETCH\n",
    "\n",
    "> This doesn't need to be part of your Minimum Viable Product (MVP). We recommend you write a functional, basic pipeline first, then circle back and join new data if you have time\n",
    "\n",
    "> If you do this, try to write your downstream steps in a way it will still work on a dataframe with different features!\n",
    "\n",
    "- You're not limited to just using the data provided to you. Think/ do some research about other features that might be useful to predict housing prices. \n",
    "- Can you import and join this data? Make sure you do any necessary preprocessing and make sure it is joined correctly.\n",
    "- Example suggestion: could mortgage interest rates in the year of the listing affect the price? "
   ]
  },
  {
   "metadata": {
    "ExecuteTime": {
     "end_time": "2024-12-03T16:57:18.105366Z",
     "start_time": "2024-12-03T16:57:18.103871Z"
    }
   },
   "cell_type": "code",
   "source": "# import, join and preprocess new data here",
   "outputs": [],
   "execution_count": 25
  },
  {
   "metadata": {},
   "cell_type": "markdown",
   "source": [
    "## EDA/ Visualization\n",
    "\n",
    "Remember all the EDA that you've been learning about?  Now is a perfect time for it!\n",
    "- Look at distributions of numerical variables to see the shape of the data and detect outliers.    \n",
    "    - Consider transforming very skewed variables\n",
    "- Scatterplots of a numerical variable and the target go a long way to show correlations.\n",
    "- A heatmap will help detect highly correlated features, and we don't want these.\n",
    "    - You may have too many features to do this, in which case you can simply compute the most correlated feature-pairs and list them\n",
    "- Is there any overlap in any of the features? (redundant information, like number of this or that room...)"
   ]
  },
  {
   "cell_type": "code",
   "metadata": {
    "ExecuteTime": {
     "end_time": "2024-12-03T16:57:18.108837Z",
     "start_time": "2024-12-03T16:57:18.107394Z"
    }
   },
   "source": [
    "# perform EDA here"
   ],
   "outputs": [],
   "execution_count": 26
  },
  {
   "cell_type": "markdown",
   "metadata": {},
   "source": [
    "## Scaling and Finishing Up"
   ]
  },
  {
   "cell_type": "markdown",
   "metadata": {},
   "source": [
    "Now is a great time to scale the data and save it once it's preprocessed.\n",
    "- You can save it in your data folder, but you may want to make a new `processed/` subfolder to keep it organized"
   ]
  },
  {
   "cell_type": "code",
   "metadata": {
    "ExecuteTime": {
     "end_time": "2024-12-03T16:57:18.112051Z",
     "start_time": "2024-12-03T16:57:18.110785Z"
    }
   },
   "source": [],
   "outputs": [],
   "execution_count": null
  }
 ],
 "metadata": {
  "kernelspec": {
   "display_name": "Python 3 (ipykernel)",
   "language": "python",
   "name": "python3"
  },
  "language_info": {
   "codemirror_mode": {
    "name": "ipython",
    "version": 3
   },
   "file_extension": ".py",
   "mimetype": "text/x-python",
   "name": "python",
   "nbconvert_exporter": "python",
   "pygments_lexer": "ipython3",
   "version": "3.12.7"
  }
 },
 "nbformat": 4,
 "nbformat_minor": 2
}
