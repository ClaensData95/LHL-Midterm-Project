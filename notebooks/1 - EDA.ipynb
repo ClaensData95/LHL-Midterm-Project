{
 "cells": [
  {
   "cell_type": "markdown",
   "metadata": {},
   "source": [
    "# EDA"
   ]
  },
  {
   "cell_type": "markdown",
   "metadata": {},
   "source": [
    "- The os module has a perfect method to list files in a directory.\n",
    "- Pandas json normalize could work here but is not necessary to convert the JSON data to a dataframe.\n",
    "- You may need a nested for-loop to access each sale!\n",
    "- We've put a lot of time into creating the structure of this repository, and it's a good example for future projects.  In the file functions_variables.py, there is an example function that you can import and use.  If you have any variables, functions or classes that you want to make, they can be put in the functions_variables.py file and imported into a notebook.  Note that only .py files can be imported into a notebook. If you want to import everything from a .py file, you can use the following:\n",
    "```python\n",
    "from functions_variables import *\n",
    "```\n",
    "If you just import functions_variables, then each object from the file will need to be prepended with \"functions_variables\"\\\n",
    "Using this .py file will keep your notebooks very organized and make it easier to reuse code between notebooks."
   ]
  },
  {
   "cell_type": "code",
   "metadata": {
    "ExecuteTime": {
     "end_time": "2024-12-05T04:20:52.825969Z",
     "start_time": "2024-12-05T04:20:52.823770Z"
    }
   },
   "source": [
    "# (this is not an exhaustive list of libraries)\n",
    "import matplotlib.pyplot as plt\n",
    "import seaborn as sns\n",
    "import os\n",
    "from functions_variables import *\n",
    "from collections import Counter\n",
    "from sklearn.model_selection import train_test_split"
   ],
   "outputs": [],
   "execution_count": 256
  },
  {
   "cell_type": "markdown",
   "metadata": {},
   "source": [
    "## Data Importing"
   ]
  },
  {
   "cell_type": "code",
   "metadata": {
    "ExecuteTime": {
     "end_time": "2024-12-05T04:19:17.227306Z",
     "start_time": "2024-12-05T04:19:17.223838Z"
    }
   },
   "source": [
    "# load one file first to see what type of data you're dealing with and what attributes it has\n",
    "tmp_df = pd.read_json('../data/housing/AK_Juneau_0.json')\n",
    "# tmp_df['data']['results']"
   ],
   "outputs": [],
   "execution_count": 216
  },
  {
   "cell_type": "code",
   "metadata": {
    "ExecuteTime": {
     "end_time": "2024-12-05T04:19:17.250790Z",
     "start_time": "2024-12-05T04:19:17.248468Z"
    }
   },
   "source": [
    "# Create empty DataFrame for housing\n",
    "df = pd.DataFrame()\n",
    "# The path to the data files\n",
    "dir_path = '../data/housing/'"
   ],
   "outputs": [],
   "execution_count": 217
  },
  {
   "cell_type": "code",
   "metadata": {
    "ExecuteTime": {
     "end_time": "2024-12-05T04:19:18.317404Z",
     "start_time": "2024-12-05T04:19:17.266531Z"
    }
   },
   "source": [
    "# loop over all files and put them into a dataframe\n",
    "# n = 0\n",
    "for file_name in sorted(os.listdir(dir_path)):\n",
    "    # n += 1\n",
    "    if file_name.endswith('.json'):\n",
    "        # print(f'File: {file_name}')\n",
    "        file_path = os.path.join(dir_path, file_name)\n",
    "        tmp = json_to_df(file_path)\n",
    "        tmp = tmp.dropna(axis=1, how='all')\n",
    "        df = pd.concat([df, tmp], ignore_index=True)\n",
    "    # if n > 1: break\n",
    "# df"
   ],
   "outputs": [],
   "execution_count": 218
  },
  {
   "cell_type": "markdown",
   "metadata": {},
   "source": [
    "At this point, ensure that you have all sales in a dataframe.\n",
    "- Take a quick look at your data (i.e. `.info()`, `.describe()`) - what do you see?\n",
    "- Is each cell one value, or do some cells have lists?\n",
    "- What are the data types of each column?\n",
    "- Some sales may not actually include the sale price (target).  These rows should be dropped.\n",
    "- There are a lot of NA/None values.  Should these be dropped or replaced with something?\n",
    "    - You can drop rows or use various methods to fills NA's - use your best judgement for each column \n",
    "    - i.e. for some columns (like Garage), NA probably just means no Garage, so 0\n",
    "- Drop columns that aren't needed\n",
    "    - Don't keep the list price because it will be too close to the sale price. Assume we want to predict the price of houses not yet listed"
   ]
  },
  {
   "cell_type": "code",
   "metadata": {
    "ExecuteTime": {
     "end_time": "2024-12-05T04:19:18.337734Z",
     "start_time": "2024-12-05T04:19:18.335674Z"
    }
   },
   "source": [
    "df.shape"
   ],
   "outputs": [
    {
     "data": {
      "text/plain": [
       "(8191, 50)"
      ]
     },
     "execution_count": 219,
     "metadata": {},
     "output_type": "execute_result"
    }
   ],
   "execution_count": 219
  },
  {
   "cell_type": "code",
   "metadata": {
    "ExecuteTime": {
     "end_time": "2024-12-05T04:19:18.356953Z",
     "start_time": "2024-12-05T04:19:18.355388Z"
    }
   },
   "source": [
    "columns = df.columns.sort_values().to_list()\n",
    "# columns"
   ],
   "outputs": [],
   "execution_count": 220
  },
  {
   "cell_type": "code",
   "metadata": {
    "ExecuteTime": {
     "end_time": "2024-12-05T04:19:18.382170Z",
     "start_time": "2024-12-05T04:19:18.375213Z"
    }
   },
   "source": [
    "# Rearrange DataFrame columns\n",
    "df = df[columns]"
   ],
   "outputs": [],
   "execution_count": 221
  },
  {
   "cell_type": "code",
   "metadata": {
    "ExecuteTime": {
     "end_time": "2024-12-05T04:19:18.429631Z",
     "start_time": "2024-12-05T04:19:18.400736Z"
    }
   },
   "source": [
    "# drop or replace values as necessary\n",
    "df = df.drop(\n",
    "    columns=[\n",
    "        'branding',\n",
    "        'community_advertisers',\n",
    "        'community_description_name',\n",
    "        # 'description.baths',\n",
    "        'description_baths_3qtr',\n",
    "        'description_baths_full',\n",
    "        'description_baths_half',\n",
    "        # 'description.beds',\n",
    "        # 'description.garage',\n",
    "        'description_lot_sqft',\n",
    "        # 'description.sold_date',\n",
    "        # 'description.sold_price',\n",
    "        # 'description.sqft',\n",
    "        # 'description.stories',\n",
    "        'description_sub_type',\n",
    "        'description_type',\n",
    "        # 'description.year_built',\n",
    "        'flags_is_foreclosure',\n",
    "        'flags_is_new_listing',\n",
    "        'flags_is_price_reduced',\n",
    "        'last_update_date',\n",
    "        'lead_attributes_show_contact_an_agent',\n",
    "        #'list_date',\n",
    "        # 'list_price',\n",
    "        'listing_id',\n",
    "        #'location_address_city',\n",
    "        'location_address_coordinate_lat',\n",
    "        'location_address_coordinate_lon',\n",
    "        'location_address_line',\n",
    "        'location_address_postal_code',\n",
    "        # 'location.address.state',\n",
    "        'location_address_state_code',\n",
    "        'location_county_fips_code',\n",
    "        'location_county_name',\n",
    "        'location_street_view_url',\n",
    "        'matterport',\n",
    "        'other_listings_rdc',\n",
    "        'permalink',\n",
    "        'photos',\n",
    "        'price_reduced_amount',\n",
    "        'primary_photo_href',\n",
    "        'products_brand_name',\n",
    "        'property_id',\n",
    "        'source_agents',\n",
    "        'source_plan_id',\n",
    "        'source_spec_id',\n",
    "        'source_type',\n",
    "        'status',\n",
    "        # 'tags',\n",
    "        'virtual_tours'\n",
    "    ],\n",
    "    errors='ignore'\n",
    ")"
   ],
   "outputs": [],
   "execution_count": 222
  },
  {
   "cell_type": "code",
   "metadata": {
    "ExecuteTime": {
     "end_time": "2024-12-05T04:19:18.452918Z",
     "start_time": "2024-12-05T04:19:18.446912Z"
    }
   },
   "source": [
    "#Clean the data\n",
    "df['description_garage'] = df['description_garage'].fillna(0)\n",
    "df['description_stories'].value_counts()\n",
    "df = df[~df['description_stories'].isin([10.0, 8.0, 6.0])]\n",
    "df = df.dropna(subset=['description_sold_price'])"
   ],
   "outputs": [],
   "execution_count": 223
  },
  {
   "cell_type": "code",
   "metadata": {
    "ExecuteTime": {
     "end_time": "2024-12-05T04:19:18.476896Z",
     "start_time": "2024-12-05T04:19:18.469018Z"
    }
   },
   "source": [
    "# Convert to datetime format\n",
    "df['list_date'] = df['list_date'].astype(str)\n",
    "df['list_date'] = df['list_date'].str.extract(r'(\\d{4}-\\d{2}-\\d{2})')\n",
    "df['list_date'] = pd.to_datetime(df['list_date'], format='%Y-%m-%d', errors='coerce')\n",
    "df['description_sold_date'] = pd.to_datetime(df['description_sold_date'], errors='coerce')"
   ],
   "outputs": [],
   "execution_count": 224
  },
  {
   "cell_type": "code",
   "metadata": {
    "ExecuteTime": {
     "end_time": "2024-12-05T04:19:18.495280Z",
     "start_time": "2024-12-05T04:19:18.492834Z"
    }
   },
   "source": [
    "#drop list_price\n",
    "df = df.drop(columns=['list_price'])"
   ],
   "outputs": [],
   "execution_count": 225
  },
  {
   "cell_type": "code",
   "metadata": {
    "ExecuteTime": {
     "end_time": "2024-12-05T04:19:18.513899Z",
     "start_time": "2024-12-05T04:19:18.511428Z"
    }
   },
   "source": [
    "#Calculate the year the house was sold and the year it was listed\n",
    "df = year_sold_listed(df)"
   ],
   "outputs": [],
   "execution_count": 226
  },
  {
   "cell_type": "markdown",
   "metadata": {},
   "source": [
    "### Dealing with Tags"
   ]
  },
  {
   "cell_type": "markdown",
   "metadata": {},
   "source": [
    "Consider the fact that with tags, there are a lot of categorical variables.\n",
    "- How many columns would we have if we OHE tags, city and state?\n",
    "- Perhaps we can get rid of tags that have a low frequency."
   ]
  },
  {
   "cell_type": "code",
   "metadata": {
    "ExecuteTime": {
     "end_time": "2024-12-05T04:19:19.146842Z",
     "start_time": "2024-12-05T04:19:18.530978Z"
    }
   },
   "source": [
    "# One-Hot Encode the columns, considering low frequency removal for 'tags'\n",
    "if 'tags' in df.columns:\n",
    "    # Flatten all tags into a single list\n",
    "    all_tags = df['tags'].dropna().sum()\n",
    "    # Count occurrences of each tag\n",
    "    tag_counts = Counter(all_tags)\n",
    "    # Convert to a DataFrame for easier review\n",
    "    tag_counts_df = pd.DataFrame(tag_counts.items(), columns=['Tag', 'Count'])\n",
    "    # Sort by count (descending order)\n",
    "    tag_counts_df = tag_counts_df.sort_values(by='Count', ascending=False)\n",
    "    # Display top tags\n",
    "    print(tag_counts_df)"
   ],
   "outputs": [
    {
     "name": "stdout",
     "output_type": "stream",
     "text": [
      "                             Tag  Count\n",
      "12              garage_1_or_more   3772\n",
      "0                    central_air   3414\n",
      "2        community_outdoor_space   3095\n",
      "6                     dishwasher   2965\n",
      "44                      basement   2914\n",
      "8                      fireplace   2738\n",
      "90                    forced_air   2711\n",
      "11                  single_story   2653\n",
      "16           two_or_more_stories   2598\n",
      "13              garage_2_or_more   2497\n",
      "9                hardwood_floors   2164\n",
      "33                  washer_dryer   1839\n",
      "10                  laundry_room   1828\n",
      "32                      shopping   1579\n",
      "18         recreation_facilities   1500\n",
      "120                  dining_room   1350\n",
      "3    community_security_features   1308\n",
      "68                          view   1299\n",
      "1                   central_heat   1087\n",
      "92                   family_room   1019\n",
      "15                     city_view   1008\n",
      "14                   fenced_yard    993\n",
      "28                       big_lot    821\n",
      "24                    floor_plan    808\n",
      "21                      new_roof    747\n",
      "25               rental_property    724\n",
      "34               updated_kitchen    674\n",
      "41       community_swimming_pool    597\n",
      "20                       ensuite    579\n",
      "106                         farm    571\n",
      "4                     corner_lot    517\n",
      "107                        ranch    500\n",
      "19                      big_yard    473\n",
      "7               energy_efficient    471\n",
      "51                modern_kitchen    460\n",
      "42               open_floor_plan    458\n",
      "17                       carport    436\n",
      "57                          park    416\n",
      "39                   front_porch    400\n",
      "69              garage_3_or_more    390\n",
      "23                  high_ceiling    387\n",
      "54                        trails    372\n",
      "37           disability_features    355\n",
      "27                master_bedroom    341\n",
      "31                 swimming_pool    338\n",
      "96                         views    335\n",
      "58                   groundscare    335\n",
      "5                     cul_de_sac    310\n",
      "65               vaulted_ceiling    299\n",
      "93         hill_or_mountain_view    281\n",
      "78           community_clubhouse    278\n",
      "26                   fixer_upper    273\n",
      "109                 pets_allowed    269\n",
      "71                 den_or_office    263\n",
      "62        investment_opportunity    259\n",
      "49                    water_view    253\n",
      "52                 large_kitchen    253\n",
      "80                          lake    244\n",
      "63               granite_kitchen    226\n",
      "81                   golf_course    222\n",
      "45                  tennis_court    221\n",
      "36                   medicalcare    218\n",
      "70                     efficient    215\n",
      "53                     clubhouse    200\n",
      "64              private_backyard    197\n",
      "35                  master_suite    175\n",
      "46                        tennis    173\n",
      "77        community_tennis_court    173\n",
      "79                    playground    169\n",
      "50                    waterfront    165\n",
      "56                   maintenance    163\n",
      "110           rv_or_boat_parking    158\n",
      "114                community_gym    148\n",
      "66                  open_kitchen    140\n",
      "103                       no_hoa    132\n",
      "55                           hoa    125\n",
      "67                spa_or_hot_tub    121\n",
      "73                       library    110\n",
      "47                community_park    110\n",
      "48                     lake_view    108\n",
      "30                          pond    106\n",
      "91                  solar_system     96\n",
      "75               gourmet_kitchen     94\n",
      "97                      security     94\n",
      "95               gated_community     92\n",
      "76                community_golf     91\n",
      "61                  big_bathroom     88\n",
      "122     community_spa_or_hot_tub     85\n",
      "132            cathedral_ceiling     82\n",
      "115             senior_community     77\n",
      "125                     elevator     73\n",
      "83                    river_view     72\n",
      "102                mountain_view     67\n",
      "118                       marina     64\n",
      "84                   smart_homes     62\n",
      "98                    rv_parking     61\n",
      "101                  fruit_trees     55\n",
      "88                 exposed_brick     55\n",
      "74              community_center     55\n",
      "99              private_bathroom     54\n",
      "145    community_boat_facilities     53\n",
      "126                   open_house     52\n",
      "131                  outbuilding     51\n",
      "133                        beach     50\n",
      "112             basketball_court     48\n",
      "113                   basketball     48\n",
      "87                 storm_shelter     47\n",
      "59        jack_and_jill_bathroom     47\n",
      "38                   wooded_land     46\n",
      "43   golf_course_lot_or_frontage     46\n",
      "100                 solar_panels     44\n",
      "89               master_bathroom     42\n",
      "40                   large_porch     41\n",
      "123             golf_course_view     40\n",
      "86                coffer_ceiling     40\n",
      "72            beautiful_backyard     39\n",
      "139                    game_room     38\n",
      "121               kitchen_island     36\n",
      "22                     furniture     35\n",
      "144                   ocean_view     27\n",
      "29              horse_facilities     25\n",
      "85                 guest_parking     25\n",
      "124              handicap_access     25\n",
      "134                 screen_porch     25\n",
      "143            wrap_around_porch     24\n",
      "94               outdoor_kitchen     24\n",
      "138                   media_room     24\n",
      "119                    greenbelt     22\n",
      "82                    volleyball     20\n",
      "147           community_elevator     19\n",
      "108            private_courtyard     17\n",
      "111                 river_access     16\n",
      "105                  guest_house     16\n",
      "135                   well_water     15\n",
      "142                       soccer     14\n",
      "140                  wine_cellar     10\n",
      "141              private_parking     10\n",
      "149                     baseball     10\n",
      "116                 theater_room     10\n",
      "137                white_kitchen      9\n",
      "130   first_floor_master_bedroom      8\n",
      "128                      low_hoa      6\n",
      "129   community_horse_facilities      5\n",
      "104         detached_guest_house      5\n",
      "60             two_master_suites      5\n",
      "136             fenced_courtyard      5\n",
      "146      indoor_basketball_court      5\n",
      "117              courtyard_entry      5\n",
      "148                   greenhouse      5\n",
      "127                  two_kitchen      5\n",
      "150                    boat_dock      5\n",
      "151          dual_master_bedroom      5\n"
     ]
    }
   ],
   "execution_count": 227
  },
  {
   "metadata": {
    "ExecuteTime": {
     "end_time": "2024-12-05T04:19:19.166066Z",
     "start_time": "2024-12-05T04:19:19.164383Z"
    }
   },
   "cell_type": "code",
   "source": [
    "#set option to display all the rows\n",
    "pd.set_option('display.max_rows', None)"
   ],
   "outputs": [],
   "execution_count": 228
  },
  {
   "cell_type": "code",
   "metadata": {
    "ExecuteTime": {
     "end_time": "2024-12-05T04:19:19.184389Z",
     "start_time": "2024-12-05T04:19:19.182697Z"
    }
   },
   "source": [
    "# List of selected tags for one-hot encoding\n",
    "selected_tags = [\n",
    "    \"central_air\", \"community_outdoor_space\", \"basement\", \"fireplace\",\n",
    "    \"hardwood_floors\", \"recreation_facilities\", \"community_security_features\",\n",
    "    \"view\", \"central_heat\", \"city_view\", \"fenced_yard\"\n",
    "]"
   ],
   "outputs": [],
   "execution_count": 229
  },
  {
   "metadata": {
    "ExecuteTime": {
     "end_time": "2024-12-05T04:19:19.230055Z",
     "start_time": "2024-12-05T04:19:19.199809Z"
    }
   },
   "cell_type": "code",
   "source": [
    "# Ensure the tags column exists\n",
    "if 'tags' in df.columns:\n",
    "    # Replace NaN in the tags column with an empty list\n",
    "    df['tags'] = df['tags'].apply(lambda x: x if isinstance(x, list) else [])\n",
    "    # Create one-hot encoding columns for selected tags\n",
    "    for tag in selected_tags:\n",
    "        df[tag] = df['tags'].apply(lambda x: 1 if tag in x else 0)\n",
    "    #drop tags column\n",
    "    df = df.drop(columns=['tags'])"
   ],
   "outputs": [],
   "execution_count": 230
  },
  {
   "cell_type": "code",
   "metadata": {
    "ExecuteTime": {
     "end_time": "2024-12-05T04:19:19.251028Z",
     "start_time": "2024-12-05T04:19:19.248254Z"
    }
   },
   "source": [
    "# Calculate the number of days on the market\n",
    "df['days_on_market'] = (df['description_sold_date'] - df['list_date']).dt.days"
   ],
   "outputs": [],
   "execution_count": 231
  },
  {
   "metadata": {
    "ExecuteTime": {
     "end_time": "2024-12-05T04:19:19.271746Z",
     "start_time": "2024-12-05T04:19:19.268595Z"
    }
   },
   "cell_type": "code",
   "source": [
    "# Preview the result\n",
    "print(df[['list_date', 'description_sold_date', 'days_on_market']].head())"
   ],
   "outputs": [
    {
     "name": "stdout",
     "output_type": "stream",
     "text": [
      "    list_date description_sold_date  days_on_market\n",
      "30 2023-12-19            2024-01-16            28.0\n",
      "31 2023-11-10            2024-01-16            67.0\n",
      "32 2023-12-19            2024-01-16            28.0\n",
      "33 2023-07-05            2024-01-16           195.0\n",
      "34 2023-10-29            2024-01-12            75.0\n"
     ]
    }
   ],
   "execution_count": 232
  },
  {
   "cell_type": "code",
   "metadata": {
    "ExecuteTime": {
     "end_time": "2024-12-05T04:19:19.292894Z",
     "start_time": "2024-12-05T04:19:19.290580Z"
    }
   },
   "source": [
    "#change all the negative values on days_on_the_market to NaN\n",
    "df.loc[df['days_on_market'] < 0, 'days_on_market'] = np.nan"
   ],
   "outputs": [],
   "execution_count": 233
  },
  {
   "cell_type": "code",
   "metadata": {
    "ExecuteTime": {
     "end_time": "2024-12-05T04:19:19.312921Z",
     "start_time": "2024-12-05T04:19:19.309912Z"
    }
   },
   "source": [
    "#drop description_sold_date and list_date\n",
    "df = df.drop(columns=['description_sold_date', 'list_date'])"
   ],
   "outputs": [],
   "execution_count": 234
  },
  {
   "cell_type": "code",
   "metadata": {
    "ExecuteTime": {
     "end_time": "2024-12-05T04:19:19.332365Z",
     "start_time": "2024-12-05T04:19:19.329305Z"
    }
   },
   "source": [
    "# Drop rows with sold prices outside the range of $100,000 to $2,500,000\n",
    "prices = df['description_sold_price']\n",
    "df = df[(prices >= 100000) & (prices <= 2500000)]"
   ],
   "outputs": [],
   "execution_count": 235
  },
  {
   "cell_type": "code",
   "metadata": {
    "ExecuteTime": {
     "end_time": "2024-12-05T04:19:19.352707Z",
     "start_time": "2024-12-05T04:19:19.348352Z"
    }
   },
   "source": [
    "# Drop rows with 3 or more NaN values\n",
    "df = df.dropna(thresh=len(df.columns) - 3 + 1)"
   ],
   "outputs": [],
   "execution_count": 236
  },
  {
   "metadata": {
    "ExecuteTime": {
     "end_time": "2024-12-05T04:19:19.372212Z",
     "start_time": "2024-12-05T04:19:19.370434Z"
    }
   },
   "cell_type": "code",
   "source": [
    "# Verify the result\n",
    "print(f\"Number of rows after dropping: {len(df)}\")"
   ],
   "outputs": [
    {
     "name": "stdout",
     "output_type": "stream",
     "text": [
      "Number of rows after dropping: 5639\n"
     ]
    }
   ],
   "execution_count": 237
  },
  {
   "cell_type": "markdown",
   "metadata": {},
   "source": [
    "### Dealing with Cities"
   ]
  },
  {
   "cell_type": "markdown",
   "metadata": {},
   "source": [
    "- Sales will vary drastically between cities and states.  Is there a way to keep information about which city it is without OHE?\n",
    "- Could we label encode or ordinal encode?  Yes, but this may have undesirable effects, giving nominal data ordinal values.\n",
    "- What we can do is use our training data to encode the mean sale price by city as a feature (a.k.a. Target Encoding)\n",
    "    - We can do this as long as we ONLY use the training data - we're using the available data to give us a 'starting guess' of the price for each city, without needing to encode city explicitly\n",
    "- If you replace cities or states with numerical values (like the mean price), make sure that the data is split so that we don't leak data into the training selection. This is a great time to train test split. Compute on the training data, and join these values to the test data\n",
    "- Note that you *may* have cities in the test set that are not in the training set. You don't want these to be NA, so maybe you can fill them with the overall mean"
   ]
  },
  {
   "cell_type": "code",
   "metadata": {
    "ExecuteTime": {
     "end_time": "2024-12-05T04:19:19.393701Z",
     "start_time": "2024-12-05T04:19:19.390757Z"
    }
   },
   "source": [
    "# Define feature set and target variable\n",
    "X = df.drop(columns=['description_sold_price'])\n",
    "y = df['description_sold_price']"
   ],
   "outputs": [],
   "execution_count": 238
  },
  {
   "metadata": {
    "ExecuteTime": {
     "end_time": "2024-12-05T04:19:19.415160Z",
     "start_time": "2024-12-05T04:19:19.411555Z"
    }
   },
   "cell_type": "code",
   "source": [
    "# Perform train test split\n",
    "X_train, X_test, y_train, y_test = train_test_split(X, y, test_size=0.2, random_state=42)"
   ],
   "outputs": [],
   "execution_count": 239
  },
  {
   "metadata": {
    "ExecuteTime": {
     "end_time": "2024-12-05T04:19:19.438418Z",
     "start_time": "2024-12-05T04:19:19.436595Z"
    }
   },
   "cell_type": "code",
   "source": [
    "print(f\"X_train shape: {X_train.shape}, y_train shape: {y_train.shape}\")\n",
    "print(f\"X_test shape: {X_test.shape}, y_test shape: {y_test.shape}\")"
   ],
   "outputs": [
    {
     "name": "stdout",
     "output_type": "stream",
     "text": [
      "X_train shape: (4511, 22), y_train shape: (4511,)\n",
      "X_test shape: (1128, 22), y_test shape: (1128,)\n"
     ]
    }
   ],
   "execution_count": 240
  },
  {
   "cell_type": "code",
   "metadata": {
    "ExecuteTime": {
     "end_time": "2024-12-05T04:19:19.464426Z",
     "start_time": "2024-12-05T04:19:19.460716Z"
    }
   },
   "source": [
    "if 'location_address_city' in X_train.columns:\n",
    "    # Calculate city frequencies based only on training data\n",
    "    city_counts = X_train['location_address_city'].value_counts()\n",
    "    # Map frequencies to both training and test sets\n",
    "    X_train['city_frequency'] = X_train['location_address_city'].map(city_counts)\n",
    "    X_test['city_frequency'] = X_test['location_address_city'].map(city_counts)\n",
    "    print(\"Frequency encoding applied to 'city' column for train and test sets.\")"
   ],
   "outputs": [
    {
     "name": "stdout",
     "output_type": "stream",
     "text": [
      "Frequency encoding applied to 'city' column for train and test sets.\n"
     ]
    }
   ],
   "execution_count": 241
  },
  {
   "metadata": {
    "ExecuteTime": {
     "end_time": "2024-12-05T04:19:19.491188Z",
     "start_time": "2024-12-05T04:19:19.487321Z"
    }
   },
   "cell_type": "code",
   "source": [
    "if 'location_address_state' in X_train.columns:\n",
    "    # Calculate state frequencies based only on training data\n",
    "    state_counts = X_train['location_address_state'].value_counts()\n",
    "    # Map frequencies to both training and test sets\n",
    "    X_train['state_frequency'] = X_train['location_address_state'].map(state_counts)\n",
    "    X_test['state_frequency'] = X_test['location_address_state'].map(state_counts)\n",
    "    print(\"Frequency encoding applied to 'state' column for train and test sets.\")"
   ],
   "outputs": [
    {
     "name": "stdout",
     "output_type": "stream",
     "text": [
      "Frequency encoding applied to 'state' column for train and test sets.\n"
     ]
    }
   ],
   "execution_count": 242
  },
  {
   "cell_type": "code",
   "metadata": {
    "ExecuteTime": {
     "end_time": "2024-12-05T04:19:19.516734Z",
     "start_time": "2024-12-05T04:19:19.513571Z"
    }
   },
   "source": [
    "#Drop location_address_city and location_address_state\n",
    "X_train = X_train.drop(columns=['location_address_city', 'location_address_state'])\n",
    "X_test = X_test.drop(columns=['location_address_city', 'location_address_state'])"
   ],
   "outputs": [],
   "execution_count": 243
  },
  {
   "cell_type": "code",
   "metadata": {
    "ExecuteTime": {
     "end_time": "2024-12-05T04:19:19.542425Z",
     "start_time": "2024-12-05T04:19:19.538074Z"
    }
   },
   "source": [
    "# List of columns to fill\n",
    "columns_to_fill = [\n",
    "    'description_baths', 'description_beds', 'description_garage', 'description_stories'\n",
    "]\n",
    "# Apply the function to each column\n",
    "for col in columns_to_fill:\n",
    "    X_train, X_test = fill_na_with_distribution_train_test(X_train, X_test, col)"
   ],
   "outputs": [],
   "execution_count": 244
  },
  {
   "cell_type": "code",
   "metadata": {
    "ExecuteTime": {
     "end_time": "2024-12-05T04:19:19.566473Z",
     "start_time": "2024-12-05T04:19:19.562855Z"
    }
   },
   "source": [
    "# List of columns to fill with median\n",
    "columns_to_fill_median = [\n",
    "    'days_on_market', 'city_frequency', 'state_frequency',\n",
    "    'description_sqft', 'description_year_built',\n",
    "    'year_sold', 'year_listed'\n",
    "]\n",
    "# Apply the function to each column\n",
    "for col in columns_to_fill_median:\n",
    "    X_train, X_test = fill_na_with_median_train_test(X_train, X_test, col)"
   ],
   "outputs": [],
   "execution_count": 245
  },
  {
   "cell_type": "code",
   "metadata": {
    "ExecuteTime": {
     "end_time": "2024-12-05T04:19:19.596453Z",
     "start_time": "2024-12-05T04:19:19.589669Z"
    }
   },
   "source": [
    "# List of columns to scale\n",
    "columns_to_scale = [\n",
    "    'description_baths', 'description_beds', 'description_garage',\n",
    "    'description_sqft', 'description_stories', 'description_year_built',\n",
    "    'year_sold', 'year_listed', 'days_on_market', 'city_frequency', 'state_frequency'\n",
    "]\n",
    "# Apply scaling to the train and test sets\n",
    "X_train_scaled, X_test_scaled, scaler_features = scale_columns_train_test(X_train, X_test, columns_to_scale)\n",
    "# Verify scaled columns and target\n",
    "print(\"Scaled X_train:\", X_train_scaled[columns_to_scale].head())"
   ],
   "outputs": [
    {
     "name": "stdout",
     "output_type": "stream",
     "text": [
      "Scaled X_train:       description_baths  description_beds  description_garage  \\\n",
      "1860           1.714699          0.590308            0.722632   \n",
      "5392           0.687610         -0.218095           -0.120782   \n",
      "443            0.687610          0.590308            0.722632   \n",
      "5854           0.687610          0.590308            1.566046   \n",
      "4011          -1.366568         -0.218095           -0.964195   \n",
      "\n",
      "      description_sqft  description_stories  description_year_built  \\\n",
      "1860          0.310417             2.245382                0.876046   \n",
      "5392         -0.459942             0.669387                1.494672   \n",
      "443           0.739957             0.669387                1.072881   \n",
      "5854          0.703170            -0.906607                0.763568   \n",
      "4011         -0.569220            -0.906607               -2.160848   \n",
      "\n",
      "      year_sold  year_listed  days_on_market  city_frequency  state_frequency  \n",
      "1860   0.734568    -0.089851       -0.134212       -0.172481        -0.061801  \n",
      "5392   0.734568    -0.089851       -0.823337        0.530149         0.176512  \n",
      "443    0.734568    -0.089851       -0.424370       -0.373232        -1.094491  \n",
      "5854   0.734568    -0.089851       -0.206752       -2.481121         0.931170  \n",
      "4011   0.734568    -0.089851       -0.714528        0.580336         0.653138  \n"
     ]
    }
   ],
   "execution_count": 246
  },
  {
   "cell_type": "markdown",
   "metadata": {},
   "source": [
    "## Extra Data - STRETCH\n",
    "\n",
    "> This doesn't need to be part of your Minimum Viable Product (MVP). We recommend you write a functional, basic pipeline first, then circle back and join new data if you have time\n",
    "\n",
    "> If you do this, try to write your downstream steps in a way it will still work on a dataframe with different features!\n",
    "\n",
    "- You're not limited to just using the data provided to you. Think/ do some research about other features that might be useful to predict housing prices. \n",
    "- Can you import and join this data? Make sure you do any necessary preprocessing and make sure it is joined correctly.\n",
    "- Example suggestion: could mortgage interest rates in the year of the listing affect the price? "
   ]
  },
  {
   "cell_type": "code",
   "metadata": {
    "ExecuteTime": {
     "end_time": "2024-12-05T04:19:19.619785Z",
     "start_time": "2024-12-05T04:19:19.617939Z"
    }
   },
   "source": [
    "# import, join and preprocess new data here"
   ],
   "outputs": [],
   "execution_count": 247
  },
  {
   "cell_type": "markdown",
   "metadata": {},
   "source": [
    "## EDA/ Visualization\n",
    "\n",
    "Remember all the EDA that you've been learning about?  Now is a perfect time for it!\n",
    "- Look at distributions of numerical variables to see the shape of the data and detect outliers.    \n",
    "    - Consider transforming very skewed variables\n",
    "- Scatterplots of a numerical variable and the target go a long way to show correlations.\n",
    "- A heatmap will help detect highly correlated features, and we don't want these.\n",
    "    - You may have too many features to do this, in which case you can simply compute the most correlated feature-pairs and list them\n",
    "- Is there any overlap in any of the features? (redundant information, like number of this or that room...)"
   ]
  },
  {
   "cell_type": "code",
   "metadata": {
    "ExecuteTime": {
     "end_time": "2024-12-05T04:19:19.645025Z",
     "start_time": "2024-12-05T04:19:19.641983Z"
    }
   },
   "source": [
    "print(y_train.describe())"
   ],
   "outputs": [
    {
     "name": "stdout",
     "output_type": "stream",
     "text": [
      "count    4.511000e+03\n",
      "mean     4.060560e+05\n",
      "std      2.887504e+05\n",
      "min      1.000000e+05\n",
      "25%      2.272500e+05\n",
      "50%      3.320000e+05\n",
      "75%      4.850000e+05\n",
      "max      2.500000e+06\n",
      "Name: description_sold_price, dtype: float64\n"
     ]
    }
   ],
   "execution_count": 248
  },
  {
   "cell_type": "code",
   "metadata": {
    "ExecuteTime": {
     "end_time": "2024-12-05T04:19:19.673117Z",
     "start_time": "2024-12-05T04:19:19.667178Z"
    }
   },
   "source": [
    "#check for correlations between the features and the target variable\n",
    "correlation = X_train.corrwith(y_train).sort_values(ascending=False)\n",
    "print(correlation)"
   ],
   "outputs": [
    {
     "name": "stdout",
     "output_type": "stream",
     "text": [
      "description_sqft               0.509591\n",
      "description_baths              0.473896\n",
      "description_garage             0.301239\n",
      "community_security_features    0.272911\n",
      "fireplace                      0.230847\n",
      "description_beds               0.226417\n",
      "view                           0.199368\n",
      "hardwood_floors                0.171537\n",
      "recreation_facilities          0.168641\n",
      "description_year_built         0.116526\n",
      "days_on_market                 0.109374\n",
      "description_stories            0.106088\n",
      "year_listed                    0.094611\n",
      "community_outdoor_space        0.059470\n",
      "basement                       0.044304\n",
      "year_sold                      0.040330\n",
      "city_frequency                 0.025099\n",
      "city_view                      0.022971\n",
      "central_air                    0.013113\n",
      "state_frequency                0.011265\n",
      "central_heat                  -0.007216\n",
      "fenced_yard                   -0.093549\n",
      "dtype: float64\n"
     ]
    }
   ],
   "execution_count": 249
  },
  {
   "cell_type": "code",
   "metadata": {
    "ExecuteTime": {
     "end_time": "2024-12-05T04:19:19.839975Z",
     "start_time": "2024-12-05T04:19:19.739195Z"
    }
   },
   "source": [
    "# perform EDA here\n",
    "plt.figure(figsize=(10, 6))\n",
    "sns.histplot(y_train, kde=True, bins=50, color='blue')\n",
    "plt.title('Distribution of House Prices')\n",
    "plt.xlabel('House Price')\n",
    "plt.ylabel('Frequency')\n",
    "plt.show()"
   ],
   "outputs": [
    {
     "data": {
      "text/plain": [
       "<Figure size 1000x600 with 1 Axes>"
      ],
      "image/png": "[encoded data removed]"
     },
     "metadata": {},
     "output_type": "display_data"
    }
   ],
   "execution_count": 250
  },
  {
   "cell_type": "code",
   "metadata": {
    "ExecuteTime": {
     "end_time": "2024-12-05T04:19:19.931066Z",
     "start_time": "2024-12-05T04:19:19.862536Z"
    }
   },
   "source": [
    "plt.figure(figsize=(10, 6))\n",
    "sns.boxplot(x=y_train, color='orange')\n",
    "plt.title('Boxplot of House Prices')\n",
    "plt.xlabel('House Price')\n",
    "plt.show()"
   ],
   "outputs": [
    {
     "data": {
      "text/plain": [
       "<Figure size 1000x600 with 1 Axes>"
      ],
      "image/png": "[encoded data removed]"
     },
     "metadata": {},
     "output_type": "display_data"
    }
   ],
   "execution_count": 251
  },
  {
   "cell_type": "code",
   "metadata": {
    "ExecuteTime": {
     "end_time": "2024-12-05T04:19:20.054149Z",
     "start_time": "2024-12-05T04:19:19.953945Z"
    }
   },
   "source": [
    "plt.figure(figsize=(10, 6))\n",
    "sns.histplot(np.log1p(y_train), kde=True, bins=30, color='green')\n",
    "plt.title('Log-Transformed Distribution of House Prices')\n",
    "plt.xlabel('Log of House Price')\n",
    "plt.ylabel('Frequency')\n",
    "plt.show()"
   ],
   "outputs": [
    {
     "data": {
      "text/plain": [
       "<Figure size 1000x600 with 1 Axes>"
      ],
      "image/png": "[encoded data removed]"
     },
     "metadata": {},
     "output_type": "display_data"
    }
   ],
   "execution_count": 252
  },
  {
   "cell_type": "markdown",
   "metadata": {},
   "source": [
    "## Scaling and Finishing Up"
   ]
  },
  {
   "cell_type": "markdown",
   "metadata": {},
   "source": [
    "Now is a great time to scale the data and save it once it's preprocessed.\n",
    "- You can save it in your data folder, but you may want to make a new `processed/` subfolder to keep it organized"
   ]
  },
  {
   "cell_type": "code",
   "metadata": {
    "ExecuteTime": {
     "end_time": "2024-12-05T04:19:20.139035Z",
     "start_time": "2024-12-05T04:19:20.136370Z"
    }
   },
   "source": [
    "#reorder columns for train and test x and y data\n",
    "X_train_scaled, X_test_scaled = reorder_columns_train_test(X_train_scaled, X_test_scaled)"
   ],
   "outputs": [],
   "execution_count": 253
  },
  {
   "cell_type": "code",
   "metadata": {
    "ExecuteTime": {
     "end_time": "2024-12-05T04:19:20.212418Z",
     "start_time": "2024-12-05T04:19:20.158830Z"
    }
   },
   "source": [
    "# List of dataset names\n",
    "set_names = ['X_train_scaled', 'X_test_scaled', 'y_train', 'y_test']\n",
    "# Path to save the processed data\n",
    "processed_data_path = '../data/processed/'\n",
    "# Save the processed data\n",
    "for i in set_names:\n",
    "    exec(f\"{i}.to_csv('{processed_data_path + i}.csv', index=False)\")"
   ],
   "outputs": [],
   "execution_count": 254
  },
  {
   "metadata": {
    "ExecuteTime": {
     "end_time": "2024-12-05T04:19:20.233687Z",
     "start_time": "2024-12-05T04:19:20.232266Z"
    }
   },
   "cell_type": "code",
   "source": [
    "# X_train_scaled.to_csv('../data/processed/X_train.csv', index=False)\n",
    "# X_test_scaled.to_csv('../data/processed/X_test.csv', index=False)\n",
    "# y_train.to_csv('../data/processed/y_train.csv', index=False)\n",
    "# y_test.to_csv('../data/processed/y_test.csv', index=False)"
   ],
   "outputs": [],
   "execution_count": 255
  }
 ],
 "metadata": {
  "kernelspec": {
   "display_name": "Python 3 (ipykernel)",
   "language": "python",
   "name": "python3"
  },
  "language_info": {
   "codemirror_mode": {
    "name": "ipython",
    "version": 3
   },
   "file_extension": ".py",
   "mimetype": "text/x-python",
   "name": "python",
   "nbconvert_exporter": "python",
   "pygments_lexer": "ipython3",
   "version": "3.12.7"
  }
 },
 "nbformat": 4,
 "nbformat_minor": 2
}
