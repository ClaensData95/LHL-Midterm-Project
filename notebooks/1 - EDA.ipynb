{
 "cells": [
  {
   "cell_type": "markdown",
   "metadata": {},
   "source": [
    "# EDA"
   ]
  },
  {
   "cell_type": "markdown",
   "metadata": {},
   "source": [
    "- The os module has a perfect method to list files in a directory.\n",
    "- Pandas json normalize could work here but is not necessary to convert the JSON data to a dataframe.\n",
    "- You may need a nested for-loop to access each sale!\n",
    "- We've put a lot of time into creating the structure of this repository, and it's a good example for future projects.  In the file functions_variables.py, there is an example function that you can import and use.  If you have any variables, functions or classes that you want to make, they can be put in the functions_variables.py file and imported into a notebook.  Note that only .py files can be imported into a notebook. If you want to import everything from a .py file, you can use the following:\n",
    "```python\n",
    "from functions_variables import *\n",
    "```\n",
    "If you just import functions_variables, then each object from the file will need to be prepended with \"functions_variables\"\\\n",
    "Using this .py file will keep your notebooks very organized and make it easier to reuse code between notebooks."
   ]
  },
  {
   "cell_type": "code",
   "execution_count": 1,
   "metadata": {
    "ExecuteTime": {
     "end_time": "2024-12-01T16:35:20.825828Z",
     "start_time": "2024-12-01T16:35:20.823836Z"
    }
   },
   "outputs": [],
   "source": [
    "# (this is not an exhaustive list of libraries)\n",
    "import pandas as pd\n",
    "import numpy as np\n",
    "import os\n",
    "import json\n",
    "from pprint import pprint\n",
    "from functions_variables import threshold_column, ohe_column, json_to_df, reorder_columns\n",
    "from collections import Counter\n"
   ]
  },
  {
   "cell_type": "markdown",
   "metadata": {},
   "source": [
    "## Data Importing"
   ]
  },
  {
   "cell_type": "code",
   "execution_count": 2,
   "metadata": {
    "ExecuteTime": {
     "end_time": "2024-12-01T16:35:20.842103Z",
     "start_time": "2024-12-01T16:35:20.838071Z"
    }
   },
   "outputs": [],
   "source": [
    "# load one file first to see what type of data you're dealing with and what attributes it has\n",
    "tmp_df = pd.read_json('../data/housing/AK_Juneau_0.json')\n",
    "# tmp_df['data']['results']"
   ]
  },
  {
   "cell_type": "code",
   "execution_count": 3,
   "metadata": {
    "ExecuteTime": {
     "end_time": "2024-12-01T16:35:20.860653Z",
     "start_time": "2024-12-01T16:35:20.858739Z"
    }
   },
   "outputs": [],
   "source": [
    "# Create empty DataFrame for housing\n",
    "df = pd.DataFrame()\n",
    "# The path to the data files\n",
    "dir_path = '../data/housing/'"
   ]
  },
  {
   "cell_type": "code",
   "execution_count": 4,
   "metadata": {
    "ExecuteTime": {
     "end_time": "2024-12-01T16:35:21.956567Z",
     "start_time": "2024-12-01T16:35:20.872462Z"
    }
   },
   "outputs": [],
   "source": [
    "# loop over all files and put them into a dataframe\n",
    "# n = 0\n",
    "for file_name in sorted(os.listdir(dir_path)):\n",
    "    # n += 1\n",
    "    if file_name.endswith('.json'):\n",
    "        # print(f'File: {file_name}')\n",
    "        file_path = os.path.join(dir_path, file_name)\n",
    "        tmp = json_to_df(file_path)\n",
    "        tmp = tmp.dropna(axis=1, how='all')\n",
    "        df = pd.concat([df, tmp], ignore_index=True)\n",
    "    # if n > 1: break\n",
    "# df"
   ]
  },
  {
   "cell_type": "markdown",
   "metadata": {},
   "source": [
    "## Data Cleaning and Wrangling"
   ]
  },
  {
   "cell_type": "markdown",
   "metadata": {},
   "source": [
    "At this point, ensure that you have all sales in a dataframe.\n",
    "- Take a quick look at your data (i.e. `.info()`, `.describe()`) - what do you see?\n",
    "- Is each cell one value, or do some cells have lists?\n",
    "- What are the data types of each column?\n",
    "- Some sales may not actually include the sale price (target).  These rows should be dropped.\n",
    "- There are a lot of NA/None values.  Should these be dropped or replaced with something?\n",
    "    - You can drop rows or use various methods to fills NA's - use your best judgement for each column \n",
    "    - i.e. for some columns (like Garage), NA probably just means no Garage, so 0\n",
    "- Drop columns that aren't needed\n",
    "    - Don't keep the list price because it will be too close to the sale price. Assume we want to predict the price of houses not yet listed"
   ]
  },
  {
   "cell_type": "code",
   "execution_count": 5,
   "metadata": {
    "ExecuteTime": {
     "end_time": "2024-12-01T16:35:21.974057Z",
     "start_time": "2024-12-01T16:35:21.971878Z"
    }
   },
   "outputs": [
    {
     "data": {
      "text/plain": [
       "(8191, 50)"
      ]
     },
     "execution_count": 5,
     "metadata": {},
     "output_type": "execute_result"
    }
   ],
   "source": [
    "df.shape"
   ]
  },
  {
   "cell_type": "code",
   "execution_count": 6,
   "metadata": {
    "ExecuteTime": {
     "end_time": "2024-12-01T16:35:22.007018Z",
     "start_time": "2024-12-01T16:35:22.005086Z"
    }
   },
   "outputs": [],
   "source": [
    "columns = df.columns.sort_values().to_list()\n",
    "# columns"
   ]
  },
  {
   "cell_type": "code",
   "execution_count": 7,
   "metadata": {
    "ExecuteTime": {
     "end_time": "2024-12-01T16:35:22.029033Z",
     "start_time": "2024-12-01T16:35:22.022326Z"
    }
   },
   "outputs": [],
   "source": [
    "# Rearrange DataFrame columns\n",
    "df = df[columns]"
   ]
  },
  {
   "cell_type": "code",
   "execution_count": 8,
   "metadata": {
    "ExecuteTime": {
     "end_time": "2024-12-01T16:35:22.045033Z",
     "start_time": "2024-12-01T16:35:22.043143Z"
    }
   },
   "outputs": [],
   "source": [
    "# load and concatenate data here\n"
   ]
  },
  {
   "cell_type": "code",
   "execution_count": 9,
   "metadata": {
    "ExecuteTime": {
     "end_time": "2024-12-01T16:35:22.085389Z",
     "start_time": "2024-12-01T16:35:22.059113Z"
    }
   },
   "outputs": [],
   "source": [
    "# drop or replace values as necessary\n",
    "df = df.drop(\n",
    "    columns=[\n",
    "        'branding',\n",
    "        'community_advertisers',\n",
    "        'community_description_name',\n",
    "        # 'description.baths',\n",
    "        'description_baths_3qtr',\n",
    "        'description_baths_full',\n",
    "        'description_baths_half',\n",
    "        # 'description.beds',\n",
    "        # 'description.garage',\n",
    "        # 'description.lot_sqft',\n",
    "        # 'description.sold_date',\n",
    "        # 'description.sold_price',\n",
    "        # 'description.sqft',\n",
    "        # 'description.stories',\n",
    "        'description_sub_type',\n",
    "        'description_type',\n",
    "        # 'description.year_built',\n",
    "        'flags_is_foreclosure',\n",
    "        'flags_is_new_listing',\n",
    "        'flags_is_price_reduced',\n",
    "        'last_update_date',\n",
    "        'lead_attributes_show_contact_an_agent',\n",
    "        #'list_date',\n",
    "        # 'list_price',\n",
    "        'listing_id',\n",
    "        #'location_address_city',\n",
    "        'location_address_coordinate_lat',\n",
    "        'location_address_coordinate_lon',\n",
    "        'location_address_line',\n",
    "        'location_address_postal_code',\n",
    "        # 'location.address.state',\n",
    "        'location_address_state_code',\n",
    "        'location_county_fips_code',\n",
    "        'location_county_name',\n",
    "        'location_street_view_url',\n",
    "        'matterport',\n",
    "        'other_listings_rdc',\n",
    "        'permalink',\n",
    "        'photos',\n",
    "        # 'price_reduced_amount',\n",
    "        'primary_photo_href',\n",
    "        'products_brand_name',\n",
    "        # 'property_id',\n",
    "        'source_agents',\n",
    "        'source_plan_id',\n",
    "        'source_spec_id',\n",
    "        'source_type',\n",
    "        'status',\n",
    "        # 'tags',\n",
    "        'virtual_tours'\n",
    "    ],\n",
    "    errors='ignore'\n",
    ")"
   ]
  },
  {
   "cell_type": "code",
   "execution_count": 10,
   "metadata": {},
   "outputs": [],
   "source": [
    "#add 0 to all the rows that have description_garage as NaN\n",
    "df['description_garage'] = df['description_garage'].fillna(0)\n",
    "\n",
    "#check and count the different values in the column description_stories\n",
    "df['description_stories'].value_counts()\n",
    "\n",
    "#drop all the rows that have description_stories = 10.0, 8.0, 6.0\n",
    "df = df[~df['description_stories'].isin([10.0, 8.0, 6.0])]\n",
    "\n",
    "#add 0 to all the rows that have description_garage as NaN\n",
    "df['price_reduced_amount'] = df['price_reduced_amount'].fillna(0)\n",
    "\n",
    "\n",
    "#drop all the rows with missing description_sold_price\n",
    "df = df.dropna(subset=['description_sold_price'])\n",
    "\n",
    "\n"
   ]
  },
  {
   "cell_type": "code",
   "execution_count": 11,
   "metadata": {},
   "outputs": [],
   "source": [
    "# Extract the date part using regex\n",
    "df['list_date'] = df['list_date'].str.extract(r'(\\d{4}-\\d{2}-\\d{2})')\n",
    "\n",
    "# Convert to datetime format\n",
    "df['list_date'] = pd.to_datetime(df['list_date'], format='%Y-%m-%d', errors='coerce')"
   ]
  },
  {
   "cell_type": "code",
   "execution_count": 12,
   "metadata": {},
   "outputs": [],
   "source": [
    "# Step 1: Ensure 'list_date' values are strings\n",
    "df['list_date'] = df['list_date'].astype(str)\n",
    "\n",
    "# Step 2: Extract only the date (YYYY-MM-DD)\n",
    "df['list_date'] = df['list_date'].str.extract(r'(\\d{4}-\\d{2}-\\d{2})')\n",
    "\n",
    "# Step 3: Convert to datetime format\n",
    "df['list_date'] = pd.to_datetime(df['list_date'], format='%Y-%m-%d', errors='coerce')\n"
   ]
  },
  {
   "cell_type": "code",
   "execution_count": 13,
   "metadata": {},
   "outputs": [],
   "source": [
    "df['list_date'] = pd.to_datetime(df['list_date'], errors='coerce')\n",
    "df['description_sold_date'] = pd.to_datetime(df['description_sold_date'], errors='coerce')"
   ]
  },
  {
   "cell_type": "code",
   "execution_count": 14,
   "metadata": {},
   "outputs": [
    {
     "name": "stdout",
     "output_type": "stream",
     "text": [
      "    list_date description_sold_date  days_on_market\n",
      "30 2023-12-19            2024-01-16            28.0\n",
      "31 2023-11-10            2024-01-16            67.0\n",
      "32 2023-12-19            2024-01-16            28.0\n",
      "33 2023-07-05            2024-01-16           195.0\n",
      "34 2023-10-29            2024-01-12            75.0\n"
     ]
    }
   ],
   "source": [
    "# Calculate the number of days on the market\n",
    "df['days_on_market'] = (df['description_sold_date'] - df['list_date']).dt.days\n",
    "\n",
    "# Preview the result\n",
    "print(df[['list_date', 'description_sold_date', 'days_on_market']].head())"
   ]
  },
  {
   "cell_type": "code",
   "execution_count": 15,
   "metadata": {},
   "outputs": [],
   "source": [
    "#drop list_price\n",
    "df = df.drop(columns=['list_price'])"
   ]
  },
  {
   "cell_type": "code",
   "execution_count": 16,
   "metadata": {},
   "outputs": [
    {
     "name": "stdout",
     "output_type": "stream",
     "text": [
      "<class 'pandas.core.frame.DataFrame'>\n",
      "Index: 6693 entries, 30 to 8185\n",
      "Data columns (total 16 columns):\n",
      " #   Column                  Non-Null Count  Dtype         \n",
      "---  ------                  --------------  -----         \n",
      " 0   description_baths       6543 non-null   float64       \n",
      " 1   description_beds        6200 non-null   float64       \n",
      " 2   description_garage      6693 non-null   float64       \n",
      " 3   description_lot_sqft    5772 non-null   float64       \n",
      " 4   description_sold_date   6693 non-null   datetime64[ns]\n",
      " 5   description_sold_price  6693 non-null   float64       \n",
      " 6   description_sqft        6038 non-null   float64       \n",
      " 7   description_stories     5076 non-null   float64       \n",
      " 8   description_year_built  6018 non-null   float64       \n",
      " 9   list_date               6406 non-null   datetime64[ns]\n",
      " 10  location_address_city   6688 non-null   object        \n",
      " 11  location_address_state  6693 non-null   object        \n",
      " 12  price_reduced_amount    6693 non-null   float64       \n",
      " 13  property_id             6693 non-null   object        \n",
      " 14  tags                    6307 non-null   object        \n",
      " 15  days_on_market          6406 non-null   float64       \n",
      "dtypes: datetime64[ns](2), float64(10), object(4)\n",
      "memory usage: 888.9+ KB\n"
     ]
    }
   ],
   "source": [
    "df.info()"
   ]
  },
  {
   "cell_type": "code",
   "execution_count": 17,
   "metadata": {},
   "outputs": [],
   "source": [
    "#create a function that takes the columns description_sold_date and list_date and returns two new columns: year_sold and year_listed\n",
    "def year_sold_listed(df):\n",
    "    df['year_sold'] = df['description_sold_date'].dt.year\n",
    "    df['year_listed'] = df['list_date'].dt.year\n",
    "    return df\n",
    "\n",
    "#apply the function to the DataFrame\n",
    "df = year_sold_listed(df)\n"
   ]
  },
  {
   "cell_type": "code",
   "execution_count": 18,
   "metadata": {},
   "outputs": [],
   "source": [
    "#drop description_sold_date and list_date\n",
    "df = df.drop(columns=['description_sold_date', 'list_date'])"
   ]
  },
  {
   "cell_type": "markdown",
   "metadata": {},
   "source": [
    "### Dealing with Tags"
   ]
  },
  {
   "cell_type": "markdown",
   "metadata": {},
   "source": [
    "Consider the fact that with tags, there are a lot of categorical variables.\n",
    "- How many columns would we have if we OHE tags, city and state?\n",
    "- Perhaps we can get rid of tags that have a low frequency."
   ]
  },
  {
   "cell_type": "code",
   "execution_count": null,
   "metadata": {},
   "outputs": [],
   "source": [
    "# One-Hot Encode the columns, considering low frequency removal for 'tags'\n",
    "\n",
    "if 'tags' in df.columns:\n",
    "    # Flatten all tags into a single list\n",
    "    all_tags = df['tags'].dropna().sum()\n",
    "\n",
    "    # Count occurrences of each tag\n",
    "    tag_counts = Counter(all_tags)\n",
    "\n",
    "    # Convert to a DataFrame for easier review\n",
    "    tag_counts_df = pd.DataFrame(tag_counts.items(), columns=['Tag', 'Count'])\n",
    "\n",
    "    # Sort by count (descending order)\n",
    "    tag_counts_df = tag_counts_df.sort_values(by='Count', ascending=False)\n",
    "\n",
    "    # Display top tags\n",
    "    print(tag_counts_df)\n",
    "\n",
    "#set option to display all the rows\n",
    "pd.set_option('display.max_rows', None)    "
   ]
  },
  {
   "cell_type": "code",
   "execution_count": null,
   "metadata": {
    "ExecuteTime": {
     "end_time": "2024-12-01T16:46:22.479146Z",
     "start_time": "2024-12-01T16:46:22.445956Z"
    }
   },
   "outputs": [],
   "source": [
    "# List of selected tags for one-hot encoding\n",
    "selected_tags = [\n",
    "    \"central_air\", \"community_outdoor_space\", \"basement\", \"fireplace\",\n",
    "    \"hardwood_floors\", \"recreation_facilities\", \"community_security_features\",\n",
    "    \"view\", \"central_heat\", \"city_view\", \"fenced_yard\"\n",
    "]\n",
    "\n",
    "# Ensure the tags column exists\n",
    "if 'tags' in df.columns:\n",
    "    # Replace NaN in the tags column with an empty list\n",
    "    df['tags'] = df['tags'].apply(lambda x: x if isinstance(x, list) else [])\n",
    "    \n",
    "    # Create one-hot encoding columns for selected tags\n",
    "    for tag in selected_tags:\n",
    "        df[tag] = df['tags'].apply(lambda x: 1 if tag in x else 0)\n",
    "\n",
    "#drop tags column\n",
    "df = df.drop(columns=['tags'])"
   ]
  },
  {
   "cell_type": "code",
   "execution_count": null,
   "metadata": {},
   "outputs": [],
   "source": [
    "num_unique_cities = df['location_address_city'].nunique()\n",
    "num_unique_states = df['location_address_state'].nunique()\n",
    "\n",
    "print(f\"Number of unique cities: {num_unique_cities}\")\n",
    "print(f\"Number of unique states: {num_unique_states}\")"
   ]
  },
  {
   "cell_type": "code",
   "execution_count": null,
   "metadata": {},
   "outputs": [],
   "source": [
    "if 'location_address_city' in df.columns:\n",
    "    # Frequency encode city\n",
    "    city_counts = df['location_address_city'].value_counts()\n",
    "    df['city_frequency'] = df['location_address_city'].map(city_counts)\n",
    "    print(\"Frequency encoding applied to 'city' column.\")\n",
    "    \n",
    "elif 'location_address_state' in df.columns:\n",
    "    # Frequency encode state\n",
    "    state_counts = df['location_address_state'].value_counts()\n",
    "    df['state_frequency'] = df['location_address_state'].map(state_counts)\n",
    "    print(\"Frequency encoding applied to 'state' column.\")\n"
   ]
  },
  {
   "cell_type": "code",
   "execution_count": null,
   "metadata": {},
   "outputs": [],
   "source": [
    "# Reorder the DataFrame\n",
    "df = reorder_columns(df)"
   ]
  },
  {
   "cell_type": "markdown",
   "metadata": {},
   "source": [
    "### Dealing with Cities"
   ]
  },
  {
   "cell_type": "markdown",
   "metadata": {},
   "source": [
    "- Sales will vary drastically between cities and states.  Is there a way to keep information about which city it is without OHE?\n",
    "- Could we label encode or ordinal encode?  Yes, but this may have undesirable effects, giving nominal data ordinal values.\n",
    "- What we can do is use our training data to encode the mean sale price by city as a feature (a.k.a. Target Encoding)\n",
    "    - We can do this as long as we ONLY use the training data - we're using the available data to give us a 'starting guess' of the price for each city, without needing to encode city explicitly\n",
    "- If you replace cities or states with numerical values (like the mean price), make sure that the data is split so that we don't leak data into the training selection. This is a great time to train test split. Compute on the training data, and join these values to the test data\n",
    "- Note that you *may* have cities in the test set that are not in the training set. You don't want these to be NA, so maybe you can fill them with the overall mean"
   ]
  },
  {
   "cell_type": "code",
   "execution_count": null,
   "metadata": {
    "ExecuteTime": {
     "end_time": "2024-12-01T16:35:22.411557Z",
     "start_time": "2024-12-01T16:35:22.409882Z"
    }
   },
   "outputs": [],
   "source": [
    "# perform train test split here\n",
    "# do something with state and city"
   ]
  },
  {
   "cell_type": "markdown",
   "metadata": {},
   "source": [
    "## Extra Data - STRETCH\n",
    "\n",
    "> This doesn't need to be part of your Minimum Viable Product (MVP). We recommend you write a functional, basic pipeline first, then circle back and join new data if you have time\n",
    "\n",
    "> If you do this, try to write your downstream steps in a way it will still work on a dataframe with different features!\n",
    "\n",
    "- You're not limited to just using the data provided to you. Think/ do some research about other features that might be useful to predict housing prices. \n",
    "- Can you import and join this data? Make sure you do any necessary preprocessing and make sure it is joined correctly.\n",
    "- Example suggestion: could mortgage interest rates in the year of the listing affect the price? "
   ]
  },
  {
   "cell_type": "code",
   "execution_count": null,
   "metadata": {
    "ExecuteTime": {
     "end_time": "2024-12-01T16:35:22.430650Z",
     "start_time": "2024-12-01T16:35:22.429159Z"
    }
   },
   "outputs": [],
   "source": [
    "# import, join and preprocess new data here"
   ]
  },
  {
   "cell_type": "markdown",
   "metadata": {},
   "source": [
    "## EDA/ Visualization\n",
    "\n",
    "Remember all of the EDA that you've been learning about?  Now is a perfect time for it!\n",
    "- Look at distributions of numerical variables to see the shape of the data and detect outliers.    \n",
    "    - Consider transforming very skewed variables\n",
    "- Scatterplots of a numerical variable and the target go a long way to show correlations.\n",
    "- A heatmap will help detect highly correlated features, and we don't want these.\n",
    "    - You may have too many features to do this, in which case you can simply compute the most correlated feature-pairs and list them\n",
    "- Is there any overlap in any of the features? (redundant information, like number of this or that room...)"
   ]
  },
  {
   "cell_type": "code",
   "execution_count": null,
   "metadata": {
    "ExecuteTime": {
     "end_time": "2024-12-01T16:35:22.448208Z",
     "start_time": "2024-12-01T16:35:22.446494Z"
    }
   },
   "outputs": [],
   "source": [
    "# perform EDA here"
   ]
  },
  {
   "cell_type": "markdown",
   "metadata": {},
   "source": [
    "## Scaling and Finishing Up"
   ]
  },
  {
   "cell_type": "markdown",
   "metadata": {},
   "source": [
    "Now is a great time to scale the data and save it once it's preprocessed.\n",
    "- You can save it in your data folder, but you may want to make a new `processed/` subfolder to keep it organized"
   ]
  },
  {
   "cell_type": "code",
   "execution_count": null,
   "metadata": {
    "ExecuteTime": {
     "end_time": "2024-12-01T16:35:22.464761Z",
     "start_time": "2024-12-01T16:35:22.463484Z"
    }
   },
   "outputs": [],
   "source": []
  }
 ],
 "metadata": {
  "kernelspec": {
   "display_name": "test_env",
   "language": "python",
   "name": "test_env"
  },
  "language_info": {
   "codemirror_mode": {
    "name": "ipython",
    "version": 3
   },
   "file_extension": ".py",
   "mimetype": "text/x-python",
   "name": "python",
   "nbconvert_exporter": "python",
   "pygments_lexer": "ipython3",
   "version": "3.12.7"
  }
 },
 "nbformat": 4,
 "nbformat_minor": 2
}
