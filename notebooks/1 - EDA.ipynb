{
 "cells": [
  {
   "cell_type": "markdown",
   "metadata": {},
   "source": [
    "# EDA"
   ]
  },
  {
   "cell_type": "markdown",
   "metadata": {},
   "source": [
    "\n",
    "- The os module has a perfect method to list files in a directory.\n",
    "- Pandas json normalize could work here but is not necessary to convert the JSON data to a dataframe.\n",
    "- You may need a nested for-loop to access each sale!\n",
    "- We've put a lot of time into creating the structure of this repository, and it's a good example for future projects.  In the file functions_variables.py, there is an example function that you can import and use.  If you have any variables, functions or classes that you want to make, they can be put in the functions_variables.py file and imported into a notebook.  Note that only .py files can be imported into a notebook. If you want to import everything from a .py file, you can use the following:\n",
    "```python\n",
    "from functions_variables import *\n",
    "```\n",
    "If you just import functions_variables, then each object from the file will need to be prepended with \"functions_variables\"\\\n",
    "Using this .py file will keep your notebooks very organized and make it easier to reuse code between notebooks."
   ]
  },
  {
   "cell_type": "code",
   "metadata": {
    "ExecuteTime": {
     "end_time": "2024-11-30T03:04:19.281100Z",
     "start_time": "2024-11-30T03:04:19.020148Z"
    }
   },
   "source": [
    "# (this is not an exhaustive list of libraries)\n",
    "import pandas as pd\n",
    "import numpy as np\n",
    "import os\n",
    "import json\n",
    "from pprint import pprint\n",
    "\n",
    "from setuptools.command.bdist_egg import sorted_walk\n",
    "\n",
    "from functions_variables import encode_tags"
   ],
   "outputs": [],
   "execution_count": 2
  },
  {
   "cell_type": "markdown",
   "metadata": {},
   "source": [
    "## Data Importing"
   ]
  },
  {
   "cell_type": "code",
   "execution_count": null,
   "metadata": {},
   "outputs": [],
   "source": [
    "# load one file first to see what type of data you're dealing with and what attributes it has"
   ]
  },
  {
   "cell_type": "code",
   "metadata": {
    "ExecuteTime": {
     "end_time": "2024-11-30T03:08:10.761971Z",
     "start_time": "2024-11-30T03:08:10.757880Z"
    }
   },
   "source": [
    "# loop over all files and put them into a dataframe\n",
    "# List all files in the specified directory\n",
    "directory_path = '../data/housing/'\n",
    "for filename in sorted(os.listdir(directory_path)):\n",
    "    if filename.endswith('.json'):\n",
    "        print(f'File: {filename}')\n",
    "    # file_path = os.path.join(directory_path, filename)\n",
    "    # if os.path.isfile(file_path):\n",
    "    #     with open(file_path, 'r') as file:\n",
    "    #         content = file.read()\n",
    "    #         print(f'Content of {filename}:')\n",
    "    #         print(content)"
   ],
   "outputs": [
    {
     "name": "stdout",
     "output_type": "stream",
     "text": [
      "File: AK_Juneau_0.json\n",
      "File: AK_Juneau_1.json\n",
      "File: AK_Juneau_2.json\n",
      "File: AK_Juneau_3.json\n",
      "File: AK_Juneau_4.json\n",
      "File: AL_Montgomery_0.json\n",
      "File: AL_Montgomery_1.json\n",
      "File: AL_Montgomery_2.json\n",
      "File: AL_Montgomery_3.json\n",
      "File: AL_Montgomery_4.json\n",
      "File: AR_LittleRock_0.json\n",
      "File: AR_LittleRock_1.json\n",
      "File: AR_LittleRock_2.json\n",
      "File: AR_LittleRock_3.json\n",
      "File: AR_LittleRock_4.json\n",
      "File: AZ_Phoenix_0.json\n",
      "File: AZ_Phoenix_1.json\n",
      "File: AZ_Phoenix_2.json\n",
      "File: AZ_Phoenix_3.json\n",
      "File: AZ_Phoenix_4.json\n",
      "File: CA_Sacramento_0.json\n",
      "File: CA_Sacramento_1.json\n",
      "File: CA_Sacramento_2.json\n",
      "File: CA_Sacramento_3.json\n",
      "File: CA_Sacramento_4.json\n",
      "File: CO_Denver_0.json\n",
      "File: CO_Denver_1.json\n",
      "File: CO_Denver_2.json\n",
      "File: CO_Denver_3.json\n",
      "File: CO_Denver_4.json\n",
      "File: CT_Hartford_0.json\n",
      "File: CT_Hartford_1.json\n",
      "File: CT_Hartford_2.json\n",
      "File: CT_Hartford_3.json\n",
      "File: CT_Hartford_4.json\n",
      "File: DE_Dover_0.json\n",
      "File: DE_Dover_1.json\n",
      "File: DE_Dover_2.json\n",
      "File: DE_Dover_3.json\n",
      "File: DE_Dover_4.json\n",
      "File: FL_Tallahassee_0.json\n",
      "File: FL_Tallahassee_1.json\n",
      "File: FL_Tallahassee_2.json\n",
      "File: FL_Tallahassee_3.json\n",
      "File: FL_Tallahassee_4.json\n",
      "File: GA_Atlanta_0.json\n",
      "File: GA_Atlanta_1.json\n",
      "File: GA_Atlanta_2.json\n",
      "File: GA_Atlanta_3.json\n",
      "File: GA_Atlanta_4.json\n",
      "File: HI_Honolulu_0.json\n",
      "File: HI_Honolulu_1.json\n",
      "File: HI_Honolulu_2.json\n",
      "File: HI_Honolulu_3.json\n",
      "File: HI_Honolulu_4.json\n",
      "File: IA_DesMoines_0.json\n",
      "File: IA_DesMoines_1.json\n",
      "File: IA_DesMoines_2.json\n",
      "File: IA_DesMoines_3.json\n",
      "File: IA_DesMoines_4.json\n",
      "File: ID_Boise_0.json\n",
      "File: ID_Boise_1.json\n",
      "File: ID_Boise_2.json\n",
      "File: ID_Boise_3.json\n",
      "File: ID_Boise_4.json\n",
      "File: IL_Springfield_0.json\n",
      "File: IL_Springfield_1.json\n",
      "File: IL_Springfield_2.json\n",
      "File: IL_Springfield_3.json\n",
      "File: IL_Springfield_4.json\n",
      "File: IN_Indianapolis_0.json\n",
      "File: IN_Indianapolis_1.json\n",
      "File: IN_Indianapolis_2.json\n",
      "File: IN_Indianapolis_3.json\n",
      "File: IN_Indianapolis_4.json\n",
      "File: KS_Topeka_0.json\n",
      "File: KS_Topeka_1.json\n",
      "File: KS_Topeka_2.json\n",
      "File: KS_Topeka_3.json\n",
      "File: KS_Topeka_4.json\n",
      "File: KY_Frankfort_0.json\n",
      "File: KY_Frankfort_1.json\n",
      "File: KY_Frankfort_2.json\n",
      "File: KY_Frankfort_3.json\n",
      "File: KY_Frankfort_4.json\n",
      "File: LA_BatonRouge_0.json\n",
      "File: LA_BatonRouge_1.json\n",
      "File: LA_BatonRouge_2.json\n",
      "File: LA_BatonRouge_3.json\n",
      "File: LA_BatonRouge_4.json\n",
      "File: MA_Boston_0.json\n",
      "File: MA_Boston_1.json\n",
      "File: MA_Boston_2.json\n",
      "File: MA_Boston_3.json\n",
      "File: MA_Boston_4.json\n",
      "File: MD_Annapolis_0.json\n",
      "File: MD_Annapolis_1.json\n",
      "File: MD_Annapolis_2.json\n",
      "File: MD_Annapolis_3.json\n",
      "File: MD_Annapolis_4.json\n",
      "File: ME_Augusta_0.json\n",
      "File: ME_Augusta_1.json\n",
      "File: ME_Augusta_2.json\n",
      "File: ME_Augusta_3.json\n",
      "File: ME_Augusta_4.json\n",
      "File: MI_Lansing_0.json\n",
      "File: MI_Lansing_1.json\n",
      "File: MI_Lansing_2.json\n",
      "File: MI_Lansing_3.json\n",
      "File: MI_Lansing_4.json\n",
      "File: MN_St.Paul_0.json\n",
      "File: MN_St.Paul_1.json\n",
      "File: MN_St.Paul_2.json\n",
      "File: MN_St.Paul_3.json\n",
      "File: MN_St.Paul_4.json\n",
      "File: MO_JeffersonCity_0.json\n",
      "File: MO_JeffersonCity_1.json\n",
      "File: MO_JeffersonCity_2.json\n",
      "File: MO_JeffersonCity_3.json\n",
      "File: MO_JeffersonCity_4.json\n",
      "File: MS_Jackson_0.json\n",
      "File: MS_Jackson_1.json\n",
      "File: MS_Jackson_2.json\n",
      "File: MS_Jackson_3.json\n",
      "File: MS_Jackson_4.json\n",
      "File: MT_Helena_0.json\n",
      "File: MT_Helena_1.json\n",
      "File: MT_Helena_2.json\n",
      "File: MT_Helena_3.json\n",
      "File: MT_Helena_4.json\n",
      "File: NC_Raleigh_0.json\n",
      "File: NC_Raleigh_1.json\n",
      "File: NC_Raleigh_2.json\n",
      "File: NC_Raleigh_3.json\n",
      "File: NC_Raleigh_4.json\n",
      "File: ND_Bismarck_0.json\n",
      "File: ND_Bismarck_1.json\n",
      "File: ND_Bismarck_2.json\n",
      "File: ND_Bismarck_3.json\n",
      "File: ND_Bismarck_4.json\n",
      "File: NE_Lincoln_0.json\n",
      "File: NE_Lincoln_1.json\n",
      "File: NE_Lincoln_2.json\n",
      "File: NE_Lincoln_3.json\n",
      "File: NE_Lincoln_4.json\n",
      "File: NH_Concord_0.json\n",
      "File: NH_Concord_1.json\n",
      "File: NH_Concord_2.json\n",
      "File: NH_Concord_3.json\n",
      "File: NH_Concord_4.json\n",
      "File: NJ_Trenton_0.json\n",
      "File: NJ_Trenton_1.json\n",
      "File: NJ_Trenton_2.json\n",
      "File: NJ_Trenton_3.json\n",
      "File: NJ_Trenton_4.json\n",
      "File: NM_SantaFe_0.json\n",
      "File: NM_SantaFe_1.json\n",
      "File: NM_SantaFe_2.json\n",
      "File: NM_SantaFe_3.json\n",
      "File: NM_SantaFe_4.json\n",
      "File: NV_CarsonCity_0.json\n",
      "File: NV_CarsonCity_1.json\n",
      "File: NV_CarsonCity_2.json\n",
      "File: NV_CarsonCity_3.json\n",
      "File: NV_CarsonCity_4.json\n",
      "File: NY_Albany_0.json\n",
      "File: NY_Albany_1.json\n",
      "File: NY_Albany_2.json\n",
      "File: NY_Albany_3.json\n",
      "File: NY_Albany_4.json\n",
      "File: OH_Columbus_0.json\n",
      "File: OH_Columbus_1.json\n",
      "File: OH_Columbus_2.json\n",
      "File: OH_Columbus_3.json\n",
      "File: OH_Columbus_4.json\n",
      "File: OK_OklahomaCity_0.json\n",
      "File: OK_OklahomaCity_1.json\n",
      "File: OK_OklahomaCity_2.json\n",
      "File: OK_OklahomaCity_3.json\n",
      "File: OK_OklahomaCity_4.json\n",
      "File: OR_Salem_0.json\n",
      "File: OR_Salem_1.json\n",
      "File: OR_Salem_2.json\n",
      "File: OR_Salem_3.json\n",
      "File: OR_Salem_4.json\n",
      "File: PA_Harrisburg_0.json\n",
      "File: PA_Harrisburg_1.json\n",
      "File: PA_Harrisburg_2.json\n",
      "File: PA_Harrisburg_3.json\n",
      "File: PA_Harrisburg_4.json\n",
      "File: RI_Providence_0.json\n",
      "File: RI_Providence_1.json\n",
      "File: RI_Providence_2.json\n",
      "File: RI_Providence_3.json\n",
      "File: RI_Providence_4.json\n",
      "File: SC_Columbia_0.json\n",
      "File: SC_Columbia_1.json\n",
      "File: SC_Columbia_2.json\n",
      "File: SC_Columbia_3.json\n",
      "File: SC_Columbia_4.json\n",
      "File: SD_Pierre_0.json\n",
      "File: SD_Pierre_1.json\n",
      "File: SD_Pierre_2.json\n",
      "File: SD_Pierre_3.json\n",
      "File: SD_Pierre_4.json\n",
      "File: TN_Nashville_0.json\n",
      "File: TN_Nashville_1.json\n",
      "File: TN_Nashville_2.json\n",
      "File: TN_Nashville_3.json\n",
      "File: TN_Nashville_4.json\n",
      "File: TX_Austin_0.json\n",
      "File: TX_Austin_1.json\n",
      "File: TX_Austin_2.json\n",
      "File: TX_Austin_3.json\n",
      "File: TX_Austin_4.json\n",
      "File: UT_SaltLakeCity_0.json\n",
      "File: UT_SaltLakeCity_1.json\n",
      "File: UT_SaltLakeCity_2.json\n",
      "File: UT_SaltLakeCity_3.json\n",
      "File: UT_SaltLakeCity_4.json\n",
      "File: VA_Richmond_0.json\n",
      "File: VA_Richmond_1.json\n",
      "File: VA_Richmond_2.json\n",
      "File: VA_Richmond_3.json\n",
      "File: VA_Richmond_4.json\n",
      "File: VT_Montpelier_0.json\n",
      "File: VT_Montpelier_1.json\n",
      "File: VT_Montpelier_2.json\n",
      "File: VT_Montpelier_3.json\n",
      "File: VT_Montpelier_4.json\n",
      "File: WA_Olympia_0.json\n",
      "File: WA_Olympia_1.json\n",
      "File: WA_Olympia_2.json\n",
      "File: WA_Olympia_3.json\n",
      "File: WA_Olympia_4.json\n",
      "File: WI_Madison_0.json\n",
      "File: WI_Madison_1.json\n",
      "File: WI_Madison_2.json\n",
      "File: WI_Madison_3.json\n",
      "File: WI_Madison_4.json\n",
      "File: WV_Charleston_0.json\n",
      "File: WV_Charleston_1.json\n",
      "File: WV_Charleston_2.json\n",
      "File: WV_Charleston_3.json\n",
      "File: WV_Charleston_4.json\n",
      "File: WY_Cheyenne_0.json\n",
      "File: WY_Cheyenne_1.json\n",
      "File: WY_Cheyenne_2.json\n",
      "File: WY_Cheyenne_3.json\n",
      "File: WY_Cheyenne_4.json\n"
     ]
    }
   ],
   "execution_count": 4
  },
  {
   "cell_type": "markdown",
   "metadata": {},
   "source": [
    "## Data Cleaning and Wrangling"
   ]
  },
  {
   "cell_type": "markdown",
   "metadata": {},
   "source": [
    "At this point, ensure that you have all sales in a dataframe.\n",
    "- Take a quick look at your data (i.e. `.info()`, `.describe()`) - what do you see?\n",
    "- Is each cell one value, or do some cells have lists?\n",
    "- What are the data types of each column?\n",
    "- Some sales may not actually include the sale price (target).  These rows should be dropped.\n",
    "- There are a lot of NA/None values.  Should these be dropped or replaced with something?\n",
    "    - You can drop rows or use various methods to fills NA's - use your best judgement for each column \n",
    "    - i.e. for some columns (like Garage), NA probably just means no Garage, so 0\n",
    "- Drop columns that aren't needed\n",
    "    - Don't keep the list price because it will be too close to the sale price. Assume we want to predict the price of houses not yet listed"
   ]
  },
  {
   "cell_type": "code",
   "execution_count": null,
   "metadata": {},
   "outputs": [],
   "source": [
    "# load and concatenate data here\n",
    "# drop or replace values as necessary"
   ]
  },
  {
   "cell_type": "markdown",
   "metadata": {},
   "source": [
    "### Dealing with Tags"
   ]
  },
  {
   "cell_type": "markdown",
   "metadata": {},
   "source": [
    "Consider the fact that with tags, there are a lot of categorical variables.\n",
    "- How many columns would we have if we OHE tags, city and state?\n",
    "- Perhaps we can get rid of tags that have a low frequency."
   ]
  },
  {
   "cell_type": "code",
   "execution_count": null,
   "metadata": {},
   "outputs": [],
   "source": [
    "# OHE categorical variables/ tags here\n",
    "# tags will have to be done manually"
   ]
  },
  {
   "cell_type": "markdown",
   "metadata": {},
   "source": [
    "### Dealing with Cities"
   ]
  },
  {
   "cell_type": "markdown",
   "metadata": {},
   "source": [
    "- Sales will vary drastically between cities and states.  Is there a way to keep information about which city it is without OHE?\n",
    "- Could we label encode or ordinal encode?  Yes, but this may have undesirable effects, giving nominal data ordinal values.\n",
    "- What we can do is use our training data to encode the mean sale price by city as a feature (a.k.a. Target Encoding)\n",
    "    - We can do this as long as we ONLY use the training data - we're using the available data to give us a 'starting guess' of the price for each city, without needing to encode city explicitly\n",
    "- If you replace cities or states with numerical values (like the mean price), make sure that the data is split so that we don't leak data into the training selection. This is a great time to train test split. Compute on the training data, and join these values to the test data\n",
    "- Note that you *may* have cities in the test set that are not in the training set. You don't want these to be NA, so maybe you can fill them with the overall mean"
   ]
  },
  {
   "cell_type": "code",
   "execution_count": null,
   "metadata": {},
   "outputs": [],
   "source": [
    "# perform train test split here\n",
    "# do something with state and city"
   ]
  },
  {
   "cell_type": "markdown",
   "metadata": {},
   "source": [
    "## Extra Data - STRETCH\n",
    "\n",
    "> This doesn't need to be part of your Minimum Viable Product (MVP). We recommend you write a functional, basic pipeline first, then circle back and join new data if you have time\n",
    "\n",
    "> If you do this, try to write your downstream steps in a way it will still work on a dataframe with different features!\n",
    "\n",
    "- You're not limited to just using the data provided to you. Think/ do some research about other features that might be useful to predict housing prices. \n",
    "- Can you import and join this data? Make sure you do any necessary preprocessing and make sure it is joined correctly.\n",
    "- Example suggestion: could mortgage interest rates in the year of the listing affect the price? "
   ]
  },
  {
   "cell_type": "code",
   "execution_count": null,
   "metadata": {},
   "outputs": [],
   "source": [
    "# import, join and preprocess new data here"
   ]
  },
  {
   "cell_type": "markdown",
   "metadata": {},
   "source": [
    "## EDA/ Visualization\n",
    "\n",
    "Remember all of the EDA that you've been learning about?  Now is a perfect time for it!\n",
    "- Look at distributions of numerical variables to see the shape of the data and detect outliers.    \n",
    "    - Consider transforming very skewed variables\n",
    "- Scatterplots of a numerical variable and the target go a long way to show correlations.\n",
    "- A heatmap will help detect highly correlated features, and we don't want these.\n",
    "    - You may have too many features to do this, in which case you can simply compute the most correlated feature-pairs and list them\n",
    "- Is there any overlap in any of the features? (redundant information, like number of this or that room...)"
   ]
  },
  {
   "cell_type": "code",
   "execution_count": null,
   "metadata": {},
   "outputs": [],
   "source": [
    "# perform EDA here"
   ]
  },
  {
   "cell_type": "markdown",
   "metadata": {},
   "source": [
    "## Scaling and Finishing Up"
   ]
  },
  {
   "cell_type": "markdown",
   "metadata": {},
   "source": [
    "Now is a great time to scale the data and save it once it's preprocessed.\n",
    "- You can save it in your data folder, but you may want to make a new `processed/` subfolder to keep it organized"
   ]
  },
  {
   "cell_type": "code",
   "execution_count": null,
   "metadata": {},
   "outputs": [],
   "source": []
  }
 ],
 "metadata": {
  "kernelspec": {
   "display_name": "Python 3",
   "language": "python",
   "name": "python3"
  },
  "language_info": {
   "codemirror_mode": {
    "name": "ipython",
    "version": 3
   },
   "file_extension": ".py",
   "mimetype": "text/x-python",
   "name": "python",
   "nbconvert_exporter": "python",
   "pygments_lexer": "ipython3",
   "version": "3.9.0"
  }
 },
 "nbformat": 4,
 "nbformat_minor": 2
}
