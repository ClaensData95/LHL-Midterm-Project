{
 "cells": [
  {
   "cell_type": "markdown",
   "metadata": {},
   "source": [
    "# EDA"
   ]
  },
  {
   "cell_type": "markdown",
   "metadata": {},
   "source": [
    "- The os module has a perfect method to list files in a directory.\n",
    "- Pandas json normalize could work here but is not necessary to convert the JSON data to a dataframe.\n",
    "- You may need a nested for-loop to access each sale!\n",
    "- We've put a lot of time into creating the structure of this repository, and it's a good example for future projects.  In the file functions_variables.py, there is an example function that you can import and use.  If you have any variables, functions or classes that you want to make, they can be put in the functions_variables.py file and imported into a notebook.  Note that only .py files can be imported into a notebook. If you want to import everything from a .py file, you can use the following:\n",
    "```python\n",
    "from functions_variables import *\n",
    "```\n",
    "If you just import functions_variables, then each object from the file will need to be prepended with \"functions_variables\"\\\n",
    "Using this .py file will keep your notebooks very organized and make it easier to reuse code between notebooks."
   ]
  },
  {
   "cell_type": "code",
   "execution_count": 1,
   "metadata": {
    "ExecuteTime": {
     "end_time": "2024-12-03T16:57:16.679576Z",
     "start_time": "2024-12-03T16:57:16.461275Z"
    }
   },
   "outputs": [],
   "source": [
    "# (this is not an exhaustive list of libraries)\n",
    "import pandas as pd\n",
    "import numpy as np\n",
    "import matplotlib.pyplot as plt\n",
    "import seaborn as sns\n",
    "import os\n",
    "import json\n",
    "from pprint import pprint\n",
    "from functions_variables import threshold_column, ohe_column, json_to_df, reorder_columns_train_test, year_sold_listed, fill_na_with_distribution_train_test, fill_na_with_median_train_test, scale_columns_train_test, scale_target_train_test\n",
    "from collections import Counter\n",
    "from sklearn.model_selection import train_test_split\n"
   ]
  },
  {
   "cell_type": "markdown",
   "metadata": {},
   "source": [
    "## Data Importing"
   ]
  },
  {
   "cell_type": "code",
   "execution_count": 2,
   "metadata": {
    "ExecuteTime": {
     "end_time": "2024-12-03T16:57:16.687569Z",
     "start_time": "2024-12-03T16:57:16.683356Z"
    }
   },
   "outputs": [],
   "source": [
    "# load one file first to see what type of data you're dealing with and what attributes it has\n",
    "tmp_df = pd.read_json('../data/housing/AK_Juneau_0.json')\n",
    "# tmp_df['data']['results']"
   ]
  },
  {
   "cell_type": "code",
   "execution_count": 3,
   "metadata": {
    "ExecuteTime": {
     "end_time": "2024-12-03T16:57:16.753988Z",
     "start_time": "2024-12-03T16:57:16.751970Z"
    }
   },
   "outputs": [],
   "source": [
    "# Create empty DataFrame for housing\n",
    "df = pd.DataFrame()\n",
    "# The path to the data files\n",
    "dir_path = '../data/housing/'"
   ]
  },
  {
   "cell_type": "code",
   "execution_count": 4,
   "metadata": {
    "ExecuteTime": {
     "end_time": "2024-12-03T16:57:17.760550Z",
     "start_time": "2024-12-03T16:57:16.761412Z"
    }
   },
   "outputs": [],
   "source": [
    "# loop over all files and put them into a dataframe\n",
    "# n = 0\n",
    "for file_name in sorted(os.listdir(dir_path)):\n",
    "    # n += 1\n",
    "    if file_name.endswith('.json'):\n",
    "        # print(f'File: {file_name}')\n",
    "        file_path = os.path.join(dir_path, file_name)\n",
    "        tmp = json_to_df(file_path)\n",
    "        tmp = tmp.dropna(axis=1, how='all')\n",
    "        df = pd.concat([df, tmp], ignore_index=True)\n",
    "    # if n > 1: break\n",
    "# df"
   ]
  },
  {
   "cell_type": "markdown",
   "metadata": {},
   "source": [
    "At this point, ensure that you have all sales in a dataframe.\n",
    "- Take a quick look at your data (i.e. `.info()`, `.describe()`) - what do you see?\n",
    "- Is each cell one value, or do some cells have lists?\n",
    "- What are the data types of each column?\n",
    "- Some sales may not actually include the sale price (target).  These rows should be dropped.\n",
    "- There are a lot of NA/None values.  Should these be dropped or replaced with something?\n",
    "    - You can drop rows or use various methods to fills NA's - use your best judgement for each column \n",
    "    - i.e. for some columns (like Garage), NA probably just means no Garage, so 0\n",
    "- Drop columns that aren't needed\n",
    "    - Don't keep the list price because it will be too close to the sale price. Assume we want to predict the price of houses not yet listed"
   ]
  },
  {
   "cell_type": "code",
   "execution_count": 5,
   "metadata": {
    "ExecuteTime": {
     "end_time": "2024-12-03T16:57:17.774307Z",
     "start_time": "2024-12-03T16:57:17.770906Z"
    }
   },
   "outputs": [
    {
     "data": {
      "text/plain": [
       "(8191, 50)"
      ]
     },
     "execution_count": 5,
     "metadata": {},
     "output_type": "execute_result"
    }
   ],
   "source": [
    "df.shape"
   ]
  },
  {
   "cell_type": "code",
   "execution_count": 6,
   "metadata": {
    "ExecuteTime": {
     "end_time": "2024-12-01T16:35:22.007018Z",
     "start_time": "2024-12-01T16:35:22.005086Z"
    }
   },
   "outputs": [],
   "source": [
    "columns = df.columns.sort_values().to_list()\n",
    "# columns"
   ]
  },
  {
   "cell_type": "code",
   "execution_count": 7,
   "metadata": {
    "ExecuteTime": {
     "end_time": "2024-12-01T16:35:22.029033Z",
     "start_time": "2024-12-01T16:35:22.022326Z"
    }
   },
   "outputs": [],
   "source": [
    "# Rearrange DataFrame columns\n",
    "df = df[columns]"
   ]
  },
  {
   "cell_type": "code",
   "execution_count": 8,
   "metadata": {
    "ExecuteTime": {
     "end_time": "2024-12-01T16:35:22.085389Z",
     "start_time": "2024-12-01T16:35:22.059113Z"
    }
   },
   "outputs": [],
   "source": [
    "# drop or replace values as necessary\n",
    "df = df.drop(\n",
    "    columns=[\n",
    "        'branding',\n",
    "        'community_advertisers',\n",
    "        'community_description_name',\n",
    "        # 'description.baths',\n",
    "        'description_baths_3qtr',\n",
    "        'description_baths_full',\n",
    "        'description_baths_half',\n",
    "        # 'description.beds',\n",
    "        # 'description.garage',\n",
    "        'description_lot_sqft',\n",
    "        # 'description.sold_date',\n",
    "        # 'description.sold_price',\n",
    "        # 'description.sqft',\n",
    "        # 'description.stories',\n",
    "        'description_sub_type',\n",
    "        'description_type',\n",
    "        # 'description.year_built',\n",
    "        'flags_is_foreclosure',\n",
    "        'flags_is_new_listing',\n",
    "        'flags_is_price_reduced',\n",
    "        'last_update_date',\n",
    "        'lead_attributes_show_contact_an_agent',\n",
    "        #'list_date',\n",
    "        # 'list_price',\n",
    "        'listing_id',\n",
    "        #'location_address_city',\n",
    "        'location_address_coordinate_lat',\n",
    "        'location_address_coordinate_lon',\n",
    "        'location_address_line',\n",
    "        'location_address_postal_code',\n",
    "        # 'location.address.state',\n",
    "        'location_address_state_code',\n",
    "        'location_county_fips_code',\n",
    "        'location_county_name',\n",
    "        'location_street_view_url',\n",
    "        'matterport',\n",
    "        'other_listings_rdc',\n",
    "        'permalink',\n",
    "        'photos',\n",
    "        'price_reduced_amount',\n",
    "        'primary_photo_href',\n",
    "        'products_brand_name',\n",
    "        'property_id',\n",
    "        'source_agents',\n",
    "        'source_plan_id',\n",
    "        'source_spec_id',\n",
    "        'source_type',\n",
    "        'status',\n",
    "        # 'tags',\n",
    "        'virtual_tours'\n",
    "    ],\n",
    "    errors='ignore'\n",
    ")"
   ]
  },
  {
   "cell_type": "code",
   "execution_count": 9,
   "metadata": {},
   "outputs": [],
   "source": [
    "#Clean the data\n",
    "\n",
    "df['description_garage'] = df['description_garage'].fillna(0)\n",
    "\n",
    "df['description_stories'].value_counts()\n",
    "\n",
    "df = df[~df['description_stories'].isin([10.0, 8.0, 6.0])]\n",
    "\n",
    "df = df.dropna(subset=['description_sold_price'])\n",
    "\n",
    "\n"
   ]
  },
  {
   "cell_type": "code",
   "execution_count": 10,
   "metadata": {},
   "outputs": [],
   "source": [
    "# Convert to datetime format\n",
    "\n",
    "df['list_date'] = df['list_date'].astype(str)\n",
    "\n",
    "df['list_date'] = df['list_date'].str.extract(r'(\\d{4}-\\d{2}-\\d{2})')\n",
    "\n",
    "df['list_date'] = pd.to_datetime(df['list_date'], format='%Y-%m-%d', errors='coerce')\n",
    "\n",
    "df['description_sold_date'] = pd.to_datetime(df['description_sold_date'], errors='coerce')"
   ]
  },
  {
   "cell_type": "code",
   "execution_count": 11,
   "metadata": {},
   "outputs": [],
   "source": [
    "#drop list_price\n",
    "df = df.drop(columns=['list_price'])"
   ]
  },
  {
   "cell_type": "code",
   "execution_count": 12,
   "metadata": {},
   "outputs": [],
   "source": [
    "#Calculate the year the house was sold and the year it was listed\n",
    "\n",
    "df = year_sold_listed(df)\n"
   ]
  },
  {
   "cell_type": "markdown",
   "metadata": {},
   "source": [
    "### Dealing with Tags"
   ]
  },
  {
   "cell_type": "markdown",
   "metadata": {},
   "source": [
    "Consider the fact that with tags, there are a lot of categorical variables.\n",
    "- How many columns would we have if we OHE tags, city and state?\n",
    "- Perhaps we can get rid of tags that have a low frequency."
   ]
  },
  {
   "cell_type": "code",
   "execution_count": 13,
   "metadata": {},
   "outputs": [
    {
     "name": "stdout",
     "output_type": "stream",
     "text": [
      "                         Tag  Count\n",
      "12          garage_1_or_more   3772\n",
      "0                central_air   3414\n",
      "2    community_outdoor_space   3095\n",
      "6                 dishwasher   2965\n",
      "44                  basement   2914\n",
      "..                       ...    ...\n",
      "117          courtyard_entry      5\n",
      "148               greenhouse      5\n",
      "127              two_kitchen      5\n",
      "150                boat_dock      5\n",
      "151      dual_master_bedroom      5\n",
      "\n",
      "[152 rows x 2 columns]\n"
     ]
    }
   ],
   "source": [
    "# One-Hot Encode the columns, considering low frequency removal for 'tags'\n",
    "\n",
    "if 'tags' in df.columns:\n",
    "    # Flatten all tags into a single list\n",
    "    all_tags = df['tags'].dropna().sum()\n",
    "\n",
    "    # Count occurrences of each tag\n",
    "    tag_counts = Counter(all_tags)\n",
    "\n",
    "    # Convert to a DataFrame for easier review\n",
    "    tag_counts_df = pd.DataFrame(tag_counts.items(), columns=['Tag', 'Count'])\n",
    "\n",
    "    # Sort by count (descending order)\n",
    "    tag_counts_df = tag_counts_df.sort_values(by='Count', ascending=False)\n",
    "\n",
    "    # Display top tags\n",
    "    print(tag_counts_df)\n",
    "\n",
    "#set option to display all the rows\n",
    "pd.set_option('display.max_rows', None)    "
   ]
  },
  {
   "cell_type": "code",
   "execution_count": 14,
   "metadata": {
    "ExecuteTime": {
     "end_time": "2024-12-01T16:46:22.479146Z",
     "start_time": "2024-12-01T16:46:22.445956Z"
    }
   },
   "outputs": [],
   "source": [
    "# List of selected tags for one-hot encoding\n",
    "selected_tags = [\n",
    "    \"central_air\", \"community_outdoor_space\", \"basement\", \"fireplace\",\n",
    "    \"hardwood_floors\", \"recreation_facilities\", \"community_security_features\",\n",
    "    \"view\", \"central_heat\", \"city_view\", \"fenced_yard\"\n",
    "]\n",
    "\n",
    "# Ensure the tags column exists\n",
    "if 'tags' in df.columns:\n",
    "    # Replace NaN in the tags column with an empty list\n",
    "    df['tags'] = df['tags'].apply(lambda x: x if isinstance(x, list) else [])\n",
    "    \n",
    "    # Create one-hot encoding columns for selected tags\n",
    "    for tag in selected_tags:\n",
    "        df[tag] = df['tags'].apply(lambda x: 1 if tag in x else 0)\n",
    "\n",
    "#drop tags column\n",
    "df = df.drop(columns=['tags'])"
   ]
  },
  {
   "cell_type": "code",
   "execution_count": 15,
   "metadata": {},
   "outputs": [
    {
     "name": "stdout",
     "output_type": "stream",
     "text": [
      "    list_date description_sold_date  days_on_market\n",
      "30 2023-12-19            2024-01-16            28.0\n",
      "31 2023-11-10            2024-01-16            67.0\n",
      "32 2023-12-19            2024-01-16            28.0\n",
      "33 2023-07-05            2024-01-16           195.0\n",
      "34 2023-10-29            2024-01-12            75.0\n"
     ]
    }
   ],
   "source": [
    "# Calculate the number of days on the market\n",
    "df['days_on_market'] = (df['description_sold_date'] - df['list_date']).dt.days\n",
    "\n",
    "# Preview the result\n",
    "print(df[['list_date', 'description_sold_date', 'days_on_market']].head())"
   ]
  },
  {
   "cell_type": "code",
   "execution_count": 16,
   "metadata": {},
   "outputs": [],
   "source": [
    "#change all the negative values on days_on_the_market to NaN\n",
    "df.loc[df['days_on_market'] < 0, 'days_on_market'] = np.nan\n",
    "\n"
   ]
  },
  {
   "cell_type": "code",
   "execution_count": 17,
   "metadata": {},
   "outputs": [],
   "source": [
    "#drop description_sold_date and list_date\n",
    "df = df.drop(columns=['description_sold_date', 'list_date'])"
   ]
  },
  {
   "cell_type": "code",
   "execution_count": 18,
   "metadata": {},
   "outputs": [],
   "source": [
    "#drop rows with description_sold_price >= 2500000 and <= 100000\n",
    "df = df[df['description_sold_price'] >= 100000]\n",
    "df = df[df['description_sold_price'] <= 2500000]\n",
    "\n"
   ]
  },
  {
   "cell_type": "code",
   "execution_count": 19,
   "metadata": {},
   "outputs": [
    {
     "name": "stdout",
     "output_type": "stream",
     "text": [
      "Number of rows after dropping: 5639\n"
     ]
    }
   ],
   "source": [
    "# Drop rows with 3 or more NaN values\n",
    "df = df.dropna(thresh=len(df.columns) - 3 + 1)  \n",
    "\n",
    "# Verify the result\n",
    "print(f\"Number of rows after dropping: {len(df)}\")\n"
   ]
  },
  {
   "cell_type": "markdown",
   "metadata": {},
   "source": [
    "### Dealing with Cities"
   ]
  },
  {
   "cell_type": "markdown",
   "metadata": {},
   "source": [
    "- Sales will vary drastically between cities and states.  Is there a way to keep information about which city it is without OHE?\n",
    "- Could we label encode or ordinal encode?  Yes, but this may have undesirable effects, giving nominal data ordinal values.\n",
    "- What we can do is use our training data to encode the mean sale price by city as a feature (a.k.a. Target Encoding)\n",
    "    - We can do this as long as we ONLY use the training data - we're using the available data to give us a 'starting guess' of the price for each city, without needing to encode city explicitly\n",
    "- If you replace cities or states with numerical values (like the mean price), make sure that the data is split so that we don't leak data into the training selection. This is a great time to train test split. Compute on the training data, and join these values to the test data\n",
    "- Note that you *may* have cities in the test set that are not in the training set. You don't want these to be NA, so maybe you can fill them with the overall mean"
   ]
  },
  {
   "cell_type": "code",
   "execution_count": 20,
   "metadata": {},
   "outputs": [
    {
     "name": "stdout",
     "output_type": "stream",
     "text": [
      "X_train shape: (4511, 22), y_train shape: (4511,)\n",
      "X_test shape: (1128, 22), y_test shape: (1128,)\n"
     ]
    }
   ],
   "source": [
    "# Define feature set and target variable\n",
    "X = df.drop(columns=['description_sold_price'])\n",
    "y = df['description_sold_price']\n",
    "\n",
    "# Perform train test split\n",
    "X_train, X_test, y_train, y_test = train_test_split(X, y, test_size=0.2, random_state=42)\n",
    "\n",
    "print(f\"X_train shape: {X_train.shape}, y_train shape: {y_train.shape}\")\n",
    "print(f\"X_test shape: {X_test.shape}, y_test shape: {y_test.shape}\")\n"
   ]
  },
  {
   "cell_type": "code",
   "execution_count": 21,
   "metadata": {},
   "outputs": [
    {
     "name": "stdout",
     "output_type": "stream",
     "text": [
      "Frequency encoding applied to 'city' column for train and test sets.\n",
      "Frequency encoding applied to 'state' column for train and test sets.\n"
     ]
    }
   ],
   "source": [
    "if 'location_address_city' in X_train.columns:\n",
    "    # Calculate city frequencies based only on training data\n",
    "    city_counts = X_train['location_address_city'].value_counts()\n",
    "    \n",
    "    # Map frequencies to both training and test sets\n",
    "    X_train['city_frequency'] = X_train['location_address_city'].map(city_counts)\n",
    "    X_test['city_frequency'] = X_test['location_address_city'].map(city_counts)\n",
    "    print(\"Frequency encoding applied to 'city' column for train and test sets.\")\n",
    "\n",
    "if 'location_address_state' in X_train.columns:\n",
    "    # Calculate state frequencies based only on training data\n",
    "    state_counts = X_train['location_address_state'].value_counts()\n",
    "    \n",
    "    # Map frequencies to both training and test sets\n",
    "    X_train['state_frequency'] = X_train['location_address_state'].map(state_counts)\n",
    "    X_test['state_frequency'] = X_test['location_address_state'].map(state_counts)\n",
    "    print(\"Frequency encoding applied to 'state' column for train and test sets.\")"
   ]
  },
  {
   "cell_type": "code",
   "execution_count": 22,
   "metadata": {},
   "outputs": [],
   "source": [
    "#Drop location_address_city and location_address_state\n",
    "X_train = X_train.drop(columns=['location_address_city', 'location_address_state'])\n",
    "X_test = X_test.drop(columns=['location_address_city', 'location_address_state'])\n"
   ]
  },
  {
   "cell_type": "code",
   "execution_count": 23,
   "metadata": {},
   "outputs": [],
   "source": [
    "# List of columns to fill\n",
    "columns_to_fill = ['description_baths', 'description_beds', 'description_garage', 'description_stories']\n",
    "\n",
    "# Apply the function to each column\n",
    "for col in columns_to_fill:\n",
    "    X_train, X_test = fill_na_with_distribution_train_test(X_train, X_test, col)\n",
    "\n"
   ]
  },
  {
   "cell_type": "code",
   "execution_count": 24,
   "metadata": {},
   "outputs": [],
   "source": [
    "# List of columns to fill with median\n",
    "columns_to_fill_median = [\n",
    "    'days_on_market', 'city_frequency', 'state_frequency',\n",
    "    'description_sqft', 'description_year_built',\n",
    "    'year_sold', 'year_listed'\n",
    "]\n",
    "\n",
    "# Apply the function to each column\n",
    "for col in columns_to_fill_median:\n",
    "    X_train, X_test = fill_na_with_median_train_test(X_train, X_test, col)\n"
   ]
  },
  {
   "cell_type": "code",
   "execution_count": 25,
   "metadata": {},
   "outputs": [
    {
     "name": "stdout",
     "output_type": "stream",
     "text": [
      "Scaled X_train:       description_baths  description_beds  description_garage  \\\n",
      "1860           1.719936          0.590194            0.722632   \n",
      "5392           0.689710         -0.218298           -0.120782   \n",
      "443            0.689710          0.590194            0.722632   \n",
      "5854           0.689710          0.590194            1.566046   \n",
      "4011          -1.370742         -0.218298           -0.964195   \n",
      "\n",
      "      description_sqft  description_stories  description_year_built  \\\n",
      "1860          0.310417             2.243998                0.876046   \n",
      "5392         -0.459942             0.671177                1.494672   \n",
      "443           0.739957             0.671177                1.072881   \n",
      "5854          0.703170            -0.901644                0.763568   \n",
      "4011         -0.569220            -0.901644               -2.160848   \n",
      "\n",
      "      year_sold  year_listed  days_on_market  city_frequency  state_frequency  \n",
      "1860   0.734568    -0.089851       -0.134212       -0.172481        -0.061801  \n",
      "5392   0.734568    -0.089851       -0.823337        0.530149         0.176512  \n",
      "443    0.734568    -0.089851       -0.424370       -0.373232        -1.094491  \n",
      "5854   0.734568    -0.089851       -0.206752       -2.481121         0.931170  \n",
      "4011   0.734568    -0.089851       -0.714528        0.580336         0.653138  \n",
      "Scaled y_train:         target\n",
      "1860  0.429290\n",
      "5392  0.079469\n",
      "443  -0.062538\n",
      "5854 -0.152591\n",
      "4011 -0.731010\n"
     ]
    }
   ],
   "source": [
    "# List of columns to scale\n",
    "columns_to_scale = [\n",
    "    'description_baths', 'description_beds', 'description_garage',\n",
    "    'description_sqft', 'description_stories', 'description_year_built',\n",
    "    'year_sold', 'year_listed', 'days_on_market', 'city_frequency', 'state_frequency'\n",
    "]\n",
    "\n",
    "# Apply scaling to the train and test sets\n",
    "X_train_scaled, X_test_scaled, scaler_features = scale_columns_train_test(X_train, X_test, columns_to_scale)\n",
    "y_train_scaled, y_test_scaled, scaler_target = scale_target_train_test(y_train, y_test)\n",
    "\n",
    "# Verify scaled columns and target\n",
    "print(\"Scaled X_train:\", X_train_scaled[columns_to_scale].head())\n",
    "print(\"Scaled y_train:\", y_train_scaled.head())"
   ]
  },
  {
   "cell_type": "markdown",
   "metadata": {},
   "source": [
    "## Extra Data - STRETCH\n",
    "\n",
    "> This doesn't need to be part of your Minimum Viable Product (MVP). We recommend you write a functional, basic pipeline first, then circle back and join new data if you have time\n",
    "\n",
    "> If you do this, try to write your downstream steps in a way it will still work on a dataframe with different features!\n",
    "\n",
    "- You're not limited to just using the data provided to you. Think/ do some research about other features that might be useful to predict housing prices. \n",
    "- Can you import and join this data? Make sure you do any necessary preprocessing and make sure it is joined correctly.\n",
    "- Example suggestion: could mortgage interest rates in the year of the listing affect the price? "
   ]
  },
  {
   "cell_type": "code",
   "execution_count": 29,
   "metadata": {
    "ExecuteTime": {
     "end_time": "2024-12-03T16:57:18.105366Z",
     "start_time": "2024-12-03T16:57:18.103871Z"
    }
   },
   "outputs": [],
   "source": [
    "# import, join and preprocess new data here"
   ]
  },
  {
   "cell_type": "markdown",
   "metadata": {},
   "source": [
    "## EDA/ Visualization\n",
    "\n",
    "Remember all the EDA that you've been learning about?  Now is a perfect time for it!\n",
    "- Look at distributions of numerical variables to see the shape of the data and detect outliers.    \n",
    "    - Consider transforming very skewed variables\n",
    "- Scatterplots of a numerical variable and the target go a long way to show correlations.\n",
    "- A heatmap will help detect highly correlated features, and we don't want these.\n",
    "    - You may have too many features to do this, in which case you can simply compute the most correlated feature-pairs and list them\n",
    "- Is there any overlap in any of the features? (redundant information, like number of this or that room...)"
   ]
  },
  {
   "cell_type": "code",
   "execution_count": 30,
   "metadata": {},
   "outputs": [
    {
     "name": "stdout",
     "output_type": "stream",
     "text": [
      "count    4.511000e+03\n",
      "mean     4.060560e+05\n",
      "std      2.887504e+05\n",
      "min      1.000000e+05\n",
      "25%      2.272500e+05\n",
      "50%      3.320000e+05\n",
      "75%      4.850000e+05\n",
      "max      2.500000e+06\n",
      "Name: description_sold_price, dtype: float64\n"
     ]
    }
   ],
   "source": [
    "print(y_train.describe())"
   ]
  },
  {
   "cell_type": "code",
   "execution_count": 36,
   "metadata": {},
   "outputs": [
    {
     "name": "stdout",
     "output_type": "stream",
     "text": [
      "description_sqft               0.509591\n",
      "description_baths              0.475655\n",
      "description_garage             0.301239\n",
      "community_security_features    0.272911\n",
      "fireplace                      0.230847\n",
      "description_beds               0.226391\n",
      "view                           0.199368\n",
      "hardwood_floors                0.171537\n",
      "recreation_facilities          0.168641\n",
      "description_year_built         0.116526\n",
      "description_stories            0.112619\n",
      "days_on_market                 0.109374\n",
      "year_listed                    0.094611\n",
      "community_outdoor_space        0.059470\n",
      "basement                       0.044304\n",
      "year_sold                      0.040330\n",
      "city_frequency                 0.025099\n",
      "city_view                      0.022971\n",
      "central_air                    0.013113\n",
      "state_frequency                0.011265\n",
      "central_heat                  -0.007216\n",
      "fenced_yard                   -0.093549\n",
      "dtype: float64\n"
     ]
    }
   ],
   "source": [
    "#check for correlations between the features and the target variable\n",
    "correlation = X_train.corrwith(y_train).sort_values(ascending=False)\n",
    "print(correlation)\n"
   ]
  },
  {
   "cell_type": "code",
   "execution_count": 35,
   "metadata": {
    "ExecuteTime": {
     "end_time": "2024-12-03T16:57:18.108837Z",
     "start_time": "2024-12-03T16:57:18.107394Z"
    }
   },
   "outputs": [
    {
     "data": {
      "image/png": "[encoded data removed]",
      "text/plain": [
       "<Figure size 1000x600 with 1 Axes>"
      ]
     },
     "metadata": {},
     "output_type": "display_data"
    }
   ],
   "source": [
    "# perform EDA here\n",
    "\n",
    "\n",
    "plt.figure(figsize=(10, 6))\n",
    "sns.histplot(y_train_scaled, kde=True, bins=50, color='blue')\n",
    "plt.title('Distribution of House Prices')\n",
    "plt.xlabel('House Price')\n",
    "plt.ylabel('Frequency')\n",
    "plt.show()\n"
   ]
  },
  {
   "cell_type": "code",
   "execution_count": 32,
   "metadata": {},
   "outputs": [
    {
     "data": {
      "image/png": "[encoded data removed]",
      "text/plain": [
       "<Figure size 1000x600 with 1 Axes>"
      ]
     },
     "metadata": {},
     "output_type": "display_data"
    }
   ],
   "source": [
    "plt.figure(figsize=(10, 6))\n",
    "sns.boxplot(x=y_train, color='orange')\n",
    "plt.title('Boxplot of House Prices')\n",
    "plt.xlabel('House Price')\n",
    "plt.show()"
   ]
  },
  {
   "cell_type": "code",
   "execution_count": 33,
   "metadata": {},
   "outputs": [
    {
     "data": {
      "image/png": "[encoded data removed]",
      "text/plain": [
       "<Figure size 1000x600 with 1 Axes>"
      ]
     },
     "metadata": {},
     "output_type": "display_data"
    }
   ],
   "source": [
    "plt.figure(figsize=(10, 6))\n",
    "sns.histplot(np.log1p(y_train), kde=True, bins=30, color='green')  \n",
    "plt.title('Log-Transformed Distribution of House Prices')\n",
    "plt.xlabel('Log of House Price')\n",
    "plt.ylabel('Frequency')\n",
    "plt.show()"
   ]
  },
  {
   "cell_type": "markdown",
   "metadata": {},
   "source": [
    "## Scaling and Finishing Up"
   ]
  },
  {
   "cell_type": "markdown",
   "metadata": {},
   "source": [
    "Now is a great time to scale the data and save it once it's preprocessed.\n",
    "- You can save it in your data folder, but you may want to make a new `processed/` subfolder to keep it organized"
   ]
  },
  {
   "cell_type": "code",
   "execution_count": null,
   "metadata": {},
   "outputs": [],
   "source": [
    "#reorder columns for train and test x and y data\n",
    "X_train_scaled, X_test_scaled = reorder_columns_train_test(X_train_scaled, X_test_scaled)\n",
    "y_train_scaled, y_test_scaled = reorder_columns_train_test(y_train_scaled, y_test_scaled)\n"
   ]
  },
  {
   "cell_type": "code",
   "execution_count": 39,
   "metadata": {},
   "outputs": [],
   "source": [
    "X_train_scaled.to_csv('/home/t0si/LHL-Midterm-Project/notebooks/processed/X_train.csv', index=False)\n",
    "X_test_scaled.to_csv('/home/t0si/LHL-Midterm-Project/notebooks/processed/X_test.csv', index=False)\n",
    "y_train_scaled.to_csv('/home/t0si/LHL-Midterm-Project/notebooks/processed/y_train.csv', index=False)\n",
    "y_test_scaled.to_csv('/home/t0si/LHL-Midterm-Project/notebooks/processed/y_test.csv', index=False)"
   ]
  },
  {
   "cell_type": "code",
   "execution_count": null,
   "metadata": {
    "ExecuteTime": {
     "end_time": "2024-12-03T16:57:18.112051Z",
     "start_time": "2024-12-03T16:57:18.110785Z"
    }
   },
   "outputs": [],
   "source": []
  }
 ],
 "metadata": {
  "kernelspec": {
   "display_name": "test_env",
   "language": "python",
   "name": "test_env"
  },
  "language_info": {
   "codemirror_mode": {
    "name": "ipython",
    "version": 3
   },
   "file_extension": ".py",
   "mimetype": "text/x-python",
   "name": "python",
   "nbconvert_exporter": "python",
   "pygments_lexer": "ipython3",
   "version": "3.12.7"
  }
 },
 "nbformat": 4,
 "nbformat_minor": 2
}
