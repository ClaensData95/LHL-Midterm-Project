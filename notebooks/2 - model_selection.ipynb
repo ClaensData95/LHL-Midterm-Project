{
 "cells": [
  {
   "cell_type": "markdown",
   "metadata": {},
   "source": [
    "## Model Selection\n",
    "\n",
    "This notebook should include preliminary and baseline modeling.\n",
    "- Try as many different models as possible.\n",
    "- Don't worry about hyperparameter tuning or cross validation here.\n",
    "- Ideas include:\n",
    "    - linear regression\n",
    "    - support vector machines\n",
    "    - random forest\n",
    "    - xgboost"
   ]
  },
  {
   "cell_type": "code",
   "metadata": {
    "ExecuteTime": {
     "end_time": "2024-12-05T03:52:01.880030Z",
     "start_time": "2024-12-05T03:52:01.336487Z"
    }
   },
   "source": [
    "import pandas as pd\n",
    "from sklearn.preprocessing import StandardScaler\n",
    "from sklearn.linear_model import LinearRegression\n",
    "from sklearn.svm import SVR\n",
    "from sklearn.ensemble import RandomForestRegressor\n",
    "from xgboost import XGBRegressor\n",
    "from functions_variables import evaluate_model"
   ],
   "outputs": [],
   "execution_count": 1
  },
  {
   "cell_type": "code",
   "metadata": {
    "ExecuteTime": {
     "end_time": "2024-12-05T03:52:01.898770Z",
     "start_time": "2024-12-05T03:52:01.884995Z"
    }
   },
   "source": [
    "# Storage path for processed data\n",
    "processed_data_path = '../data/processed/'\n",
    "# List of dataset names\n",
    "set_names = ['X_train', 'X_test', 'y_train', 'y_test']\n",
    "# Initialize dictionary to store datasets\n",
    "datasets = {}\n",
    "# Load the datasets\n",
    "for i in set_names:\n",
    "    datasets[i] = pd.read_csv(f'{processed_data_path + i}.csv')\n",
    "    print(f'{i} shape:', datasets[i].shape)"
   ],
   "outputs": [
    {
     "name": "stdout",
     "output_type": "stream",
     "text": [
      "X_train shape: (4511, 22)\n",
      "X_test shape: (1128, 22)\n",
      "y_train shape: (4511, 1)\n",
      "y_test shape: (1128, 1)\n"
     ]
    }
   ],
   "execution_count": 2
  },
  {
   "cell_type": "code",
   "metadata": {
    "ExecuteTime": {
     "end_time": "2024-12-05T03:52:01.964198Z",
     "start_time": "2024-12-05T03:52:01.962397Z"
    }
   },
   "source": [
    "# Initialize scaler for features\n",
    "scaler_features = StandardScaler()\n",
    "# Initialize scaler for target\n",
    "scaler_target = StandardScaler()"
   ],
   "outputs": [],
   "execution_count": 3
  },
  {
   "metadata": {
    "ExecuteTime": {
     "end_time": "2024-12-05T03:52:01.974617Z",
     "start_time": "2024-12-05T03:52:01.970100Z"
    }
   },
   "cell_type": "code",
   "source": [
    "# Initialize dictionary to store scaled datasets\n",
    "ds_scaled = {\n",
    "    # Scale X_train and X_test\n",
    "    'X_train': scaler_features.fit_transform(datasets['X_train']),\n",
    "    'X_test': scaler_features.transform(datasets['X_test']),\n",
    "    # Fit scaler on y_train and scale both y_train and y_test\n",
    "    'y_train': scaler_target.fit_transform(\n",
    "        datasets['y_train'].values.reshape(-1, 1)\n",
    "    ).flatten(),\n",
    "    'y_test': scaler_target.transform(\n",
    "        datasets['y_test'].values.reshape(-1, 1))\n",
    "    .flatten()\n",
    "}"
   ],
   "outputs": [],
   "execution_count": 4
  },
  {
   "metadata": {
    "ExecuteTime": {
     "end_time": "2024-12-05T03:52:01.983370Z",
     "start_time": "2024-12-05T03:52:01.980774Z"
    }
   },
   "cell_type": "code",
   "source": [
    "#Debug: Verify scaling\n",
    "for i in set_names:\n",
    "    print(f'{i}_scaled shape:', ds_scaled[i][:5])"
   ],
   "outputs": [
    {
     "name": "stdout",
     "output_type": "stream",
     "text": [
      "X_train_scaled shape: [[-0.08985057  0.7345682  -0.13421245 -0.17248103 -0.06180149  0.87604566\n",
      "   2.23561988  1.72047681  0.59030787  0.72263244  0.31041699  0.84261948\n",
      "   0.93619224  1.04327653  1.03819281  1.32500965 -0.57129204  1.8749708\n",
      "  -0.51409505 -0.47765194 -0.44513006 -0.45119313]\n",
      " [-0.08985057  0.7345682  -0.82333722  0.53014859  0.17651155  1.4946721\n",
      "   0.6676968   0.6892423  -0.21809492 -0.12078152 -0.45994152 -1.18677532\n",
      "   0.93619224 -0.95851864 -0.96321222 -0.75471148  1.75041823 -0.53334164\n",
      "  -0.51409505 -0.47765194 -0.44513006 -0.45119313]\n",
      " [-0.08985057  0.7345682  -0.42437025 -0.37323235 -1.09449133  1.07288134\n",
      "   0.6676968   0.6892423   0.59030787  0.72263244  0.73995678 -1.18677532\n",
      "   0.93619224  1.04327653  1.03819281  1.32500965  1.75041823 -0.53334164\n",
      "   1.94516558 -0.47765194 -0.44513006 -0.45119313]\n",
      " [-0.08985057  0.7345682  -0.2067519  -2.48112122  0.93116951  0.76356812\n",
      "  -0.90022629  0.6892423   0.59030787  1.5660464   0.70316999  0.84261948\n",
      "   0.93619224 -0.95851864  1.03819281  1.32500965 -0.57129204 -0.53334164\n",
      "  -0.51409505  2.09357467 -0.44513006 -0.45119313]\n",
      " [-0.08985057  0.7345682  -0.71452805  0.58033642  0.65313763 -2.16084779\n",
      "  -0.90022629 -1.37322671 -0.21809492 -0.96419547 -0.5692199  -1.18677532\n",
      "   0.93619224  1.04327653 -0.96321222  1.32500965 -0.57129204 -0.53334164\n",
      "  -0.51409505 -0.47765194 -0.44513006 -0.45119313]]\n",
      "X_test_scaled shape: [[-0.08985057 -1.36134398 -0.44250511  0.705806    0.45454343  1.29783641\n",
      "  -0.90022629 -0.3419922  -0.21809492  0.72263244 -0.59843293 -1.18677532\n",
      "   0.93619224 -0.95851864 -0.96321222  1.32500965 -0.57129204  1.8749708\n",
      "   1.94516558 -0.47765194  2.24653442 -0.45119313]\n",
      " [-0.08985057  0.7345682   0.3191591  -0.17248103 -0.06180149 -1.17666936\n",
      "   2.23561988  2.75171132  0.59030787  0.72263244  2.90388517  0.84261948\n",
      "   0.93619224  1.04327653  1.03819281  1.32500965 -0.57129204  1.8749708\n",
      "   1.94516558  2.09357467  2.24653442 -0.45119313]\n",
      " [-0.08985057 -1.36134398  0.06527103 -0.57398367 -0.10152033  1.04476196\n",
      "   2.23561988  1.72047681  0.59030787  0.72263244 -0.25545028  0.84261948\n",
      "  -1.06815669 -0.95851864  1.03819281 -0.75471148 -0.57129204 -0.53334164\n",
      "  -0.51409505 -0.47765194 -0.44513006 -0.45119313]\n",
      " [-0.08985057  0.7345682  -0.95028126  0.0533642  -0.45898989  1.35407518\n",
      "  -0.90022629 -0.3419922  -0.21809492  0.72263244 -0.34741724 -1.18677532\n",
      "  -1.06815669 -0.95851864 -0.96321222 -0.75471148  1.75041823 -0.53334164\n",
      "   1.94516558 -0.47765194 -0.44513006 -0.45119313]\n",
      " [-0.08985057  0.7345682  -0.71452805 -0.07210537 -0.77674061  0.87604566\n",
      "  -0.90022629 -0.3419922  -0.21809492 -0.96419547 -0.44263009  0.84261948\n",
      "   0.93619224 -0.95851864  1.03819281 -0.75471148 -0.57129204  1.8749708\n",
      "  -0.51409505  2.09357467  2.24653442 -0.45119313]]\n",
      "y_train_scaled shape: [ 0.4292904   0.07946856 -0.06253833 -0.15259148 -0.73100979]\n",
      "y_test_scaled shape: [-0.62710231  5.2263524  -0.02097534  0.46392623 -0.78296353]\n"
     ]
    }
   ],
   "execution_count": 5
  },
  {
   "cell_type": "code",
   "metadata": {
    "ExecuteTime": {
     "end_time": "2024-12-05T03:52:01.991161Z",
     "start_time": "2024-12-05T03:52:01.989362Z"
    }
   },
   "source": [
    "# Initialize models\n",
    "lr_model = LinearRegression()\n",
    "svr_model = SVR()\n",
    "rf_model = RandomForestRegressor(random_state=42)\n",
    "xgb_model = XGBRegressor(random_state=42)"
   ],
   "outputs": [],
   "execution_count": 6
  },
  {
   "metadata": {
    "ExecuteTime": {
     "end_time": "2024-12-05T03:52:01.999489Z",
     "start_time": "2024-12-05T03:52:01.997729Z"
    }
   },
   "cell_type": "code",
   "source": [
    "# Initialize dictionary to store results\n",
    "results = {}\n",
    "# List of model names\n",
    "model_names = ['Linear Regression', 'SVR', 'Random Forest', 'XGBoost']"
   ],
   "outputs": [],
   "execution_count": 7
  },
  {
   "metadata": {
    "ExecuteTime": {
     "end_time": "2024-12-05T03:52:02.023336Z",
     "start_time": "2024-12-05T03:52:02.006425Z"
    }
   },
   "cell_type": "code",
   "source": [
    "# Evaluate models\n",
    "for m in model_names:\n",
    "    results[m] = evaluate_model(lr_model, datasets, ds_scaled, scaler_target)"
   ],
   "outputs": [
    {
     "name": "stdout",
     "output_type": "stream",
     "text": [
      "LinearRegression:\n",
      "  Train RMSE: $218101.14, Test RMSE: $225950.79\n",
      "  Train MAE: $139426.01, Test MAE: $144890.05\n",
      "  Train R^2: 0.43, Test R^2: 0.47\n",
      "LinearRegression:\n",
      "  Train RMSE: $218101.14, Test RMSE: $225950.79\n",
      "  Train MAE: $139426.01, Test MAE: $144890.05\n",
      "  Train R^2: 0.43, Test R^2: 0.47\n",
      "LinearRegression:\n",
      "  Train RMSE: $218101.14, Test RMSE: $225950.79\n",
      "  Train MAE: $139426.01, Test MAE: $144890.05\n",
      "  Train R^2: 0.43, Test R^2: 0.47\n",
      "LinearRegression:\n",
      "  Train RMSE: $218101.14, Test RMSE: $225950.79\n",
      "  Train MAE: $139426.01, Test MAE: $144890.05\n",
      "  Train R^2: 0.43, Test R^2: 0.47\n"
     ]
    }
   ],
   "execution_count": 8
  },
  {
   "metadata": {
    "ExecuteTime": {
     "end_time": "2024-12-05T03:52:02.090637Z",
     "start_time": "2024-12-05T03:52:02.088489Z"
    }
   },
   "cell_type": "code",
   "source": [
    "# Display results\n",
    "for model, metrics in results.items():\n",
    "    print(f\"\\nModel: {model}\")\n",
    "    for metric_name, metric_value in metrics.items():\n",
    "        print(f\"  {metric_name}: {metric_value:.2f}\")"
   ],
   "outputs": [
    {
     "name": "stdout",
     "output_type": "stream",
     "text": [
      "\n",
      "Model: Linear Regression\n",
      "  Train RMSE: 218101.14\n",
      "  Test RMSE: 225950.79\n",
      "  Train MAE: 139426.01\n",
      "  Test MAE: 144890.05\n",
      "  Train R^2: 0.43\n",
      "  Test R^2: 0.47\n",
      "\n",
      "Model: SVR\n",
      "  Train RMSE: 218101.14\n",
      "  Test RMSE: 225950.79\n",
      "  Train MAE: 139426.01\n",
      "  Test MAE: 144890.05\n",
      "  Train R^2: 0.43\n",
      "  Test R^2: 0.47\n",
      "\n",
      "Model: Random Forest\n",
      "  Train RMSE: 218101.14\n",
      "  Test RMSE: 225950.79\n",
      "  Train MAE: 139426.01\n",
      "  Test MAE: 144890.05\n",
      "  Train R^2: 0.43\n",
      "  Test R^2: 0.47\n",
      "\n",
      "Model: XGBoost\n",
      "  Train RMSE: 218101.14\n",
      "  Test RMSE: 225950.79\n",
      "  Train MAE: 139426.01\n",
      "  Test MAE: 144890.05\n",
      "  Train R^2: 0.43\n",
      "  Test R^2: 0.47\n"
     ]
    }
   ],
   "execution_count": 9
  },
  {
   "cell_type": "code",
   "metadata": {
    "ExecuteTime": {
     "end_time": "2024-12-05T03:52:02.169793Z",
     "start_time": "2024-12-05T03:52:02.167419Z"
    }
   },
   "source": [
    "# Create a DataFrame to store results\n",
    "results = pd.DataFrame.from_dict(results, orient='index')"
   ],
   "outputs": [],
   "execution_count": 10
  },
  {
   "metadata": {
    "ExecuteTime": {
     "end_time": "2024-12-05T03:52:02.185933Z",
     "start_time": "2024-12-05T03:52:02.183317Z"
    }
   },
   "cell_type": "code",
   "source": [
    "# Display results\n",
    "print(results)"
   ],
   "outputs": [
    {
     "name": "stdout",
     "output_type": "stream",
     "text": [
      "                      Train RMSE      Test RMSE      Train MAE       Test MAE  \\\n",
      "Linear Regression  218101.136298  225950.787519  139426.014972  144890.054491   \n",
      "SVR                218101.136298  225950.787519  139426.014972  144890.054491   \n",
      "Random Forest      218101.136298  225950.787519  139426.014972  144890.054491   \n",
      "XGBoost            218101.136298  225950.787519  139426.014972  144890.054491   \n",
      "\n",
      "                   Train R^2  Test R^2  \n",
      "Linear Regression   0.429354  0.466711  \n",
      "SVR                 0.429354  0.466711  \n",
      "Random Forest       0.429354  0.466711  \n",
      "XGBoost             0.429354  0.466711  \n"
     ]
    }
   ],
   "execution_count": 11
  },
  {
   "cell_type": "markdown",
   "metadata": {},
   "source": [
    "Consider what metrics you want to use to evaluate success.\n",
    "- If you think about mean squared error, can we actually relate to the amount of error?\n",
    "- Try root mean squared error so that error is closer to the original units (dollars)\n",
    "- What does RMSE do to outliers?\n",
    "- Is mean absolute error a good metric for this problem?\n",
    "- What about R^2? Adjusted R^2?\n",
    "- Briefly describe your reasons for picking the metrics you use"
   ]
  },
  {
   "cell_type": "code",
   "metadata": {
    "ExecuteTime": {
     "end_time": "2024-12-05T03:52:02.201714Z",
     "start_time": "2024-12-05T03:52:02.200111Z"
    }
   },
   "source": [
    "# gather evaluation metrics and compare results"
   ],
   "outputs": [],
   "execution_count": 12
  },
  {
   "cell_type": "markdown",
   "metadata": {},
   "source": [
    "## Feature Selection - STRETCH\n",
    "\n",
    "> **This step doesn't need to be part of your Minimum Viable Product (MVP), but its recommended you complete it if you have time!**\n",
    "\n",
    "Even with all the preprocessing we did in Notebook 1, you probably still have a lot of features. Are they all important for prediction?\n",
    "\n",
    "Investigate some feature selection algorithms (Lasso, RFE, Forward/Backward Selection)\n",
    "- Perform feature selection to get a reduced subset of your original features\n",
    "- Refit your models with this reduced dimensionality - how does performance change on your chosen metrics?\n",
    "- Based on this, should you include feature selection in your final pipeline? Explain\n",
    "\n",
    "Remember, feature selection often doesn't directly improve performance, but if performance remains the same, a simpler model is often preferrable. \n",
    "\n"
   ]
  },
  {
   "cell_type": "code",
   "metadata": {
    "ExecuteTime": {
     "end_time": "2024-12-05T03:52:02.211796Z",
     "start_time": "2024-12-05T03:52:02.210169Z"
    }
   },
   "source": [
    "# perform feature selection \n",
    "# refit models\n",
    "# gather evaluation metrics and compare to the previous step (full feature set)"
   ],
   "outputs": [],
   "execution_count": 13
  },
  {
   "cell_type": "markdown",
   "metadata": {},
   "source": []
  }
 ],
 "metadata": {
  "kernelspec": {
   "display_name": "Python 3 (ipykernel)",
   "language": "python",
   "name": "python3"
  },
  "language_info": {
   "codemirror_mode": {
    "name": "ipython",
    "version": 3
   },
   "file_extension": ".py",
   "mimetype": "text/x-python",
   "name": "python",
   "nbconvert_exporter": "python",
   "pygments_lexer": "ipython3",
   "version": "3.12.7"
  }
 },
 "nbformat": 4,
 "nbformat_minor": 2
}
