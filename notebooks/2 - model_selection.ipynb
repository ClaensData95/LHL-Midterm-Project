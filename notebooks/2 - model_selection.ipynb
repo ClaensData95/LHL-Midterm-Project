{
 "cells": [
  {
   "cell_type": "markdown",
   "metadata": {},
   "source": [
    "## Model Selection\n",
    "\n",
    "This notebook should include preliminary and baseline modeling.\n",
    "- Try as many different models as possible.\n",
    "- Don't worry about hyperparameter tuning or cross validation here.\n",
    "- Ideas include:\n",
    "    - linear regression\n",
    "    - support vector machines\n",
    "    - random forest\n",
    "    - xgboost"
   ]
  },
  {
   "cell_type": "code",
   "metadata": {},
   "source": [
    "import pandas as pd\n",
    "from sklearn.preprocessing import StandardScaler\n",
    "from sklearn.linear_model import LinearRegression\n",
    "from sklearn.svm import SVR\n",
    "from sklearn.ensemble import RandomForestRegressor\n",
    "from xgboost import XGBRegressor\n",
    "from functions_variables import evaluate_model"
   ],
   "outputs": [],
   "execution_count": null
  },
  {
   "cell_type": "code",
   "metadata": {},
   "source": [
    "# Storage path for processed data\n",
    "processed_data_path = '../data/processed/'\n",
    "# List of dataset names\n",
    "set_names = ['X_train', 'X_test', 'y_train', 'y_test']\n",
    "# Initialize dictionary to store datasets\n",
    "datasets = {}\n",
    "# Load the datasets\n",
    "for i in set_names:\n",
    "    datasets[i] = pd.read_csv(f'{processed_data_path + i}.csv')\n",
    "    print(f'{i} shape:', datasets[i].shape)"
   ],
   "outputs": [],
   "execution_count": null
  },
  {
   "cell_type": "code",
   "metadata": {},
   "source": [
    "# Initialize scaler for features\n",
    "scaler_features = StandardScaler()\n",
    "# Initialize scaler for target\n",
    "scaler_target = StandardScaler()"
   ],
   "outputs": [],
   "execution_count": null
  },
  {
   "metadata": {},
   "cell_type": "code",
   "source": [
    "# Initialize dictionary to store scaled datasets\n",
    "ds_scaled = {\n",
    "    # Scale X_train and X_test\n",
    "    'X_train': scaler_features.fit_transform(datasets['X_train']),\n",
    "    'X_test': scaler_features.transform(datasets['X_test']),\n",
    "    # Fit scaler on y_train and scale both y_train and y_test\n",
    "    'y_train': scaler_target.fit_transform(\n",
    "        datasets['y_train'].values.reshape(-1, 1)\n",
    "    ).flatten(),\n",
    "    'y_test': scaler_target.transform(\n",
    "        datasets['y_test'].values.reshape(-1, 1))\n",
    "    .flatten()\n",
    "}"
   ],
   "outputs": [],
   "execution_count": null
  },
  {
   "metadata": {},
   "cell_type": "code",
   "source": [
    "#Debug: Verify scaling\n",
    "for i in set_names:\n",
    "    print(f'{i}_scaled shape:', ds_scaled[i][:5])"
   ],
   "outputs": [],
   "execution_count": null
  },
  {
   "cell_type": "code",
   "metadata": {},
   "source": [
    "# Initialize models\n",
    "lr_model = LinearRegression()\n",
    "svr_model = SVR()\n",
    "rf_model = RandomForestRegressor(random_state=42)\n",
    "xgb_model = XGBRegressor(random_state=42)"
   ],
   "outputs": [],
   "execution_count": null
  },
  {
   "metadata": {},
   "cell_type": "code",
   "source": [
    "# Initialize dictionary to store results\n",
    "results = {}\n",
    "# List of model names\n",
    "model_names = ['Linear Regression', 'SVR', 'Random Forest', 'XGBoost']"
   ],
   "outputs": [],
   "execution_count": null
  },
  {
   "metadata": {},
   "cell_type": "code",
   "source": [
    "# Evaluate models\n",
    "for m in model_names:\n",
    "    results[m] = evaluate_model(lr_model, datasets, ds_scaled, scaler_target)"
   ],
   "outputs": [],
   "execution_count": null
  },
  {
   "metadata": {},
   "cell_type": "code",
   "source": [
    "# Display results\n",
    "for model, metrics in results.items():\n",
    "    print(f\"\\nModel: {model}\")\n",
    "    for metric_name, metric_value in metrics.items():\n",
    "        print(f\"  {metric_name}: {metric_value:.2f}\")"
   ],
   "outputs": [],
   "execution_count": null
  },
  {
   "cell_type": "code",
   "metadata": {},
   "source": [
    "# Create a DataFrame to store results\n",
    "results = pd.DataFrame.from_dict(results, orient='index')"
   ],
   "outputs": [],
   "execution_count": null
  },
  {
   "metadata": {},
   "cell_type": "code",
   "source": [
    "# Display results\n",
    "print(results)"
   ],
   "outputs": [],
   "execution_count": null
  },
  {
   "cell_type": "markdown",
   "metadata": {},
   "source": [
    "Consider what metrics you want to use to evaluate success.\n",
    "- If you think about mean squared error, can we actually relate to the amount of error?\n",
    "- Try root mean squared error so that error is closer to the original units (dollars)\n",
    "- What does RMSE do to outliers?\n",
    "- Is mean absolute error a good metric for this problem?\n",
    "- What about R^2? Adjusted R^2?\n",
    "- Briefly describe your reasons for picking the metrics you use"
   ]
  },
  {
   "cell_type": "code",
   "metadata": {},
   "source": [
    "# gather evaluation metrics and compare results"
   ],
   "outputs": [],
   "execution_count": null
  },
  {
   "cell_type": "markdown",
   "metadata": {},
   "source": [
    "## Feature Selection - STRETCH\n",
    "\n",
    "> **This step doesn't need to be part of your Minimum Viable Product (MVP), but its recommended you complete it if you have time!**\n",
    "\n",
    "Even with all the preprocessing we did in Notebook 1, you probably still have a lot of features. Are they all important for prediction?\n",
    "\n",
    "Investigate some feature selection algorithms (Lasso, RFE, Forward/Backward Selection)\n",
    "- Perform feature selection to get a reduced subset of your original features\n",
    "- Refit your models with this reduced dimensionality - how does performance change on your chosen metrics?\n",
    "- Based on this, should you include feature selection in your final pipeline? Explain\n",
    "\n",
    "Remember, feature selection often doesn't directly improve performance, but if performance remains the same, a simpler model is often preferrable. \n",
    "\n"
   ]
  },
  {
   "cell_type": "code",
   "metadata": {},
   "source": [
    "# perform feature selection \n",
    "# refit models\n",
    "# gather evaluation metrics and compare to the previous step (full feature set)"
   ],
   "outputs": [],
   "execution_count": null
  },
  {
   "cell_type": "markdown",
   "metadata": {},
   "source": []
  }
 ],
 "metadata": {
  "kernelspec": {
   "display_name": "Python 3 (ipykernel)",
   "language": "python",
   "name": "python3"
  },
  "language_info": {
   "codemirror_mode": {
    "name": "ipython",
    "version": 3
   },
   "file_extension": ".py",
   "mimetype": "text/x-python",
   "name": "python",
   "nbconvert_exporter": "python",
   "pygments_lexer": "ipython3",
   "version": "3.12.7"
  }
 },
 "nbformat": 4,
 "nbformat_minor": 2
}
