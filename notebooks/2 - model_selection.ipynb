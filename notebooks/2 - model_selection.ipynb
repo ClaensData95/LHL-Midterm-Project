{
 "cells": [
  {
   "cell_type": "markdown",
   "metadata": {},
   "source": [
    "## Model Selection\n",
    "\n",
    "This notebook should include preliminary and baseline modeling.\n",
    "- Try as many different models as possible.\n",
    "- Don't worry about hyperparameter tuning or cross validation here.\n",
    "- Ideas include:\n",
    "    - linear regression\n",
    "    - support vector machines\n",
    "    - random forest\n",
    "    - xgboost"
   ]
  },
  {
   "cell_type": "code",
   "execution_count": 1,
   "metadata": {},
   "outputs": [],
   "source": [
    "import pandas as pd\n",
    "import numpy as np\n",
    "from sklearn.preprocessing import StandardScaler\n",
    "from sklearn.linear_model import LinearRegression\n",
    "from sklearn.svm import SVR\n",
    "from sklearn.ensemble import RandomForestRegressor\n",
    "from xgboost import XGBRegressor\n",
    "from functions_variables import evaluate_model\n",
    "import joblib\n",
    "\n"
   ]
  },
  {
   "cell_type": "code",
   "execution_count": 2,
   "metadata": {},
   "outputs": [],
   "source": [
    "# Load the datasets\n",
    "X_train = pd.read_csv('../data/processed/X_train.csv')\n",
    "X_test = pd.read_csv('../data/processed/X_test.csv')\n",
    "Y_train = pd.read_csv('../data/processed/Y_train.csv').squeeze()\n",
    "Y_test = pd.read_csv('../data/processed/Y_test.csv').squeeze()\n"
   ]
  },
  {
   "cell_type": "code",
   "execution_count": 3,
   "metadata": {},
   "outputs": [
    {
     "name": "stdout",
     "output_type": "stream",
     "text": [
      "X_train shape: (4511, 22)\n",
      "X_test shape: (1128, 22)\n",
      "y_train shape: (4511,)\n",
      "y_test shape: (1128,)\n"
     ]
    }
   ],
   "source": [
    "print(\"X_train shape:\", X_train.shape)\n",
    "print(\"X_test shape:\", X_test.shape)\n",
    "print(\"y_train shape:\", Y_train.shape)\n",
    "print(\"y_test shape:\", Y_test.shape)"
   ]
  },
  {
   "cell_type": "code",
   "execution_count": 4,
   "metadata": {},
   "outputs": [
    {
     "name": "stdout",
     "output_type": "stream",
     "text": [
      "Scaled X_train sample:\n",
      "    description_baths  description_beds  description_garage  description_sqft  \\\n",
      "0           1.712950          0.589797            0.722632          0.310417   \n",
      "1           0.685544         -0.218642           -0.120782         -0.459942   \n",
      "2           0.685544          0.589797            0.722632          0.739957   \n",
      "3           0.685544          0.589797            1.566046          0.703170   \n",
      "4          -1.369266         -0.218642           -0.964195         -0.569220   \n",
      "\n",
      "   description_stories  description_year_built  year_sold  year_listed  \\\n",
      "0             2.223663                0.876046   0.734568    -0.089851   \n",
      "1             0.657307                1.494672   0.734568    -0.089851   \n",
      "2             0.657307                1.072881   0.734568    -0.089851   \n",
      "3            -0.909049                0.763568   0.734568    -0.089851   \n",
      "4            -0.909049               -2.160848   0.734568    -0.089851   \n",
      "\n",
      "   days_on_market  city_frequency  state_frequency  \n",
      "0       -0.134212       -0.172481        -0.061801  \n",
      "1       -0.823337        0.530149         0.176512  \n",
      "2       -0.424370       -0.373232        -1.094491  \n",
      "3       -0.206752       -2.481121         0.931170  \n",
      "4       -0.714528        0.580336         0.653138  \n",
      "Scaled X_test sample:\n",
      "    description_baths  description_beds  description_garage  description_sqft  \\\n",
      "0          -0.341861         -0.218642            0.722632         -0.598433   \n",
      "1           2.740355          0.589797            0.722632          2.903885   \n",
      "2           1.712950          0.589797            0.722632         -0.255450   \n",
      "3          -0.341861         -0.218642            0.722632         -0.347417   \n",
      "4          -0.341861         -0.218642           -0.964195         -0.442630   \n",
      "\n",
      "   description_stories  description_year_built  year_sold  year_listed  \\\n",
      "0            -0.909049                1.297836  -1.361344    -0.089851   \n",
      "1             2.223663               -1.176669   0.734568    -0.089851   \n",
      "2             2.223663                1.044762  -1.361344    -0.089851   \n",
      "3            -0.909049                1.354075   0.734568    -0.089851   \n",
      "4            -0.909049                0.876046   0.734568    -0.089851   \n",
      "\n",
      "   days_on_market  city_frequency  state_frequency  \n",
      "0       -0.442505        0.705806         0.454543  \n",
      "1        0.319159       -0.172481        -0.061801  \n",
      "2        0.065271       -0.573984        -0.101520  \n",
      "3       -0.950281        0.053364        -0.458990  \n",
      "4       -0.714528       -0.072105        -0.776741  \n",
      "y_train_scaled sample: [ 0.4292904   0.07946856 -0.06253833 -0.15259148 -0.73100979]\n",
      "y_test_scaled sample: [-0.62710231  5.2263524  -0.02097534  0.46392623 -0.78296353]\n"
     ]
    }
   ],
   "source": [
    "# Initialize scaler for features\n",
    "scaler_features = StandardScaler()\n",
    "\n",
    "# List of columns to scale\n",
    "columns_to_scale = [\n",
    "    'description_baths', 'description_beds', 'description_garage',\n",
    "    'description_sqft', 'description_stories', 'description_year_built',\n",
    "    'year_sold', 'year_listed', 'days_on_market', 'city_frequency', 'state_frequency'\n",
    "]\n",
    "\n",
    "# Scale features for train and test sets\n",
    "X_train_scaled = X_train.copy()\n",
    "X_test_scaled = X_test.copy()\n",
    "X_train_scaled[columns_to_scale] = scaler_features.fit_transform(X_train[columns_to_scale])\n",
    "X_test_scaled[columns_to_scale] = scaler_features.transform(X_test[columns_to_scale])\n",
    "\n",
    "# Debug: Verify scaled features\n",
    "print(\"Scaled X_train sample:\\n\", X_train_scaled[columns_to_scale].head())\n",
    "print(\"Scaled X_test sample:\\n\", X_test_scaled[columns_to_scale].head())\n",
    "\n",
    "# Scale target variable\n",
    "scaler_target = StandardScaler()\n",
    "y_train_scaled = scaler_target.fit_transform(Y_train.values.reshape(-1, 1)).flatten()\n",
    "y_test_scaled = scaler_target.transform(Y_test.values.reshape(-1, 1)).flatten()\n",
    "\n",
    "# Debug: Verify scaled target\n",
    "print(\"y_train_scaled sample:\", y_train_scaled[:5])\n",
    "print(\"y_test_scaled sample:\", y_test_scaled[:5])\n"
   ]
  },
  {
   "cell_type": "code",
   "execution_count": null,
   "metadata": {},
   "outputs": [],
   "source": []
  },
  {
   "cell_type": "code",
   "execution_count": 5,
   "metadata": {},
   "outputs": [
    {
     "name": "stdout",
     "output_type": "stream",
     "text": [
      "LinearRegression:\n",
      "  Train RMSE: $218347.61, Test RMSE: $226088.63\n",
      "  Train MAE: $139473.13, Test MAE: $145219.73\n",
      "  Train R^2: 0.43, Test R^2: 0.47\n",
      "SVR:\n",
      "  Train RMSE: $129658.54, Test RMSE: $152767.27\n",
      "  Train MAE: $58267.05, Test MAE: $71677.26\n",
      "  Train R^2: 0.80, Test R^2: 0.76\n",
      "RandomForestRegressor:\n",
      "  Train RMSE: $16687.72, Test RMSE: $32964.70\n",
      "  Train MAE: $5060.30, Test MAE: $11235.00\n",
      "  Train R^2: 1.00, Test R^2: 0.99\n",
      "XGBRegressor:\n",
      "  Train RMSE: $12189.43, Test RMSE: $31491.04\n",
      "  Train MAE: $8020.11, Test MAE: $12429.57\n",
      "  Train R^2: 1.00, Test R^2: 0.99\n",
      "\n",
      "Model: Linear Regression\n",
      "  Train RMSE: 218347.61\n",
      "  Test RMSE: 226088.63\n",
      "  Train MAE: 139473.13\n",
      "  Test MAE: 145219.73\n",
      "  Train R^2: 0.43\n",
      "  Test R^2: 0.47\n",
      "\n",
      "Model: SVR\n",
      "  Train RMSE: 129658.54\n",
      "  Test RMSE: 152767.27\n",
      "  Train MAE: 58267.05\n",
      "  Test MAE: 71677.26\n",
      "  Train R^2: 0.80\n",
      "  Test R^2: 0.76\n",
      "\n",
      "Model: Random Forest\n",
      "  Train RMSE: 16687.72\n",
      "  Test RMSE: 32964.70\n",
      "  Train MAE: 5060.30\n",
      "  Test MAE: 11235.00\n",
      "  Train R^2: 1.00\n",
      "  Test R^2: 0.99\n",
      "\n",
      "Model: XGBoost\n",
      "  Train RMSE: 12189.43\n",
      "  Test RMSE: 31491.04\n",
      "  Train MAE: 8020.11\n",
      "  Test MAE: 12429.57\n",
      "  Train R^2: 1.00\n",
      "  Test R^2: 0.99\n"
     ]
    }
   ],
   "source": [
    "\n",
    "\n",
    "models = {\n",
    "    'Linear Regression': LinearRegression(),\n",
    "    'SVR': SVR(),\n",
    "    'Random Forest': RandomForestRegressor(random_state=42),\n",
    "    'XGBoost': XGBRegressor(random_state=42)\n",
    "}\n",
    "\n",
    "results = {}\n",
    "\n",
    "for model_name, model in models.items():\n",
    "    results[model_name] = evaluate_model(model, X_train_scaled, X_test_scaled, y_train_scaled, y_test_scaled, scaler_target)\n",
    "\n",
    "# Display results\n",
    "for model_name, metrics in results.items():\n",
    "    print(f\"\\nModel: {model_name}\")\n",
    "    for metric_name, metric_value in metrics.items():\n",
    "        print(f\"  {metric_name}: {metric_value:.2f}\")"
   ]
  },
  {
   "cell_type": "code",
   "execution_count": 6,
   "metadata": {},
   "outputs": [
    {
     "name": "stdout",
     "output_type": "stream",
     "text": [
      "X_train_scaled shape: (4511, 22)\n",
      "X_test_scaled shape: (1128, 22)\n",
      "y_train_scaled shape: (4511,)\n",
      "y_test_scaled shape: (1128,)\n"
     ]
    }
   ],
   "source": [
    "print(\"X_train_scaled shape:\", X_train_scaled.shape)\n",
    "print(\"X_test_scaled shape:\", X_test_scaled.shape)\n",
    "print(\"y_train_scaled shape:\", y_train_scaled.shape)\n",
    "print(\"y_test_scaled shape:\", y_test_scaled.shape)"
   ]
  },
  {
   "cell_type": "code",
   "execution_count": 7,
   "metadata": {},
   "outputs": [
    {
     "name": "stdout",
     "output_type": "stream",
     "text": [
      "                      Train RMSE      Test RMSE      Train MAE       Test MAE  \\\n",
      "Linear Regression  218347.610879  226088.633093  139473.132691  145219.734116   \n",
      "SVR                129658.539475  152767.268657   58267.049321   71677.264279   \n",
      "Random Forest       16687.718803   32964.704225    5060.303272   11235.000434   \n",
      "XGBoost             12189.433116   31491.038541    8020.111574   12429.567944   \n",
      "\n",
      "                   Train R^2  Test R^2  \n",
      "Linear Regression   0.428063  0.466060  \n",
      "SVR                 0.798324  0.756222  \n",
      "Random Forest       0.996659  0.988649  \n",
      "XGBoost             0.998218  0.989641  \n"
     ]
    }
   ],
   "source": [
    "# Create a DataFrame to store results\n",
    "results = pd.DataFrame.from_dict(results, orient='index')\n",
    "print(results)"
   ]
  },
  {
   "cell_type": "markdown",
   "metadata": {},
   "source": [
    "Consider what metrics you want to use to evaluate success.\n",
    "- If you think about mean squared error, can we actually relate to the amount of error?\n",
    "- Try root mean squared error so that error is closer to the original units (dollars)\n",
    "- What does RMSE do to outliers?\n",
    "- Is mean absolute error a good metric for this problem?\n",
    "- What about R^2? Adjusted R^2?\n",
    "- Briefly describe your reasons for picking the metrics you use"
   ]
  },
  {
   "cell_type": "code",
   "execution_count": 8,
   "metadata": {},
   "outputs": [],
   "source": [
    "# gather evaluation metrics and compare results"
   ]
  },
  {
   "cell_type": "markdown",
   "metadata": {},
   "source": [
    "## Feature Selection - STRETCH\n",
    "\n",
    "> **This step doesn't need to be part of your Minimum Viable Product (MVP), but its recommended you complete it if you have time!**\n",
    "\n",
    "Even with all the preprocessing we did in Notebook 1, you probably still have a lot of features. Are they all important for prediction?\n",
    "\n",
    "Investigate some feature selection algorithms (Lasso, RFE, Forward/Backward Selection)\n",
    "- Perform feature selection to get a reduced subset of your original features\n",
    "- Refit your models with this reduced dimensionality - how does performance change on your chosen metrics?\n",
    "- Based on this, should you include feature selection in your final pipeline? Explain\n",
    "\n",
    "Remember, feature selection often doesn't directly improve performance, but if performance remains the same, a simpler model is often preferrable. \n",
    "\n"
   ]
  },
  {
   "cell_type": "code",
   "execution_count": 9,
   "metadata": {},
   "outputs": [],
   "source": [
    "# perform feature selection \n",
    "# refit models\n",
    "# gather evaluation metrics and compare to the previous step (full feature set)"
   ]
  },
  {
   "cell_type": "markdown",
   "metadata": {},
   "source": []
  }
 ],
 "metadata": {
  "kernelspec": {
   "display_name": "test_env",
   "language": "python",
   "name": "test_env"
  },
  "language_info": {
   "codemirror_mode": {
    "name": "ipython",
    "version": 3
   },
   "file_extension": ".py",
   "mimetype": "text/x-python",
   "name": "python",
   "nbconvert_exporter": "python",
   "pygments_lexer": "ipython3",
   "version": "3.12.7"
  }
 },
 "nbformat": 4,
 "nbformat_minor": 2
}
