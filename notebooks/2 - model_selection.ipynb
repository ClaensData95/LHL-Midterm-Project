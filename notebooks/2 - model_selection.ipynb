{
 "cells": [
  {
   "cell_type": "markdown",
   "metadata": {},
   "source": [
    "## Model Selection\n",
    "\n",
    "This notebook should include preliminary and baseline modeling.\n",
    "- Try as many different models as possible.\n",
    "- Don't worry about hyperparameter tuning or cross validation here.\n",
    "- Ideas include:\n",
    "    - linear regression\n",
    "    - support vector machines\n",
    "    - random forest\n",
    "    - xgboost"
   ]
  },
  {
   "cell_type": "code",
   "execution_count": 1,
   "metadata": {},
   "outputs": [],
   "source": [
    "import pandas as pd\n",
    "import numpy as np\n",
    "from sklearn.preprocessing import StandardScaler\n",
    "import joblib\n",
    "\n"
   ]
  },
  {
   "cell_type": "code",
   "execution_count": 2,
   "metadata": {},
   "outputs": [],
   "source": [
    "# Load the datasets\n",
    "X_train = pd.read_csv('../data/processed/X_train.csv')\n",
    "X_test = pd.read_csv('../data/processed/X_test.csv')\n",
    "y_train = pd.read_csv('../data/processed/y_train.csv').squeeze()\n",
    "y_test = pd.read_csv('../data/processed/y_test.csv').squeeze()\n"
   ]
  },
  {
   "cell_type": "code",
   "execution_count": 3,
   "metadata": {},
   "outputs": [
    {
     "name": "stdout",
     "output_type": "stream",
     "text": [
      "X_train shape: (4511, 22)\n",
      "X_test shape: (1128, 22)\n",
      "y_train shape: (4511,)\n",
      "y_test shape: (1128,)\n"
     ]
    }
   ],
   "source": [
    "print(\"X_train shape:\", X_train.shape)\n",
    "print(\"X_test shape:\", X_test.shape)\n",
    "print(\"y_train shape:\", y_train.shape)\n",
    "print(\"y_test shape:\", y_test.shape)"
   ]
  },
  {
   "cell_type": "code",
   "execution_count": 4,
   "metadata": {},
   "outputs": [
    {
     "name": "stdout",
     "output_type": "stream",
     "text": [
      "X_train_scaled sample: [[-0.08985057  0.7345682  -0.13421245 -0.17248103 -0.06180149  0.87604566\n",
      "   2.23632519  1.72131451  0.58999561  0.72263244  0.31041699  0.84261948\n",
      "   0.93619224  1.04327653  1.03819281  1.32500965 -0.57129204  1.8749708\n",
      "  -0.51409505 -0.47765194 -0.44513006 -0.45119313]\n",
      " [-0.08985057  0.7345682  -0.82333722  0.53014859  0.17651155  1.4946721\n",
      "   0.6674196   0.69108368 -0.21847043 -0.12078152 -0.45994152 -1.18677532\n",
      "   0.93619224 -0.95851864 -0.96321222 -0.75471148  1.75041823 -0.53334164\n",
      "  -0.51409505 -0.47765194 -0.44513006 -0.45119313]\n",
      " [-0.08985057  0.7345682  -0.42437025 -0.37323235 -1.09449133  1.07288134\n",
      "   0.6674196   0.69108368  0.58999561  0.72263244  0.73995678 -1.18677532\n",
      "   0.93619224  1.04327653  1.03819281  1.32500965  1.75041823 -0.53334164\n",
      "   1.94516558 -0.47765194 -0.44513006 -0.45119313]\n",
      " [-0.08985057  0.7345682  -0.2067519  -2.48112122  0.93116951  0.76356812\n",
      "  -0.90148599  0.69108368  0.58999561  1.5660464   0.70316999  0.84261948\n",
      "   0.93619224 -0.95851864  1.03819281  1.32500965 -0.57129204 -0.53334164\n",
      "  -0.51409505  2.09357467 -0.44513006 -0.45119313]\n",
      " [-0.08985057  0.7345682  -0.71452805  0.58033642  0.65313763 -2.16084779\n",
      "  -0.90148599 -1.36937797 -0.21847043 -0.96419547 -0.5692199  -1.18677532\n",
      "   0.93619224  1.04327653 -0.96321222  1.32500965 -0.57129204 -0.53334164\n",
      "  -0.51409505 -0.47765194 -0.44513006 -0.45119313]]\n",
      "X_test_scaled sample: [[-0.08985057 -1.36134398 -0.44250511  0.705806    0.45454343  1.29783641\n",
      "  -0.90148599 -0.33914715 -0.21847043  0.72263244 -0.59843293 -1.18677532\n",
      "   0.93619224 -0.95851864 -0.96321222  1.32500965 -0.57129204  1.8749708\n",
      "   1.94516558 -0.47765194  2.24653442 -0.45119313]\n",
      " [-0.08985057  0.7345682   0.3191591  -0.17248103 -0.06180149 -1.17666936\n",
      "   2.23632519  2.75154534  0.58999561  0.72263244  2.90388517  0.84261948\n",
      "   0.93619224  1.04327653  1.03819281  1.32500965 -0.57129204  1.8749708\n",
      "   1.94516558  2.09357467  2.24653442 -0.45119313]\n",
      " [-0.08985057 -1.36134398  0.06527103 -0.57398367 -0.10152033  1.04476196\n",
      "   2.23632519  1.72131451  0.58999561  0.72263244 -0.25545028  0.84261948\n",
      "  -1.06815669 -0.95851864  1.03819281 -0.75471148 -0.57129204 -0.53334164\n",
      "  -0.51409505 -0.47765194 -0.44513006 -0.45119313]\n",
      " [-0.08985057  0.7345682  -0.95028126  0.0533642  -0.45898989  1.35407518\n",
      "  -0.90148599 -0.33914715 -0.21847043  0.72263244 -0.34741724 -1.18677532\n",
      "  -1.06815669 -0.95851864 -0.96321222 -0.75471148  1.75041823 -0.53334164\n",
      "   1.94516558 -0.47765194 -0.44513006 -0.45119313]\n",
      " [-0.08985057  0.7345682  -0.71452805 -0.07210537 -0.77674061  0.87604566\n",
      "  -0.90148599 -0.33914715 -0.21847043 -0.96419547 -0.44263009  0.84261948\n",
      "   0.93619224 -0.95851864  1.03819281 -0.75471148 -0.57129204  1.8749708\n",
      "  -0.51409505  2.09357467  2.24653442 -0.45119313]]\n"
     ]
    }
   ],
   "source": [
    "\n",
    "\n",
    "# Initialize scaler for features\n",
    "scaler_features = StandardScaler()\n",
    "\n",
    "# Scale X_train and X_test\n",
    "X_train_scaled = scaler_features.fit_transform(X_train)\n",
    "X_test_scaled = scaler_features.transform(X_test)\n",
    "\n",
    "# Debug: Verify scaling\n",
    "print(\"X_train_scaled sample:\", X_train_scaled[:5])\n",
    "print(\"X_test_scaled sample:\", X_test_scaled[:5])"
   ]
  },
  {
   "cell_type": "code",
   "execution_count": 5,
   "metadata": {},
   "outputs": [
    {
     "name": "stdout",
     "output_type": "stream",
     "text": [
      "y_train_scaled sample: [ 0.4292904   0.07946856 -0.06253833 -0.15259148 -0.73100979]\n",
      "y_test_scaled sample: [-0.62710231  5.2263524  -0.02097534  0.46392623 -0.78296353]\n"
     ]
    }
   ],
   "source": [
    "# Initialize scaler for target\n",
    "scaler_target = StandardScaler()\n",
    "\n",
    "# Fit scaler on y_train and scale both y_train and y_test\n",
    "y_train_scaled = scaler_target.fit_transform(y_train.values.reshape(-1, 1)).flatten()\n",
    "y_test_scaled = scaler_target.transform(y_test.values.reshape(-1, 1)).flatten()\n",
    "\n",
    "# Debug: Verify scaling\n",
    "print(\"y_train_scaled sample:\", y_train_scaled[:5])\n",
    "print(\"y_test_scaled sample:\", y_test_scaled[:5])"
   ]
  },
  {
   "cell_type": "code",
   "execution_count": 7,
   "metadata": {},
   "outputs": [
    {
     "name": "stdout",
     "output_type": "stream",
     "text": [
      "LinearRegression:\n",
      "  Train RMSE: $218025.10, Test RMSE: $225732.64\n",
      "  Train MAE: $139356.19, Test MAE: $144963.06\n",
      "  Train R^2: 0.43, Test R^2: 0.47\n",
      "SVR:\n",
      "  Train RMSE: $107672.00, Test RMSE: $126313.37\n",
      "  Train MAE: $49811.57, Test MAE: $60180.12\n",
      "  Train R^2: 0.86, Test R^2: 0.83\n",
      "RandomForestRegressor:\n",
      "  Train RMSE: $16008.09, Test RMSE: $36654.86\n",
      "  Train MAE: $4856.74, Test MAE: $11692.58\n",
      "  Train R^2: 1.00, Test R^2: 0.99\n",
      "XGBRegressor:\n",
      "  Train RMSE: $11071.82, Test RMSE: $32057.07\n",
      "  Train MAE: $7502.54, Test MAE: $12078.16\n",
      "  Train R^2: 1.00, Test R^2: 0.99\n",
      "\n",
      "Model: Linear Regression\n",
      "  Train RMSE: 218025.10\n",
      "  Test RMSE: 225732.64\n",
      "  Train MAE: 139356.19\n",
      "  Test MAE: 144963.06\n",
      "  Train R^2: 0.43\n",
      "  Test R^2: 0.47\n",
      "\n",
      "Model: SVR\n",
      "  Train RMSE: 107672.00\n",
      "  Test RMSE: 126313.37\n",
      "  Train MAE: 49811.57\n",
      "  Test MAE: 60180.12\n",
      "  Train R^2: 0.86\n",
      "  Test R^2: 0.83\n",
      "\n",
      "Model: Random Forest\n",
      "  Train RMSE: 16008.09\n",
      "  Test RMSE: 36654.86\n",
      "  Train MAE: 4856.74\n",
      "  Test MAE: 11692.58\n",
      "  Train R^2: 1.00\n",
      "  Test R^2: 0.99\n",
      "\n",
      "Model: XGBoost\n",
      "  Train RMSE: 11071.82\n",
      "  Test RMSE: 32057.07\n",
      "  Train MAE: 7502.54\n",
      "  Test MAE: 12078.16\n",
      "  Train R^2: 1.00\n",
      "  Test R^2: 0.99\n"
     ]
    }
   ],
   "source": [
    "from sklearn.linear_model import LinearRegression\n",
    "from sklearn.svm import SVR\n",
    "from sklearn.ensemble import RandomForestRegressor\n",
    "from xgboost import XGBRegressor\n",
    "from sklearn.metrics import root_mean_squared_error, mean_absolute_error, r2_score\n",
    "from functions_variables import evaluate_model\n",
    "\n",
    "# Initialize models\n",
    "lr_model = LinearRegression()\n",
    "svr_model = SVR()\n",
    "rf_model = RandomForestRegressor(random_state=42)\n",
    "xgb_model = XGBRegressor(random_state=42)\n",
    "\n",
    "\n",
    "# Evaluate models\n",
    "results = {}\n",
    "results['Linear Regression'] = evaluate_model(lr_model, X_train_scaled, X_test_scaled, y_train_scaled, y_test_scaled, scaler_target)\n",
    "results['SVR'] = evaluate_model(svr_model, X_train_scaled, X_test_scaled, y_train_scaled, y_test_scaled, scaler_target)\n",
    "results['Random Forest'] = evaluate_model(rf_model, X_train_scaled, X_test_scaled, y_train_scaled, y_test_scaled, scaler_target)\n",
    "results['XGBoost'] = evaluate_model(xgb_model, X_train_scaled, X_test_scaled, y_train_scaled, y_test_scaled, scaler_target)\n",
    "\n",
    "# Display results\n",
    "for model, metrics in results.items():\n",
    "    print(f\"\\nModel: {model}\")\n",
    "    for metric_name, metric_value in metrics.items():\n",
    "        print(f\"  {metric_name}: {metric_value:.2f}\")"
   ]
  },
  {
   "cell_type": "code",
   "execution_count": null,
   "metadata": {},
   "outputs": [],
   "source": [
    "# Create a DataFrame to store results\n",
    "results = pd.DataFrame.from_dict(results, orient='index')\n",
    "print(results)"
   ]
  },
  {
   "cell_type": "markdown",
   "metadata": {},
   "source": [
    "Consider what metrics you want to use to evaluate success.\n",
    "- If you think about mean squared error, can we actually relate to the amount of error?\n",
    "- Try root mean squared error so that error is closer to the original units (dollars)\n",
    "- What does RMSE do to outliers?\n",
    "- Is mean absolute error a good metric for this problem?\n",
    "- What about R^2? Adjusted R^2?\n",
    "- Briefly describe your reasons for picking the metrics you use"
   ]
  },
  {
   "cell_type": "code",
   "execution_count": null,
   "metadata": {},
   "outputs": [],
   "source": [
    "# gather evaluation metrics and compare results"
   ]
  },
  {
   "cell_type": "markdown",
   "metadata": {},
   "source": [
    "## Feature Selection - STRETCH\n",
    "\n",
    "> **This step doesn't need to be part of your Minimum Viable Product (MVP), but its recommended you complete it if you have time!**\n",
    "\n",
    "Even with all the preprocessing we did in Notebook 1, you probably still have a lot of features. Are they all important for prediction?\n",
    "\n",
    "Investigate some feature selection algorithms (Lasso, RFE, Forward/Backward Selection)\n",
    "- Perform feature selection to get a reduced subset of your original features\n",
    "- Refit your models with this reduced dimensionality - how does performance change on your chosen metrics?\n",
    "- Based on this, should you include feature selection in your final pipeline? Explain\n",
    "\n",
    "Remember, feature selection often doesn't directly improve performance, but if performance remains the same, a simpler model is often preferrable. \n",
    "\n"
   ]
  },
  {
   "cell_type": "code",
   "execution_count": null,
   "metadata": {},
   "outputs": [],
   "source": [
    "# perform feature selection \n",
    "# refit models\n",
    "# gather evaluation metrics and compare to the previous step (full feature set)"
   ]
  },
  {
   "cell_type": "markdown",
   "metadata": {},
   "source": []
  }
 ],
 "metadata": {
  "kernelspec": {
   "display_name": "test_env",
   "language": "python",
   "name": "test_env"
  },
  "language_info": {
   "codemirror_mode": {
    "name": "ipython",
    "version": 3
   },
   "file_extension": ".py",
   "mimetype": "text/x-python",
   "name": "python",
   "nbconvert_exporter": "python",
   "pygments_lexer": "ipython3",
   "version": "3.12.7"
  }
 },
 "nbformat": 4,
 "nbformat_minor": 2
}
